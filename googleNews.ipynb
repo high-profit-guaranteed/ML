{
 "cells": [
  {
   "cell_type": "code",
   "execution_count": null,
   "metadata": {},
   "outputs": [],
   "source": [
    "\n"
   ]
  },
  {
   "cell_type": "code",
   "execution_count": 1,
   "metadata": {},
   "outputs": [],
   "source": [
    "import requests\n",
    "import feedparser\n",
    "from goose3 import Goose\n",
    "from bs4 import BeautifulSoup\n",
    "from selenium import webdriver"
   ]
  },
  {
   "cell_type": "code",
   "execution_count": 2,
   "metadata": {},
   "outputs": [],
   "source": [
    "# Get links from google news\n",
    "def getLinks(keyword, term):\n",
    "  url = 'https://news.google.com/rss/search?q=' + keyword + '+when:' + str(term) + 'd&hl=en-US&gl=US&ceid=US:en'\n",
    "  text = getData(url)\n",
    "  datas = feedparser.parse(text).entries\n",
    "  links = []\n",
    "  driver = webdriver.Chrome()\n",
    "  for data in datas:\n",
    "    driver.get(data.link)\n",
    "    soup = BeautifulSoup(driver.page_source, 'html.parser')\n",
    "    link = soup.find('a').text\n",
    "    # print(link)\n",
    "    links.append(link)\n",
    "  driver.quit()\n",
    "  return links"
   ]
  },
  {
   "cell_type": "code",
   "execution_count": 3,
   "metadata": {},
   "outputs": [
    {
     "name": "stderr",
     "output_type": "stream",
     "text": [
      "Publish date Wed, 03/20/2024 — 20:56 could not be resolved to UTC\n",
      "Publish date Wed, 03/20/2024 — 16:18 could not be resolved to UTC\n"
     ]
    },
    {
     "name": "stdout",
     "output_type": "stream",
     "text": [
      "38\n"
     ]
    }
   ],
   "source": [
    "\n",
    "# Get data from link\n",
    "def getData(link):\n",
    "  response = requests.get(link)\n",
    "  return response.text\n",
    "\n",
    "# Get article from link\n",
    "def getArticle(link, g):\n",
    "  article = g.extract(url=link)\n",
    "  return article.cleaned_text\n",
    "\n",
    "# Get news from keyword and term\n",
    "def getNews(keyword, term):\n",
    "  g = Goose({'browser_user_agent': 'Mozilla/5.0 (Macintosh; Intel Mac OS X 10_7_2)', 'parser_class':'soup', 'strict': False})\n",
    "  links = getLinks(keyword, term)\n",
    "  articles = []\n",
    "  for link in links:\n",
    "    articles.append(getArticle(link, g))\n",
    "  return articles\n",
    "\n",
    "# # ---------------\n",
    "# # | 파일로 저장하기 |\n",
    "# # ---------------\n",
    "# # getLinks 로 구글 뉴스에서 키워드와 기간을 입력받아 해당 기사들의 링크를 반환\n",
    "# g = Goose({'browser_user_agent': 'Mozilla/5.0 (Macintosh; Intel Mac OS X 10_7_2)', 'parser_class':'soup', 'strict': False})\n",
    "# links = getLinks('TSLA', 1)\n",
    "\n",
    "# # getArticle 로 링크를 입력받아 해당 기사의 본문을 ./articles/ 폴더 안에 파일로 저장\n",
    "# for index in range(len(links)):\n",
    "#   with open('./articles/' + str(index+1) + '.txt', 'w') as outfile:\n",
    "#     outfile.write(getArticle(links[index], g))\n",
    "\n",
    "# ----------------\n",
    "# | 리스트로 저장하기 |\n",
    "# ----------------\n",
    "articles = getNews('TSLA', 1)\n",
    "# print(articles)\n",
    "print(len(articles))"
   ]
  },
  {
   "cell_type": "code",
   "execution_count": null,
   "metadata": {},
   "outputs": [],
   "source": []
  },
  {
   "cell_type": "code",
   "execution_count": null,
   "metadata": {},
   "outputs": [],
   "source": []
  },
  {
   "cell_type": "code",
   "execution_count": null,
   "metadata": {},
   "outputs": [],
   "source": []
  },
  {
   "cell_type": "code",
   "execution_count": null,
   "metadata": {},
   "outputs": [],
   "source": []
  },
  {
   "cell_type": "code",
   "execution_count": null,
   "metadata": {},
   "outputs": [],
   "source": []
  },
  {
   "cell_type": "code",
   "execution_count": null,
   "metadata": {},
   "outputs": [],
   "source": []
  }
 ],
 "metadata": {
  "kernelspec": {
   "display_name": "Python 3 (ipykernel)",
   "language": "python",
   "name": "python3"
  },
  "language_info": {
   "codemirror_mode": {
    "name": "ipython",
    "version": 3
   },
   "file_extension": ".py",
   "mimetype": "text/x-python",
   "name": "python",
   "nbconvert_exporter": "python",
   "pygments_lexer": "ipython3",
   "version": "3.8.18"
  }
 },
 "nbformat": 4,
 "nbformat_minor": 4
}
