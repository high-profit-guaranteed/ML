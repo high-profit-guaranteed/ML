{
 "cells": [
  {
   "cell_type": "code",
   "execution_count": null,
   "metadata": {},
   "outputs": [],
   "source": []
  },
  {
   "cell_type": "code",
   "execution_count": 1,
   "metadata": {},
   "outputs": [
    {
     "ename": "ModuleNotFoundError",
     "evalue": "No module named 'requests'",
     "output_type": "error",
     "traceback": [
      "\u001b[1;31m---------------------------------------------------------------------------\u001b[0m",
      "\u001b[1;31mModuleNotFoundError\u001b[0m                       Traceback (most recent call last)",
      "Cell \u001b[1;32mIn[1], line 1\u001b[0m\n\u001b[1;32m----> 1\u001b[0m \u001b[38;5;28;01mimport\u001b[39;00m \u001b[38;5;21;01mrequests\u001b[39;00m\n\u001b[0;32m      2\u001b[0m \u001b[38;5;28;01mimport\u001b[39;00m \u001b[38;5;21;01mfeedparser\u001b[39;00m\n\u001b[0;32m      3\u001b[0m \u001b[38;5;28;01mfrom\u001b[39;00m \u001b[38;5;21;01mgoose3\u001b[39;00m \u001b[38;5;28;01mimport\u001b[39;00m Goose\n",
      "\u001b[1;31mModuleNotFoundError\u001b[0m: No module named 'requests'"
     ]
    }
   ],
   "source": [
    "import requests\n",
    "import feedparser\n",
    "from goose3 import Goose\n",
    "from bs4 import BeautifulSoup\n",
    "from selenium import webdriver"
   ]
  },
  {
   "cell_type": "code",
   "execution_count": 2,
   "metadata": {},
   "outputs": [],
   "source": [
    "# Get links from google news\n",
    "def getLinks(keyword, term):\n",
    "  url = 'https://news.google.com/rss/search?q=' + keyword + '+when:' + str(term) + 'd&hl=en-US&gl=US&ceid=US:en'\n",
    "  text = getData(url)\n",
    "  datas = feedparser.parse(text).entries\n",
    "  links = []\n",
    "  driver = webdriver.Chrome()\n",
    "  for data in datas:\n",
    "    driver.get(data.link)\n",
    "    soup = BeautifulSoup(driver.page_source, 'html.parser')\n",
    "    link = soup.find('a').text\n",
    "    # print(link)\n",
    "    links.append(link)\n",
    "  driver.quit()\n",
    "  return links"
   ]
  },
  {
   "cell_type": "code",
   "execution_count": null,
   "metadata": {},
   "outputs": [],
   "source": [
    "\n",
    "# Get data from link\n",
    "def getData(link):\n",
    "  response = requests.get(link)\n",
    "  return response.text\n",
    "\n",
    "# Get article from link\n",
    "def getArticle(link, g):\n",
    "  article = g.extract(url=link)\n",
    "  return article.cleaned_text\n",
    "\n",
    "# Get news from keyword and term\n",
    "def getNews(keyword, term):\n",
    "  g = Goose({'browser_user_agent': 'Mozilla/5.0 (Macintosh; Intel Mac OS X 10_7_2)', 'parser_class':'soup', 'strict': False})\n",
    "  links = getLinks(keyword, term)\n",
    "  articles = []\n",
    "  for link in links:\n",
    "    articles.append(getArticle(link, g))\n",
    "  return articles\n",
    "\n",
    "# # ---------------\n",
    "# # | 파일로 저장하기 |\n",
    "# # ---------------\n",
    "# # getLinks 로 구글 뉴스에서 키워드와 기간을 입력받아 해당 기사들의 링크를 반환\n",
    "# g = Goose({'browser_user_agent': 'Mozilla/5.0 (Macintosh; Intel Mac OS X 10_7_2)', 'parser_class':'soup', 'strict': False})\n",
    "# links = getLinks('TSLA', 1)\n",
    "\n",
    "# # getArticle 로 링크를 입력받아 해당 기사의 본문을 ./articles/ 폴더 안에 파일로 저장\n",
    "# for index in range(len(links)):\n",
    "#   with open('./articles/' + str(index+1) + '.txt', 'w') as outfile:\n",
    "#     outfile.write(getArticle(links[index], g))\n",
    "\n",
    "# ----------------\n",
    "# | 리스트로 저장하기 |\n",
    "# ----------------\n",
    "articles = getNews('TSLA', 1)\n",
    "# print(articles)\n",
    "print(len(articles))"
   ]
  },
  {
   "cell_type": "code",
   "execution_count": null,
   "metadata": {},
   "outputs": [],
   "source": []
  },
  {
   "cell_type": "code",
   "execution_count": null,
   "metadata": {},
   "outputs": [],
   "source": []
  },
  {
   "cell_type": "code",
   "execution_count": null,
   "metadata": {},
   "outputs": [],
   "source": []
  },
  {
   "cell_type": "code",
   "execution_count": null,
   "metadata": {},
   "outputs": [],
   "source": []
  },
  {
   "cell_type": "code",
   "execution_count": null,
   "metadata": {},
   "outputs": [],
   "source": []
  },
  {
   "cell_type": "code",
   "execution_count": null,
   "metadata": {},
   "outputs": [],
   "source": []
  }
 ],
 "metadata": {
  "kernelspec": {
   "display_name": "venv",
   "language": "python",
   "name": "python3"
  },
  "language_info": {
   "codemirror_mode": {
    "name": "ipython",
    "version": 3
   },
   "file_extension": ".py",
   "mimetype": "text/x-python",
   "name": "python",
   "nbconvert_exporter": "python",
   "pygments_lexer": "ipython3",
   "version": "3.8.10"
  }
 },
 "nbformat": 4,
 "nbformat_minor": 2
}
