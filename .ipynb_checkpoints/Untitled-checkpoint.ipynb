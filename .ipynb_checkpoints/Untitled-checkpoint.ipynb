{
 "cells": [
  {
   "cell_type": "code",
   "execution_count": 9,
   "id": "5a3c2d92-425c-4ce1-a30b-27afc3246dbc",
   "metadata": {},
   "outputs": [
    {
     "name": "stdout",
     "output_type": "stream",
     "text": [
      "Collecting plotly\n",
      "  Downloading plotly-5.20.0-py3-none-any.whl.metadata (7.0 kB)\n",
      "Collecting tenacity>=6.2.0 (from plotly)\n",
      "  Downloading tenacity-8.2.3-py3-none-any.whl.metadata (1.0 kB)\n",
      "Requirement already satisfied: packaging in c:\\users\\chan\\anaconda3\\envs\\ng\\lib\\site-packages (from plotly) (23.2)\n",
      "Downloading plotly-5.20.0-py3-none-any.whl (15.7 MB)\n",
      "   ---------------------------------------- 0.0/15.7 MB ? eta -:--:--\n",
      "   ---------------------------------------- 0.0/15.7 MB 1.4 MB/s eta 0:00:12\n",
      "   ---------------------------------------- 0.2/15.7 MB 2.4 MB/s eta 0:00:07\n",
      "    --------------------------------------- 0.3/15.7 MB 2.6 MB/s eta 0:00:06\n",
      "   - -------------------------------------- 0.5/15.7 MB 2.6 MB/s eta 0:00:06\n",
      "   - -------------------------------------- 0.6/15.7 MB 3.0 MB/s eta 0:00:06\n",
      "   -- ------------------------------------- 0.9/15.7 MB 3.2 MB/s eta 0:00:05\n",
      "   -- ------------------------------------- 1.1/15.7 MB 3.5 MB/s eta 0:00:05\n",
      "   --- ------------------------------------ 1.5/15.7 MB 4.1 MB/s eta 0:00:04\n",
      "   ----- ---------------------------------- 2.0/15.7 MB 5.0 MB/s eta 0:00:03\n",
      "   ------ --------------------------------- 2.6/15.7 MB 5.7 MB/s eta 0:00:03\n",
      "   ------- -------------------------------- 3.1/15.7 MB 6.2 MB/s eta 0:00:03\n",
      "   --------- ------------------------------ 3.7/15.7 MB 6.7 MB/s eta 0:00:02\n",
      "   ---------- ----------------------------- 4.2/15.7 MB 7.1 MB/s eta 0:00:02\n",
      "   ------------ --------------------------- 4.7/15.7 MB 7.4 MB/s eta 0:00:02\n",
      "   ------------- -------------------------- 5.3/15.7 MB 7.7 MB/s eta 0:00:02\n",
      "   -------------- ------------------------- 5.8/15.7 MB 7.9 MB/s eta 0:00:02\n",
      "   ---------------- ----------------------- 6.4/15.7 MB 8.3 MB/s eta 0:00:02\n",
      "   ------------------ --------------------- 7.1/15.7 MB 8.6 MB/s eta 0:00:02\n",
      "   ------------------- -------------------- 7.8/15.7 MB 8.8 MB/s eta 0:00:01\n",
      "   --------------------- ------------------ 8.4/15.7 MB 8.9 MB/s eta 0:00:01\n",
      "   ---------------------- ----------------- 8.9/15.7 MB 9.1 MB/s eta 0:00:01\n",
      "   ------------------------ --------------- 9.5/15.7 MB 9.2 MB/s eta 0:00:01\n",
      "   ------------------------- -------------- 10.0/15.7 MB 9.3 MB/s eta 0:00:01\n",
      "   --------------------------- ------------ 10.7/15.7 MB 10.7 MB/s eta 0:00:01\n",
      "   ---------------------------- ----------- 11.3/15.7 MB 11.5 MB/s eta 0:00:01\n",
      "   ------------------------------ --------- 11.8/15.7 MB 11.7 MB/s eta 0:00:01\n",
      "   ------------------------------- -------- 12.3/15.7 MB 11.7 MB/s eta 0:00:01\n",
      "   -------------------------------- ------- 12.9/15.7 MB 11.7 MB/s eta 0:00:01\n",
      "   ---------------------------------- ----- 13.4/15.7 MB 11.7 MB/s eta 0:00:01\n",
      "   ----------------------------------- ---- 14.0/15.7 MB 11.7 MB/s eta 0:00:01\n",
      "   ------------------------------------ --- 14.5/15.7 MB 11.7 MB/s eta 0:00:01\n",
      "   -------------------------------------- - 15.1/15.7 MB 11.7 MB/s eta 0:00:01\n",
      "   ---------------------------------------  15.6/15.7 MB 11.7 MB/s eta 0:00:01\n",
      "   ---------------------------------------- 15.7/15.7 MB 11.3 MB/s eta 0:00:00\n",
      "Downloading tenacity-8.2.3-py3-none-any.whl (24 kB)\n",
      "Installing collected packages: tenacity, plotly\n",
      "Successfully installed plotly-5.20.0 tenacity-8.2.3\n",
      "Note: you may need to restart the kernel to use updated packages.\n"
     ]
    }
   ],
   "source": [
    "pip install plotly"
   ]
  },
  {
   "cell_type": "code",
   "execution_count": 10,
   "id": "4876ae92-d5de-4f81-9004-d6c718bec079",
   "metadata": {},
   "outputs": [],
   "source": [
    "import FinanceDataReader as fdr"
   ]
  },
  {
   "cell_type": "code",
   "execution_count": 14,
   "id": "7ab0d071-ebe7-4f7b-8863-8d16c4c5d5c9",
   "metadata": {},
   "outputs": [
    {
     "data": {
      "text/plain": [
       "'MMM'"
      ]
     },
     "execution_count": 14,
     "metadata": {},
     "output_type": "execute_result"
    }
   ],
   "source": [
    "sp_df = fdr.StockListing('S&P500')\n"
   ]
  },
  {
   "cell_type": "code",
   "execution_count": 15,
   "id": "0d0cec2d-8e90-49fc-b27e-0f997ab96755",
   "metadata": {},
   "outputs": [
    {
     "data": {
      "text/plain": [
       "0       MMM\n",
       "1       AOS\n",
       "2       ABT\n",
       "3      ABBV\n",
       "4       ACN\n",
       "       ... \n",
       "498     XYL\n",
       "499     YUM\n",
       "500    ZBRA\n",
       "501     ZBH\n",
       "502     ZTS\n",
       "Name: Symbol, Length: 503, dtype: object"
      ]
     },
     "execution_count": 15,
     "metadata": {},
     "output_type": "execute_result"
    }
   ],
   "source": [
    "sp_name = sp_df['Symbol']\n",
    "sp_name"
   ]
  },
  {
   "cell_type": "code",
   "execution_count": null,
   "id": "068bceef-81c2-488d-85fc-93f4268e1767",
   "metadata": {},
   "outputs": [],
   "source": []
  }
 ],
 "metadata": {
  "kernelspec": {
   "display_name": "Python 3 (ipykernel)",
   "language": "python",
   "name": "python3"
  },
  "language_info": {
   "codemirror_mode": {
    "name": "ipython",
    "version": 3
   },
   "file_extension": ".py",
   "mimetype": "text/x-python",
   "name": "python",
   "nbconvert_exporter": "python",
   "pygments_lexer": "ipython3",
   "version": "3.8.18"
  }
 },
 "nbformat": 4,
 "nbformat_minor": 5
}
