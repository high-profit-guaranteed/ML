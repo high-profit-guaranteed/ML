{
 "cells": [
  {
   "cell_type": "code",
   "execution_count": 1,
   "metadata": {},
   "outputs": [],
   "source": [
    "from numba import cuda\n",
    "\n",
    "device = cuda.get_current_device(); device.reset()"
   ]
  },
  {
   "cell_type": "code",
   "execution_count": 2,
   "metadata": {
    "id": "Qww_V4GzhgoS"
   },
   "outputs": [],
   "source": [
    "import pandas as pd\n",
    "import numpy as np\n",
    "import tensorflow as tf\n",
    "import matplotlib.pyplot as plt\n",
    "from sklearn.model_selection import train_test_split\n",
    "import re\n",
    "import os\n",
    "import urllib.request\n",
    "from tqdm import tqdm\n",
    "from transformers import BertTokenizer, TFBertForSequenceClassification"
   ]
  },
  {
   "cell_type": "code",
   "execution_count": 3,
   "metadata": {
    "colab": {
     "base_uri": "https://localhost:8080/"
    },
    "id": "8wC6Rnt6iCxB",
    "outputId": "46096ec2-749d-4374-9ab4-1775c4fe8d68"
   },
   "outputs": [
    {
     "data": {
      "text/plain": [
       "('finance_data.csv', <http.client.HTTPMessage at 0x2401bc23400>)"
      ]
     },
     "execution_count": 3,
     "metadata": {},
     "output_type": "execute_result"
    }
   ],
   "source": [
    "urllib.request.urlretrieve(\"https://raw.githubusercontent.com/ukairia777/finance_sentiment_corpus/main/finance_data.csv\", filename=\"finance_data.csv\")"
   ]
  },
  {
   "cell_type": "code",
   "execution_count": 4,
   "metadata": {
    "colab": {
     "base_uri": "https://localhost:8080/"
    },
    "id": "1aP870z3iRc_",
    "outputId": "116c453f-517f-49cd-e220-c93a5aa0a9e3"
   },
   "outputs": [
    {
     "name": "stdout",
     "output_type": "stream",
     "text": [
      "총 샘플의 수 : 4846\n"
     ]
    }
   ],
   "source": [
    "data = pd.read_csv('finance_data.csv')\n",
    "print('총 샘플의 수 :',len(data))"
   ]
  },
  {
   "cell_type": "code",
   "execution_count": 5,
   "metadata": {
    "colab": {
     "base_uri": "https://localhost:8080/",
     "height": 424
    },
    "id": "9eEIdsG4iZYf",
    "outputId": "a2478e59-e507-4cbc-e2d9-e7d1a75e5e61"
   },
   "outputs": [
    {
     "data": {
      "text/html": [
       "<div>\n",
       "<style scoped>\n",
       "    .dataframe tbody tr th:only-of-type {\n",
       "        vertical-align: middle;\n",
       "    }\n",
       "\n",
       "    .dataframe tbody tr th {\n",
       "        vertical-align: top;\n",
       "    }\n",
       "\n",
       "    .dataframe thead th {\n",
       "        text-align: right;\n",
       "    }\n",
       "</style>\n",
       "<table border=\"1\" class=\"dataframe\">\n",
       "  <thead>\n",
       "    <tr style=\"text-align: right;\">\n",
       "      <th></th>\n",
       "      <th>labels</th>\n",
       "      <th>sentence</th>\n",
       "      <th>kor_sentence</th>\n",
       "    </tr>\n",
       "  </thead>\n",
       "  <tbody>\n",
       "    <tr>\n",
       "      <th>0</th>\n",
       "      <td>neutral</td>\n",
       "      <td>According to Gran, the company has no plans to...</td>\n",
       "      <td>Gran에 따르면, 그 회사는 회사가 성장하고 있는 곳이지만, 모든 생산을 러시아로...</td>\n",
       "    </tr>\n",
       "    <tr>\n",
       "      <th>1</th>\n",
       "      <td>neutral</td>\n",
       "      <td>Technopolis plans to develop in stages an area...</td>\n",
       "      <td>테크노폴리스는 컴퓨터 기술과 통신 분야에서 일하는 회사들을 유치하기 위해 10만 평...</td>\n",
       "    </tr>\n",
       "    <tr>\n",
       "      <th>2</th>\n",
       "      <td>negative</td>\n",
       "      <td>The international electronic industry company ...</td>\n",
       "      <td>국제 전자산업 회사인 엘코텍은 탈린 공장에서 수십 명의 직원을 해고했으며, 이전의 ...</td>\n",
       "    </tr>\n",
       "    <tr>\n",
       "      <th>3</th>\n",
       "      <td>positive</td>\n",
       "      <td>With the new production plant the company woul...</td>\n",
       "      <td>새로운 생산공장으로 인해 회사는 예상되는 수요 증가를 충족시킬 수 있는 능력을 증가...</td>\n",
       "    </tr>\n",
       "    <tr>\n",
       "      <th>4</th>\n",
       "      <td>positive</td>\n",
       "      <td>According to the company's updated strategy fo...</td>\n",
       "      <td>2009-2012년 회사의 업데이트된 전략에 따르면, Basware는 20% - 4...</td>\n",
       "    </tr>\n",
       "    <tr>\n",
       "      <th>...</th>\n",
       "      <td>...</td>\n",
       "      <td>...</td>\n",
       "      <td>...</td>\n",
       "    </tr>\n",
       "    <tr>\n",
       "      <th>4841</th>\n",
       "      <td>negative</td>\n",
       "      <td>LONDON MarketWatch -- Share prices ended lower...</td>\n",
       "      <td>런던 마켓워치 -- 은행주의 반등이 FTSE 100지수의 약세를 상쇄하지 못하면서 ...</td>\n",
       "    </tr>\n",
       "    <tr>\n",
       "      <th>4842</th>\n",
       "      <td>neutral</td>\n",
       "      <td>Rinkuskiai's beer sales fell by 6.5 per cent t...</td>\n",
       "      <td>린쿠스키아의 맥주 판매량은 416만 리터로 6.5% 감소했으며 카우노 알루스의 맥주...</td>\n",
       "    </tr>\n",
       "    <tr>\n",
       "      <th>4843</th>\n",
       "      <td>negative</td>\n",
       "      <td>Operating profit fell to EUR 35.4 mn from EUR ...</td>\n",
       "      <td>영업이익은 2007년 68.8 mn에서 35.4 mn으로 떨어졌으며, 선박 판매 이...</td>\n",
       "    </tr>\n",
       "    <tr>\n",
       "      <th>4844</th>\n",
       "      <td>negative</td>\n",
       "      <td>Net sales of the Paper segment decreased to EU...</td>\n",
       "      <td>페이퍼 부문 순매출은 2008년 2분기 241.1 mn에서 2009년 2분기 221...</td>\n",
       "    </tr>\n",
       "    <tr>\n",
       "      <th>4845</th>\n",
       "      <td>negative</td>\n",
       "      <td>Sales in Finland decreased by 10.5 % in Januar...</td>\n",
       "      <td>핀란드에서의 판매는 1월에 10.5% 감소한 반면, 국외에서의 판매는 17% 감소했다.</td>\n",
       "    </tr>\n",
       "  </tbody>\n",
       "</table>\n",
       "<p>4846 rows × 3 columns</p>\n",
       "</div>"
      ],
      "text/plain": [
       "        labels                                           sentence  \\\n",
       "0      neutral  According to Gran, the company has no plans to...   \n",
       "1      neutral  Technopolis plans to develop in stages an area...   \n",
       "2     negative  The international electronic industry company ...   \n",
       "3     positive  With the new production plant the company woul...   \n",
       "4     positive  According to the company's updated strategy fo...   \n",
       "...        ...                                                ...   \n",
       "4841  negative  LONDON MarketWatch -- Share prices ended lower...   \n",
       "4842   neutral  Rinkuskiai's beer sales fell by 6.5 per cent t...   \n",
       "4843  negative  Operating profit fell to EUR 35.4 mn from EUR ...   \n",
       "4844  negative  Net sales of the Paper segment decreased to EU...   \n",
       "4845  negative  Sales in Finland decreased by 10.5 % in Januar...   \n",
       "\n",
       "                                           kor_sentence  \n",
       "0     Gran에 따르면, 그 회사는 회사가 성장하고 있는 곳이지만, 모든 생산을 러시아로...  \n",
       "1     테크노폴리스는 컴퓨터 기술과 통신 분야에서 일하는 회사들을 유치하기 위해 10만 평...  \n",
       "2     국제 전자산업 회사인 엘코텍은 탈린 공장에서 수십 명의 직원을 해고했으며, 이전의 ...  \n",
       "3     새로운 생산공장으로 인해 회사는 예상되는 수요 증가를 충족시킬 수 있는 능력을 증가...  \n",
       "4     2009-2012년 회사의 업데이트된 전략에 따르면, Basware는 20% - 4...  \n",
       "...                                                 ...  \n",
       "4841  런던 마켓워치 -- 은행주의 반등이 FTSE 100지수의 약세를 상쇄하지 못하면서 ...  \n",
       "4842  린쿠스키아의 맥주 판매량은 416만 리터로 6.5% 감소했으며 카우노 알루스의 맥주...  \n",
       "4843  영업이익은 2007년 68.8 mn에서 35.4 mn으로 떨어졌으며, 선박 판매 이...  \n",
       "4844  페이퍼 부문 순매출은 2008년 2분기 241.1 mn에서 2009년 2분기 221...  \n",
       "4845   핀란드에서의 판매는 1월에 10.5% 감소한 반면, 국외에서의 판매는 17% 감소했다.  \n",
       "\n",
       "[4846 rows x 3 columns]"
      ]
     },
     "execution_count": 5,
     "metadata": {},
     "output_type": "execute_result"
    }
   ],
   "source": [
    "data"
   ]
  },
  {
   "cell_type": "code",
   "execution_count": 6,
   "metadata": {
    "colab": {
     "base_uri": "https://localhost:8080/",
     "height": 206
    },
    "id": "t9XJj_iziaYh",
    "outputId": "106c772b-0588-4286-dd4e-e24ef30fe312"
   },
   "outputs": [
    {
     "data": {
      "text/html": [
       "<div>\n",
       "<style scoped>\n",
       "    .dataframe tbody tr th:only-of-type {\n",
       "        vertical-align: middle;\n",
       "    }\n",
       "\n",
       "    .dataframe tbody tr th {\n",
       "        vertical-align: top;\n",
       "    }\n",
       "\n",
       "    .dataframe thead th {\n",
       "        text-align: right;\n",
       "    }\n",
       "</style>\n",
       "<table border=\"1\" class=\"dataframe\">\n",
       "  <thead>\n",
       "    <tr style=\"text-align: right;\">\n",
       "      <th></th>\n",
       "      <th>labels</th>\n",
       "      <th>sentence</th>\n",
       "      <th>kor_sentence</th>\n",
       "    </tr>\n",
       "  </thead>\n",
       "  <tbody>\n",
       "    <tr>\n",
       "      <th>0</th>\n",
       "      <td>1</td>\n",
       "      <td>According to Gran, the company has no plans to...</td>\n",
       "      <td>Gran에 따르면, 그 회사는 회사가 성장하고 있는 곳이지만, 모든 생산을 러시아로...</td>\n",
       "    </tr>\n",
       "    <tr>\n",
       "      <th>1</th>\n",
       "      <td>1</td>\n",
       "      <td>Technopolis plans to develop in stages an area...</td>\n",
       "      <td>테크노폴리스는 컴퓨터 기술과 통신 분야에서 일하는 회사들을 유치하기 위해 10만 평...</td>\n",
       "    </tr>\n",
       "    <tr>\n",
       "      <th>2</th>\n",
       "      <td>0</td>\n",
       "      <td>The international electronic industry company ...</td>\n",
       "      <td>국제 전자산업 회사인 엘코텍은 탈린 공장에서 수십 명의 직원을 해고했으며, 이전의 ...</td>\n",
       "    </tr>\n",
       "    <tr>\n",
       "      <th>3</th>\n",
       "      <td>2</td>\n",
       "      <td>With the new production plant the company woul...</td>\n",
       "      <td>새로운 생산공장으로 인해 회사는 예상되는 수요 증가를 충족시킬 수 있는 능력을 증가...</td>\n",
       "    </tr>\n",
       "    <tr>\n",
       "      <th>4</th>\n",
       "      <td>2</td>\n",
       "      <td>According to the company's updated strategy fo...</td>\n",
       "      <td>2009-2012년 회사의 업데이트된 전략에 따르면, Basware는 20% - 4...</td>\n",
       "    </tr>\n",
       "  </tbody>\n",
       "</table>\n",
       "</div>"
      ],
      "text/plain": [
       "   labels                                           sentence  \\\n",
       "0       1  According to Gran, the company has no plans to...   \n",
       "1       1  Technopolis plans to develop in stages an area...   \n",
       "2       0  The international electronic industry company ...   \n",
       "3       2  With the new production plant the company woul...   \n",
       "4       2  According to the company's updated strategy fo...   \n",
       "\n",
       "                                        kor_sentence  \n",
       "0  Gran에 따르면, 그 회사는 회사가 성장하고 있는 곳이지만, 모든 생산을 러시아로...  \n",
       "1  테크노폴리스는 컴퓨터 기술과 통신 분야에서 일하는 회사들을 유치하기 위해 10만 평...  \n",
       "2  국제 전자산업 회사인 엘코텍은 탈린 공장에서 수십 명의 직원을 해고했으며, 이전의 ...  \n",
       "3  새로운 생산공장으로 인해 회사는 예상되는 수요 증가를 충족시킬 수 있는 능력을 증가...  \n",
       "4  2009-2012년 회사의 업데이트된 전략에 따르면, Basware는 20% - 4...  "
      ]
     },
     "execution_count": 6,
     "metadata": {},
     "output_type": "execute_result"
    }
   ],
   "source": [
    "data['labels'] = data['labels'].replace(['negative', 'neutral', 'positive'],[0, 1, 2])\n",
    "data[:5]"
   ]
  },
  {
   "cell_type": "code",
   "execution_count": 7,
   "metadata": {
    "id": "RNyrW0ynix3O"
   },
   "outputs": [],
   "source": [
    "del data['kor_sentence']"
   ]
  },
  {
   "cell_type": "code",
   "execution_count": 8,
   "metadata": {
    "colab": {
     "base_uri": "https://localhost:8080/",
     "height": 206
    },
    "id": "5Pz9t4U2i35Q",
    "outputId": "6e08d869-c443-4852-e716-de82dd89d79b"
   },
   "outputs": [
    {
     "data": {
      "text/html": [
       "<div>\n",
       "<style scoped>\n",
       "    .dataframe tbody tr th:only-of-type {\n",
       "        vertical-align: middle;\n",
       "    }\n",
       "\n",
       "    .dataframe tbody tr th {\n",
       "        vertical-align: top;\n",
       "    }\n",
       "\n",
       "    .dataframe thead th {\n",
       "        text-align: right;\n",
       "    }\n",
       "</style>\n",
       "<table border=\"1\" class=\"dataframe\">\n",
       "  <thead>\n",
       "    <tr style=\"text-align: right;\">\n",
       "      <th></th>\n",
       "      <th>labels</th>\n",
       "      <th>sentence</th>\n",
       "    </tr>\n",
       "  </thead>\n",
       "  <tbody>\n",
       "    <tr>\n",
       "      <th>0</th>\n",
       "      <td>1</td>\n",
       "      <td>According to Gran, the company has no plans to...</td>\n",
       "    </tr>\n",
       "    <tr>\n",
       "      <th>1</th>\n",
       "      <td>1</td>\n",
       "      <td>Technopolis plans to develop in stages an area...</td>\n",
       "    </tr>\n",
       "    <tr>\n",
       "      <th>2</th>\n",
       "      <td>0</td>\n",
       "      <td>The international electronic industry company ...</td>\n",
       "    </tr>\n",
       "    <tr>\n",
       "      <th>3</th>\n",
       "      <td>2</td>\n",
       "      <td>With the new production plant the company woul...</td>\n",
       "    </tr>\n",
       "    <tr>\n",
       "      <th>4</th>\n",
       "      <td>2</td>\n",
       "      <td>According to the company's updated strategy fo...</td>\n",
       "    </tr>\n",
       "  </tbody>\n",
       "</table>\n",
       "</div>"
      ],
      "text/plain": [
       "   labels                                           sentence\n",
       "0       1  According to Gran, the company has no plans to...\n",
       "1       1  Technopolis plans to develop in stages an area...\n",
       "2       0  The international electronic industry company ...\n",
       "3       2  With the new production plant the company woul...\n",
       "4       2  According to the company's updated strategy fo..."
      ]
     },
     "execution_count": 8,
     "metadata": {},
     "output_type": "execute_result"
    }
   ],
   "source": [
    "data[:5]"
   ]
  },
  {
   "cell_type": "code",
   "execution_count": 9,
   "metadata": {
    "colab": {
     "base_uri": "https://localhost:8080/"
    },
    "id": "b7EW631ui4OA",
    "outputId": "405773f2-398f-40d4-9268-18ee9a42cfde"
   },
   "outputs": [
    {
     "name": "stdout",
     "output_type": "stream",
     "text": [
      "<class 'pandas.core.frame.DataFrame'>\n",
      "RangeIndex: 4846 entries, 0 to 4845\n",
      "Data columns (total 2 columns):\n",
      " #   Column    Non-Null Count  Dtype \n",
      "---  ------    --------------  ----- \n",
      " 0   labels    4846 non-null   int64 \n",
      " 1   sentence  4846 non-null   object\n",
      "dtypes: int64(1), object(1)\n",
      "memory usage: 75.8+ KB\n"
     ]
    }
   ],
   "source": [
    "data.info()"
   ]
  },
  {
   "cell_type": "code",
   "execution_count": 10,
   "metadata": {
    "colab": {
     "base_uri": "https://localhost:8080/"
    },
    "id": "JkvjJa1Ji7Eo",
    "outputId": "746dca80-c891-4b66-9cc1-1a52ce1e8285"
   },
   "outputs": [
    {
     "name": "stdout",
     "output_type": "stream",
     "text": [
      "결측값 여부 : False\n"
     ]
    }
   ],
   "source": [
    "print('결측값 여부 :',data.isnull().values.any())"
   ]
  },
  {
   "cell_type": "code",
   "execution_count": 11,
   "metadata": {
    "colab": {
     "base_uri": "https://localhost:8080/"
    },
    "id": "UoAyW4Lii8xX",
    "outputId": "13f3a4dc-b16d-4d12-b5c9-5e83f17433a2"
   },
   "outputs": [
    {
     "name": "stdout",
     "output_type": "stream",
     "text": [
      "kor_sentence 열의 유니크한 값 : 4838\n"
     ]
    }
   ],
   "source": [
    "print('kor_sentence 열의 유니크한 값 :',data['sentence'].nunique())"
   ]
  },
  {
   "cell_type": "code",
   "execution_count": 12,
   "metadata": {
    "id": "cks_QRBfjKBU"
   },
   "outputs": [],
   "source": [
    "duplicate = data[data.duplicated()]"
   ]
  },
  {
   "cell_type": "code",
   "execution_count": 13,
   "metadata": {
    "colab": {
     "base_uri": "https://localhost:8080/",
     "height": 237
    },
    "id": "ZwkZ7T0BjL7d",
    "outputId": "11531591-3b61-48f3-cf1d-6379c6126c16"
   },
   "outputs": [
    {
     "data": {
      "text/html": [
       "<div>\n",
       "<style scoped>\n",
       "    .dataframe tbody tr th:only-of-type {\n",
       "        vertical-align: middle;\n",
       "    }\n",
       "\n",
       "    .dataframe tbody tr th {\n",
       "        vertical-align: top;\n",
       "    }\n",
       "\n",
       "    .dataframe thead th {\n",
       "        text-align: right;\n",
       "    }\n",
       "</style>\n",
       "<table border=\"1\" class=\"dataframe\">\n",
       "  <thead>\n",
       "    <tr style=\"text-align: right;\">\n",
       "      <th></th>\n",
       "      <th>labels</th>\n",
       "      <th>sentence</th>\n",
       "    </tr>\n",
       "  </thead>\n",
       "  <tbody>\n",
       "    <tr>\n",
       "      <th>1099</th>\n",
       "      <td>1</td>\n",
       "      <td>The issuer is solely responsible for the conte...</td>\n",
       "    </tr>\n",
       "    <tr>\n",
       "      <th>1416</th>\n",
       "      <td>1</td>\n",
       "      <td>The report profiles 614 companies including ma...</td>\n",
       "    </tr>\n",
       "    <tr>\n",
       "      <th>2396</th>\n",
       "      <td>1</td>\n",
       "      <td>Ahlstrom's share is quoted on the NASDAQ OMX H...</td>\n",
       "    </tr>\n",
       "    <tr>\n",
       "      <th>2567</th>\n",
       "      <td>1</td>\n",
       "      <td>SSH Communications Security Corporation is hea...</td>\n",
       "    </tr>\n",
       "    <tr>\n",
       "      <th>3094</th>\n",
       "      <td>1</td>\n",
       "      <td>Proha Plc ( Euronext :7327 ) announced today (...</td>\n",
       "    </tr>\n",
       "    <tr>\n",
       "      <th>3206</th>\n",
       "      <td>1</td>\n",
       "      <td>The company serves customers in various indust...</td>\n",
       "    </tr>\n",
       "  </tbody>\n",
       "</table>\n",
       "</div>"
      ],
      "text/plain": [
       "      labels                                           sentence\n",
       "1099       1  The issuer is solely responsible for the conte...\n",
       "1416       1  The report profiles 614 companies including ma...\n",
       "2396       1  Ahlstrom's share is quoted on the NASDAQ OMX H...\n",
       "2567       1  SSH Communications Security Corporation is hea...\n",
       "3094       1  Proha Plc ( Euronext :7327 ) announced today (...\n",
       "3206       1  The company serves customers in various indust..."
      ]
     },
     "execution_count": 13,
     "metadata": {},
     "output_type": "execute_result"
    }
   ],
   "source": [
    "duplicate"
   ]
  },
  {
   "cell_type": "code",
   "execution_count": 14,
   "metadata": {
    "colab": {
     "base_uri": "https://localhost:8080/"
    },
    "id": "prnB1Yg5jBt2",
    "outputId": "363bcc24-83d2-4a2a-a974-76e30c05ed35"
   },
   "outputs": [
    {
     "name": "stdout",
     "output_type": "stream",
     "text": [
      "총 샘플의 수 : 4838\n"
     ]
    }
   ],
   "source": [
    "# 중복 제거\n",
    "data.drop_duplicates(subset=['sentence'], inplace=True)\n",
    "print('총 샘플의 수 :',len(data))"
   ]
  },
  {
   "cell_type": "code",
   "execution_count": 15,
   "metadata": {
    "colab": {
     "base_uri": "https://localhost:8080/",
     "height": 283
    },
    "id": "StnulPDqjuKX",
    "outputId": "66783d85-69c2-42de-b4c4-edeabfbf5ab8"
   },
   "outputs": [
    {
     "data": {
      "text/plain": [
       "<AxesSubplot:>"
      ]
     },
     "execution_count": 15,
     "metadata": {},
     "output_type": "execute_result"
    },
    {
     "data": {
      "image/png": "[encoded data removed]",
      "text/plain": [
       "<Figure size 640x480 with 1 Axes>"
      ]
     },
     "metadata": {},
     "output_type": "display_data"
    }
   ],
   "source": [
    "data['labels'].value_counts().plot(kind='bar')"
   ]
  },
  {
   "cell_type": "code",
   "execution_count": 16,
   "metadata": {
    "colab": {
     "base_uri": "https://localhost:8080/"
    },
    "id": "dP_BFHlojwiN",
    "outputId": "eec1d8c5-18bb-497c-eeef-0b2388e6b4f9"
   },
   "outputs": [
    {
     "name": "stdout",
     "output_type": "stream",
     "text": [
      "레이블의 분포\n",
      "   labels  count\n",
      "0       0    604\n",
      "1       1   2872\n",
      "2       2   1362\n"
     ]
    }
   ],
   "source": [
    "print('레이블의 분포')\n",
    "print(data.groupby('labels').size().reset_index(name='count'))"
   ]
  },
  {
   "cell_type": "code",
   "execution_count": 17,
   "metadata": {
    "colab": {
     "base_uri": "https://localhost:8080/"
    },
    "id": "CfQdxYqMj3o8",
    "outputId": "17f3d6aa-c22d-49c8-d9a2-c0e8b1ded3e6"
   },
   "outputs": [
    {
     "name": "stdout",
     "output_type": "stream",
     "text": [
      "중립의 비율 = 59.363%\n",
      "긍정의 비율 = 28.152%\n",
      "부정의 비율 = 12.484%\n"
     ]
    }
   ],
   "source": [
    "print(f'중립의 비율 = {round(data[\"labels\"].value_counts()[1]/len(data) * 100,3)}%')\n",
    "print(f'긍정의 비율 = {round(data[\"labels\"].value_counts()[2]/len(data) * 100,3)}%')\n",
    "print(f'부정의 비율 = {round(data[\"labels\"].value_counts()[0]/len(data) * 100,3)}%')"
   ]
  },
  {
   "cell_type": "code",
   "execution_count": 18,
   "metadata": {
    "colab": {
     "base_uri": "https://localhost:8080/",
     "height": 424
    },
    "id": "jKKmVrDRk46e",
    "outputId": "f3cb104a-891f-49af-aa4d-ac2fdc5a948b"
   },
   "outputs": [
    {
     "data": {
      "text/html": [
       "<div>\n",
       "<style scoped>\n",
       "    .dataframe tbody tr th:only-of-type {\n",
       "        vertical-align: middle;\n",
       "    }\n",
       "\n",
       "    .dataframe tbody tr th {\n",
       "        vertical-align: top;\n",
       "    }\n",
       "\n",
       "    .dataframe thead th {\n",
       "        text-align: right;\n",
       "    }\n",
       "</style>\n",
       "<table border=\"1\" class=\"dataframe\">\n",
       "  <thead>\n",
       "    <tr style=\"text-align: right;\">\n",
       "      <th></th>\n",
       "      <th>labels</th>\n",
       "      <th>sentence</th>\n",
       "    </tr>\n",
       "  </thead>\n",
       "  <tbody>\n",
       "    <tr>\n",
       "      <th>0</th>\n",
       "      <td>1</td>\n",
       "      <td>According to Gran, the company has no plans to...</td>\n",
       "    </tr>\n",
       "    <tr>\n",
       "      <th>1</th>\n",
       "      <td>1</td>\n",
       "      <td>Technopolis plans to develop in stages an area...</td>\n",
       "    </tr>\n",
       "    <tr>\n",
       "      <th>2</th>\n",
       "      <td>0</td>\n",
       "      <td>The international electronic industry company ...</td>\n",
       "    </tr>\n",
       "    <tr>\n",
       "      <th>3</th>\n",
       "      <td>2</td>\n",
       "      <td>With the new production plant the company woul...</td>\n",
       "    </tr>\n",
       "    <tr>\n",
       "      <th>4</th>\n",
       "      <td>2</td>\n",
       "      <td>According to the company's updated strategy fo...</td>\n",
       "    </tr>\n",
       "    <tr>\n",
       "      <th>...</th>\n",
       "      <td>...</td>\n",
       "      <td>...</td>\n",
       "    </tr>\n",
       "    <tr>\n",
       "      <th>4841</th>\n",
       "      <td>0</td>\n",
       "      <td>LONDON MarketWatch -- Share prices ended lower...</td>\n",
       "    </tr>\n",
       "    <tr>\n",
       "      <th>4842</th>\n",
       "      <td>1</td>\n",
       "      <td>Rinkuskiai's beer sales fell by 6.5 per cent t...</td>\n",
       "    </tr>\n",
       "    <tr>\n",
       "      <th>4843</th>\n",
       "      <td>0</td>\n",
       "      <td>Operating profit fell to EUR 35.4 mn from EUR ...</td>\n",
       "    </tr>\n",
       "    <tr>\n",
       "      <th>4844</th>\n",
       "      <td>0</td>\n",
       "      <td>Net sales of the Paper segment decreased to EU...</td>\n",
       "    </tr>\n",
       "    <tr>\n",
       "      <th>4845</th>\n",
       "      <td>0</td>\n",
       "      <td>Sales in Finland decreased by 10.5 % in Januar...</td>\n",
       "    </tr>\n",
       "  </tbody>\n",
       "</table>\n",
       "<p>4838 rows × 2 columns</p>\n",
       "</div>"
      ],
      "text/plain": [
       "      labels                                           sentence\n",
       "0          1  According to Gran, the company has no plans to...\n",
       "1          1  Technopolis plans to develop in stages an area...\n",
       "2          0  The international electronic industry company ...\n",
       "3          2  With the new production plant the company woul...\n",
       "4          2  According to the company's updated strategy fo...\n",
       "...      ...                                                ...\n",
       "4841       0  LONDON MarketWatch -- Share prices ended lower...\n",
       "4842       1  Rinkuskiai's beer sales fell by 6.5 per cent t...\n",
       "4843       0  Operating profit fell to EUR 35.4 mn from EUR ...\n",
       "4844       0  Net sales of the Paper segment decreased to EU...\n",
       "4845       0  Sales in Finland decreased by 10.5 % in Januar...\n",
       "\n",
       "[4838 rows x 2 columns]"
      ]
     },
     "execution_count": 18,
     "metadata": {},
     "output_type": "execute_result"
    }
   ],
   "source": [
    "data"
   ]
  },
  {
   "cell_type": "code",
   "execution_count": 19,
   "metadata": {
    "colab": {
     "base_uri": "https://localhost:8080/"
    },
    "id": "l8foVC2rkJtF",
    "outputId": "9c1b3112-0577-4de2-f4fc-8b94810fa4a5"
   },
   "outputs": [
    {
     "name": "stdout",
     "output_type": "stream",
     "text": [
      "본문의 개수: 4838\n",
      "레이블의 개수: 4838\n"
     ]
    }
   ],
   "source": [
    "X_data = data['sentence']\n",
    "y_data = data['labels']\n",
    "print('본문의 개수: {}'.format(len(X_data)))\n",
    "print('레이블의 개수: {}'.format(len(y_data)))"
   ]
  },
  {
   "cell_type": "code",
   "execution_count": 20,
   "metadata": {
    "id": "qmFecWmSkHiu"
   },
   "outputs": [],
   "source": [
    "X_train, X_test, y_train, y_test = train_test_split(X_data, y_data, test_size=0.2, random_state=0, stratify=y_data)"
   ]
  },
  {
   "cell_type": "code",
   "execution_count": 21,
   "metadata": {
    "colab": {
     "base_uri": "https://localhost:8080/"
    },
    "id": "HiPJQoBql2T_",
    "outputId": "40f91f9f-1719-4a8b-f30e-90d8b0918862"
   },
   "outputs": [
    {
     "name": "stdout",
     "output_type": "stream",
     "text": [
      "훈련 샘플의 개수 : 3870\n",
      "테스트 샘플의 개수 : 968\n"
     ]
    }
   ],
   "source": [
    "print('훈련 샘플의 개수 :', len(X_train))\n",
    "print('테스트 샘플의 개수 :', len(X_test))"
   ]
  },
  {
   "cell_type": "code",
   "execution_count": 22,
   "metadata": {
    "colab": {
     "base_uri": "https://localhost:8080/"
    },
    "id": "m-gTg1Z2kYK2",
    "outputId": "6d7b0f40-7067-4a54-9a0b-2cd284f5df83"
   },
   "outputs": [
    {
     "name": "stdout",
     "output_type": "stream",
     "text": [
      "--------훈련 데이터의 비율-----------\n",
      "중립 = 59.354%\n",
      "긍정 = 28.165%\n",
      "부정 = 12.481%\n"
     ]
    }
   ],
   "source": [
    "print('--------훈련 데이터의 비율-----------')\n",
    "print(f'중립 = {round(y_train.value_counts()[1]/len(y_train) * 100,3)}%')\n",
    "print(f'긍정 = {round(y_train.value_counts()[2]/len(y_train) * 100,3)}%')\n",
    "print(f'부정 = {round(y_train.value_counts()[0]/len(y_train) * 100,3)}%')"
   ]
  },
  {
   "cell_type": "code",
   "execution_count": 23,
   "metadata": {
    "colab": {
     "base_uri": "https://localhost:8080/"
    },
    "id": "6E_XYZIVkcP3",
    "outputId": "cde88dcf-6335-42ac-de86-dece02881807"
   },
   "outputs": [
    {
     "name": "stdout",
     "output_type": "stream",
     "text": [
      "--------테스트 데이터의 비율-----------\n",
      "중립 = 59.401%\n",
      "긍정 = 28.099%\n",
      "부정 = 12.5%\n"
     ]
    }
   ],
   "source": [
    "print('--------테스트 데이터의 비율-----------')\n",
    "print(f'중립 = {round(y_test.value_counts()[1]/len(y_test) * 100,3)}%')\n",
    "print(f'긍정 = {round(y_test.value_counts()[2]/len(y_test) * 100,3)}%')\n",
    "print(f'부정 = {round(y_test.value_counts()[0]/len(y_test) * 100,3)}%')"
   ]
  },
  {
   "cell_type": "code",
   "execution_count": 24,
   "metadata": {
    "id": "WqLBfWmypQ6Y"
   },
   "outputs": [],
   "source": [
    "max_seq_len = 128"
   ]
  },
  {
   "cell_type": "code",
   "execution_count": 25,
   "metadata": {
    "colab": {
     "base_uri": "https://localhost:8080/",
     "height": 145,
     "referenced_widgets": [
      "e2f057f5660a4dadbcabe267e6cbd67b",
      "6fa377506c324f3cabfdbc40fd9df7d7",
      "2c56e8a02fc7470fae07231629eda8c5",
      "9c51208e83d94de887544206f8161d6a",
      "4e5f171740a8427fa2947814d33e2f75",
      "c0dc318b293144bd99e831e3ebc16669",
      "4354a64a687c479eb081c6696135276e",
      "9ae3a8e381aa4012803ffd4ff71185a6",
      "28db0fcf67754046b25cb276864e7c9f",
      "bf07573ad6e442b8b8fa56b2536b0c9e",
      "61f9d4fd8795416f8c710a6eb280a568",
      "e8a684d715294ec58ffda8ed60fd3393",
      "c84b3dcdc336491684278761e1a3c35e",
      "d0827d9d027944219a5a6142bfd09ce3",
      "c8369e431ec14a8f934e775473dc93f0",
      "1ce07fb6604d4376a175f5f5be3dac55",
      "58edf9a1f9564882966c624c5f3c641f",
      "cef3c00910484fa6aae7aa9e7802945a",
      "4f009f0b6ec04a459d25f1af56a8dd86",
      "4a3c056d299b4f749ecac793235a1d59",
      "4ebf099c37274118b2b041a0f32f89dd",
      "f634294a18cd4fc9ac80b5bff7657a59",
      "4a73250d597745209f8c4e847aed81c2",
      "6d01eacf112748008b01d6cbd5879fa2",
      "ad1fe7da4d8e4917bc1a3160bd39cecd",
      "7df563243c1a47b8b6a097d3a827ef44",
      "1c49d58bca7f4db6badf2e48e8f20935",
      "780948229d6d4523a39ab3479600663e",
      "02580ce159364d1ab6f25a8a2268455c",
      "4e72ba59886e405db4ce5ba516220b42",
      "170869304fd1408899d1e877a607076a",
      "db01da72efa7405384cbf541c0c60471",
      "91075f3fa46c4f4ca38ccad1c19879ac",
      "5938add5414a4793b38ab077b1499468",
      "7c3e44b6d0c349e38683874d1e7c456b",
      "533dfe2721904eb78093b8f3a3fc3519",
      "3fa80196644c4884be80801d43bd4e5b",
      "709c33676bd84a4aaebd428294df65f8",
      "52508dd8cd3245029e9e0ef4ba071d9b",
      "d523f207df8349398b59cdf9d5636f82",
      "9ae2317d57214e4b8c41cd6f068b768b",
      "e8e4952047d94a898ab2b28e0dc1a3e8",
      "39693ed608ea4ebb83aff4d23421f139",
      "8a9bc5c76298405b93ace8832d12586e"
     ]
    },
    "id": "h7qMQ_RVpUTv",
    "outputId": "fba123c5-e49f-4f1f-ce49-73d0508fc7dd"
   },
   "outputs": [],
   "source": [
    "tokenizer = BertTokenizer.from_pretrained('bert-base-uncased')"
   ]
  },
  {
   "cell_type": "code",
   "execution_count": 26,
   "metadata": {},
   "outputs": [
    {
     "data": {
      "text/plain": [
       "BertTokenizer(name_or_path='bert-base-uncased', vocab_size=30522, model_max_length=512, is_fast=False, padding_side='right', truncation_side='right', special_tokens={'unk_token': '[UNK]', 'sep_token': '[SEP]', 'pad_token': '[PAD]', 'cls_token': '[CLS]', 'mask_token': '[MASK]'}, clean_up_tokenization_spaces=True),  added_tokens_decoder={\n",
       "\t0: AddedToken(\"[PAD]\", rstrip=False, lstrip=False, single_word=False, normalized=False, special=True),\n",
       "\t100: AddedToken(\"[UNK]\", rstrip=False, lstrip=False, single_word=False, normalized=False, special=True),\n",
       "\t101: AddedToken(\"[CLS]\", rstrip=False, lstrip=False, single_word=False, normalized=False, special=True),\n",
       "\t102: AddedToken(\"[SEP]\", rstrip=False, lstrip=False, single_word=False, normalized=False, special=True),\n",
       "\t103: AddedToken(\"[MASK]\", rstrip=False, lstrip=False, single_word=False, normalized=False, special=True),\n",
       "}"
      ]
     },
     "execution_count": 26,
     "metadata": {},
     "output_type": "execute_result"
    }
   ],
   "source": [
    "tokenizer"
   ]
  },
  {
   "cell_type": "code",
   "execution_count": 27,
   "metadata": {
    "id": "6Lx0JeclpCd3"
   },
   "outputs": [],
   "source": [
    "def convert_examples_to_features(examples, labels, max_seq_len, tokenizer):\n",
    "\n",
    "    input_ids, attention_masks, token_type_ids, data_labels = [], [], [], []\n",
    "\n",
    "    for example, label in tqdm(zip(examples, labels), total=len(examples)):\n",
    "        # input_id는 워드 임베딩을 위한 문장의 정수 인코딩\n",
    "        input_id = tokenizer.encode(example, max_length=max_seq_len, pad_to_max_length=True)\n",
    "\n",
    "        # attention_mask는 실제 단어가 위치하면 1, 패딩의 위치에는 0인 시퀀스.\n",
    "        padding_count = input_id.count(tokenizer.pad_token_id)\n",
    "        attention_mask = [1] * (max_seq_len - padding_count) + [0] * padding_count\n",
    "\n",
    "        # token_type_id은 세그먼트 인코딩 -> 문장 2개를 분류나 해석하는 task에선 각 문장이 0과 1로 분류됨.\n",
    "        token_type_id = [0] * max_seq_len\n",
    "\n",
    "        # 길이가 다를시 오류메세지 띄워줌.\n",
    "        assert len(input_id) == max_seq_len, \"Error with input length {} vs {}\".format(len(input_id), max_seq_len)\n",
    "        assert len(attention_mask) == max_seq_len, \"Error with attention mask length {} vs {}\".format(len(attention_mask), max_seq_len)\n",
    "        assert len(token_type_id) == max_seq_len, \"Error with token type length {} vs {}\".format(len(token_type_id), max_seq_len)\n",
    "\n",
    "        input_ids.append(input_id)\n",
    "        attention_masks.append(attention_mask)\n",
    "        token_type_ids.append(token_type_id)\n",
    "        data_labels.append(label)\n",
    "\n",
    "    input_ids = np.array(input_ids, dtype=int)\n",
    "    attention_masks = np.array(attention_masks, dtype=int)\n",
    "    token_type_ids = np.array(token_type_ids, dtype=int)\n",
    "\n",
    "    data_labels = np.asarray(data_labels, dtype=np.int32)\n",
    "\n",
    "    return (input_ids, attention_masks, token_type_ids), data_labels"
   ]
  },
  {
   "cell_type": "code",
   "execution_count": 28,
   "metadata": {},
   "outputs": [
    {
     "data": {
      "text/plain": [
       "(4328              Most of the layoffs will be in Finland.\n",
       " 1558    LONDON ICIS -- Tikkurila has completed the sal...\n",
       " 3582    Exel's board of directors will propose a divid...\n",
       " 3454    Virala Oy Ab was allocated by the Board of Dir...\n",
       " 2002    In China, Finnish Kone that provides elevators...\n",
       "                               ...                        \n",
       " 2513    mr Bakman sees also expansion options on the T...\n",
       " 1613    The company designs, manufactures and markets ...\n",
       " 3616    In 2007, the Group's net sales stood at EUR 42...\n",
       " 4078    TietoEnator was down 1.13 pct to 18.38, extend...\n",
       " 328     EPS for the quarter came in at 0.36 eur, up fr...\n",
       " Name: sentence, Length: 3870, dtype: object,\n",
       " 4328    0\n",
       " 1558    1\n",
       " 3582    1\n",
       " 3454    1\n",
       " 2002    2\n",
       "        ..\n",
       " 2513    1\n",
       " 1613    1\n",
       " 3616    1\n",
       " 4078    0\n",
       " 328     2\n",
       " Name: labels, Length: 3870, dtype: int64,\n",
       " 128)"
      ]
     },
     "execution_count": 28,
     "metadata": {},
     "output_type": "execute_result"
    }
   ],
   "source": [
    "X_train, y_train, max_seq_len"
   ]
  },
  {
   "cell_type": "code",
   "execution_count": 29,
   "metadata": {
    "colab": {
     "base_uri": "https://localhost:8080/"
    },
    "id": "K6GwA8ropGXJ",
    "outputId": "031fc02b-66f1-42c5-83a7-b94b3f8390d5"
   },
   "outputs": [
    {
     "name": "stderr",
     "output_type": "stream",
     "text": [
      "  0%|                                         | 0/3870 [00:00<?, ?it/s]Truncation was not explicitly activated but `max_length` is provided a specific value, please use `truncation=True` to explicitly truncate examples to max length. Defaulting to 'longest_first' truncation strategy. If you encode pairs of sequences (GLUE-style) with the tokenizer you can select this strategy more precisely by providing a specific strategy to `truncation`.\n",
      "C:\\Users\\chan\\anaconda3\\envs\\ng\\lib\\site-packages\\transformers\\tokenization_utils_base.py:2688: FutureWarning: The `pad_to_max_length` argument is deprecated and will be removed in a future version, use `padding=True` or `padding='longest'` to pad to the longest sequence in the batch, or use `padding='max_length'` to pad to a max length. In this case, you can give a specific length with `max_length` (e.g. `max_length=45`) or leave max_length to None to pad to the maximal input size of the model (e.g. 512 for Bert).\n",
      "  warnings.warn(\n",
      "100%|████████████████████████████| 3870/3870 [00:01<00:00, 2564.53it/s]\n"
     ]
    }
   ],
   "source": [
    "train_X, train_y = convert_examples_to_features(X_train, y_train, max_seq_len=max_seq_len, tokenizer=tokenizer)"
   ]
  },
  {
   "cell_type": "code",
   "execution_count": 30,
   "metadata": {},
   "outputs": [
    {
     "data": {
      "text/plain": [
       "((array([[  101,  2087,  1997, ...,     0,     0,     0],\n",
       "         [  101,  2414, 24582, ...,     0,     0,     0],\n",
       "         [  101,  4654,  2884, ...,     0,     0,     0],\n",
       "         ...,\n",
       "         [  101,  1999,  2289, ...,     0,     0,     0],\n",
       "         [  101,  5495,  3406, ...,     0,     0,     0],\n",
       "         [  101, 20383,  2005, ...,     0,     0,     0]]),\n",
       "  array([[1, 1, 1, ..., 0, 0, 0],\n",
       "         [1, 1, 1, ..., 0, 0, 0],\n",
       "         [1, 1, 1, ..., 0, 0, 0],\n",
       "         ...,\n",
       "         [1, 1, 1, ..., 0, 0, 0],\n",
       "         [1, 1, 1, ..., 0, 0, 0],\n",
       "         [1, 1, 1, ..., 0, 0, 0]]),\n",
       "  array([[0, 0, 0, ..., 0, 0, 0],\n",
       "         [0, 0, 0, ..., 0, 0, 0],\n",
       "         [0, 0, 0, ..., 0, 0, 0],\n",
       "         ...,\n",
       "         [0, 0, 0, ..., 0, 0, 0],\n",
       "         [0, 0, 0, ..., 0, 0, 0],\n",
       "         [0, 0, 0, ..., 0, 0, 0]])),\n",
       " array([0, 1, 1, ..., 1, 0, 2]))"
      ]
     },
     "execution_count": 30,
     "metadata": {},
     "output_type": "execute_result"
    }
   ],
   "source": [
    "train_X, train_y"
   ]
  },
  {
   "cell_type": "code",
   "execution_count": 31,
   "metadata": {
    "colab": {
     "base_uri": "https://localhost:8080/"
    },
    "id": "FSUWW7XFphCU",
    "outputId": "b64bd2c3-fdf7-4135-c844-33139273bed6"
   },
   "outputs": [
    {
     "name": "stderr",
     "output_type": "stream",
     "text": [
      "100%|██████████████████████████████| 968/968 [00:00<00:00, 2674.05it/s]\n"
     ]
    }
   ],
   "source": [
    "test_X, test_y = convert_examples_to_features(X_test, y_test, max_seq_len=max_seq_len, tokenizer=tokenizer)"
   ]
  },
  {
   "cell_type": "code",
   "execution_count": 32,
   "metadata": {
    "colab": {
     "base_uri": "https://localhost:8080/"
    },
    "id": "M9H0TQaUpl6q",
    "outputId": "b7b76eef-823d-4abf-c70d-84f1f3486a86"
   },
   "outputs": [
    {
     "name": "stdout",
     "output_type": "stream",
     "text": [
      "단어에 대한 정수 인코딩 : [  101  2087  1997  1996  3913 27475  2097  2022  1999  6435  1012   102\n",
      "     0     0     0     0     0     0     0     0     0     0     0     0\n",
      "     0     0     0     0     0     0     0     0     0     0     0     0\n",
      "     0     0     0     0     0     0     0     0     0     0     0     0\n",
      "     0     0     0     0     0     0     0     0     0     0     0     0\n",
      "     0     0     0     0     0     0     0     0     0     0     0     0\n",
      "     0     0     0     0     0     0     0     0     0     0     0     0\n",
      "     0     0     0     0     0     0     0     0     0     0     0     0\n",
      "     0     0     0     0     0     0     0     0     0     0     0     0\n",
      "     0     0     0     0     0     0     0     0     0     0     0     0\n",
      "     0     0     0     0     0     0     0     0]\n",
      "어텐션 마스크 : [1 1 1 1 1 1 1 1 1 1 1 1 0 0 0 0 0 0 0 0 0 0 0 0 0 0 0 0 0 0 0 0 0 0 0 0 0\n",
      " 0 0 0 0 0 0 0 0 0 0 0 0 0 0 0 0 0 0 0 0 0 0 0 0 0 0 0 0 0 0 0 0 0 0 0 0 0\n",
      " 0 0 0 0 0 0 0 0 0 0 0 0 0 0 0 0 0 0 0 0 0 0 0 0 0 0 0 0 0 0 0 0 0 0 0 0 0\n",
      " 0 0 0 0 0 0 0 0 0 0 0 0 0 0 0 0 0]\n",
      "세그먼트 인코딩 : [0 0 0 0 0 0 0 0 0 0 0 0 0 0 0 0 0 0 0 0 0 0 0 0 0 0 0 0 0 0 0 0 0 0 0 0 0\n",
      " 0 0 0 0 0 0 0 0 0 0 0 0 0 0 0 0 0 0 0 0 0 0 0 0 0 0 0 0 0 0 0 0 0 0 0 0 0\n",
      " 0 0 0 0 0 0 0 0 0 0 0 0 0 0 0 0 0 0 0 0 0 0 0 0 0 0 0 0 0 0 0 0 0 0 0 0 0\n",
      " 0 0 0 0 0 0 0 0 0 0 0 0 0 0 0 0 0]\n",
      "각 인코딩의 길이 : 128\n",
      "정수 인코딩 복원 : [CLS] most of the layoffs will be in finland. [SEP] [PAD] [PAD] [PAD] [PAD] [PAD] [PAD] [PAD] [PAD] [PAD] [PAD] [PAD] [PAD] [PAD] [PAD] [PAD] [PAD] [PAD] [PAD] [PAD] [PAD] [PAD] [PAD] [PAD] [PAD] [PAD] [PAD] [PAD] [PAD] [PAD] [PAD] [PAD] [PAD] [PAD] [PAD] [PAD] [PAD] [PAD] [PAD] [PAD] [PAD] [PAD] [PAD] [PAD] [PAD] [PAD] [PAD] [PAD] [PAD] [PAD] [PAD] [PAD] [PAD] [PAD] [PAD] [PAD] [PAD] [PAD] [PAD] [PAD] [PAD] [PAD] [PAD] [PAD] [PAD] [PAD] [PAD] [PAD] [PAD] [PAD] [PAD] [PAD] [PAD] [PAD] [PAD] [PAD] [PAD] [PAD] [PAD] [PAD] [PAD] [PAD] [PAD] [PAD] [PAD] [PAD] [PAD] [PAD] [PAD] [PAD] [PAD] [PAD] [PAD] [PAD] [PAD] [PAD] [PAD] [PAD] [PAD] [PAD] [PAD] [PAD] [PAD] [PAD] [PAD] [PAD] [PAD] [PAD] [PAD] [PAD] [PAD] [PAD] [PAD] [PAD] [PAD] [PAD] [PAD]\n",
      "레이블 : 0\n"
     ]
    }
   ],
   "source": [
    "input_id = train_X[0][0]\n",
    "attention_mask = train_X[1][0]\n",
    "token_type_id = train_X[2][0]\n",
    "label = train_y[0]\n",
    "\n",
    "print('단어에 대한 정수 인코딩 :',input_id)\n",
    "print('어텐션 마스크 :',attention_mask)\n",
    "print('세그먼트 인코딩 :',token_type_id)\n",
    "print('각 인코딩의 길이 :', len(input_id))\n",
    "print('정수 인코딩 복원 :',tokenizer.decode(input_id))\n",
    "print('레이블 :',label)"
   ]
  },
  {
   "cell_type": "code",
   "execution_count": 33,
   "metadata": {},
   "outputs": [],
   "source": [
    "import torch\n",
    "from torch import nn\n",
    "from torch.utils.data import TensorDataset, DataLoader\n",
    "import torch.optim as optim\n",
    "import torch.nn.functional as F\n",
    "from transformers import BertForSequenceClassification, AdamW"
   ]
  },
  {
   "cell_type": "code",
   "execution_count": 34,
   "metadata": {},
   "outputs": [
    {
     "name": "stdout",
     "output_type": "stream",
     "text": [
      "GPU not available, CPU used\n"
     ]
    }
   ],
   "source": [
    "if torch.cuda.is_available():\n",
    "    device = torch.device(\"cuda\")\n",
    "    print(\"GPU is available\")\n",
    "else:\n",
    "    device = torch.device(\"cpu\")\n",
    "    print(\"GPU not available, CPU used\")"
   ]
  },
  {
   "cell_type": "code",
   "execution_count": 35,
   "metadata": {},
   "outputs": [
    {
     "data": {
      "text/plain": [
       "(3870, 3870)"
      ]
     },
     "execution_count": 35,
     "metadata": {},
     "output_type": "execute_result"
    }
   ],
   "source": [
    "len(train_X[0]), len(train_y)"
   ]
  },
  {
   "cell_type": "code",
   "execution_count": 36,
   "metadata": {},
   "outputs": [],
   "source": [
    "# create Tensor datasets\n",
    "train_data = TensorDataset(torch.tensor(train_X[0]), torch.tensor(train_X[1]), torch.tensor(train_X[2]), torch.tensor(train_y))\n",
    "valid_data = TensorDataset(torch.tensor(test_X[0]), torch.tensor(test_X[1]), torch.tensor(test_X[2]), torch.tensor(test_y))\n",
    "\n",
    "# dataloaders\n",
    "batch_size = 32\n",
    "\n",
    "# make sure to SHUFFLE your data\n",
    "train_loader = DataLoader(train_data, shuffle=True, batch_size=batch_size)\n",
    "valid_loader = DataLoader(valid_data, shuffle=True, batch_size=batch_size)"
   ]
  },
  {
   "cell_type": "code",
   "execution_count": 37,
   "metadata": {},
   "outputs": [
    {
     "name": "stderr",
     "output_type": "stream",
     "text": [
      "Some weights of BertForSequenceClassification were not initialized from the model checkpoint at bert-base-uncased and are newly initialized: ['classifier.bias', 'classifier.weight']\n",
      "You should probably TRAIN this model on a down-stream task to be able to use it for predictions and inference.\n"
     ]
    }
   ],
   "source": [
    "model = BertForSequenceClassification.from_pretrained('bert-base-uncased', num_labels=3)"
   ]
  },
  {
   "cell_type": "code",
   "execution_count": 38,
   "metadata": {},
   "outputs": [],
   "source": [
    "criterion = nn.CrossEntropyLoss()\n",
    "optimizer = torch.optim.Adam(model.parameters(), lr=5e-5)"
   ]
  },
  {
   "cell_type": "code",
   "execution_count": 39,
   "metadata": {},
   "outputs": [],
   "source": [
    "# epochs = 5\n",
    "# valid_loss_min = np.Inf\n",
    "\n",
    "# train_loss = torch.zeros(epochs)\n",
    "# valid_loss = torch.zeros(epochs)\n",
    "\n",
    "# train_acc = torch.zeros(epochs)\n",
    "# valid_acc = torch.zeros(epochs)\n",
    "\n",
    "# model.to(device)\n",
    "# for e in tqdm(range(0, epochs)):\n",
    "#     model.train()\n",
    "#     # initialize hidden state \n",
    "#     # h = model.init_hidden(batch_size)\n",
    "#     for inputs in tqdm(train_loader):\n",
    "#         input_ids = inputs[0].to(device)\n",
    "#         attention_mask = inputs[1].to(device)\n",
    "#         labels = inputs[3].type(torch.LongTensor).to(device)\n",
    "#         optimizer.zero_grad()\n",
    "#         output = model(input_ids, attention_mask=attention_mask, labels=labels)\n",
    "#         loss = output.loss\n",
    "#         train_loss[e] += loss.item()\n",
    "#         loss.backward()\n",
    "        \n",
    "#         # calculating accuracy\n",
    "#         # accuracy = acc(output,labels)\n",
    "#         ps = F.softmax(output.logits, dim=1)\n",
    "#         top_p, top_class = ps.topk(1, dim=1)\n",
    "#         equals = top_class == labels.reshape(top_class.shape)\n",
    "#         train_acc[e] += torch.mean(equals.type(torch.float)).detach().cpu()\n",
    "        \n",
    "#         #`clip_grad_norm` helps prevent the exploding gradient problem in RNNs / LSTMs.\n",
    "#         # nn.utils.clip_grad_norm_(model.parameters(), clip)\n",
    "#         optimizer.step()\n",
    "#     train_loss[e] /= len(train_loader)\n",
    "#     train_acc[e] /= len(train_loader)\n",
    "\n",
    "    \n",
    "#     model.eval()\n",
    "#     for inputs in tqdm(valid_loader):\n",
    "#         input_ids = inputs[0].to(device)\n",
    "#         attention_mask = inputs[1].to(device)\n",
    "#         labels = inputs[3].type(torch.LongTensor).to(device)\n",
    "\n",
    "#         output = model(input_ids, attention_mask=attention_mask, labels=labels)\n",
    "#         val_loss = output.loss\n",
    "#         valid_loss[e] += val_loss.item()\n",
    "\n",
    "#         ps = F.softmax(output.logits, dim=1)\n",
    "#         top_p, top_class = ps.topk(1, dim=1)\n",
    "#         equals = top_class == labels.reshape(top_class.shape)\n",
    "#         valid_acc[e] += torch.mean(equals.type(torch.float)).detach().cpu()\n",
    "#     valid_loss[e] /= len(valid_loader)\n",
    "#     valid_acc[e] /= len(valid_loader)\n",
    "    \n",
    "#     print(f'Epoch {e+1}') \n",
    "#     print(f'train_loss : {train_loss[e]}, val_loss : {valid_loss[e]}')\n",
    "#     print(f'train_accuracy : {train_acc[e]*100}, val_accuracy : {valid_acc[e]*100}')\n",
    "#     if valid_loss[e] <= valid_loss_min:\n",
    "#         torch.save(model, 'bert_model.pth')\n",
    "#         torch.save(model.state_dict(), 'bert_model_state_dict.pt')\n",
    "#         print('Validation loss decreased ({:.6f} --> {:.6f}).  Saving model ...'.format(valid_loss_min,valid_loss[e]))\n",
    "#         valid_loss_min = valid_loss[e]\n",
    "#     print(25*'==')"
   ]
  },
  {
   "cell_type": "code",
   "execution_count": 163,
   "metadata": {},
   "outputs": [
    {
     "data": {
      "text/html": [
       "<div>\n",
       "<style scoped>\n",
       "    .dataframe tbody tr th:only-of-type {\n",
       "        vertical-align: middle;\n",
       "    }\n",
       "\n",
       "    .dataframe tbody tr th {\n",
       "        vertical-align: top;\n",
       "    }\n",
       "\n",
       "    .dataframe thead th {\n",
       "        text-align: right;\n",
       "    }\n",
       "</style>\n",
       "<table border=\"1\" class=\"dataframe\">\n",
       "  <thead>\n",
       "    <tr style=\"text-align: right;\">\n",
       "      <th></th>\n",
       "      <th>title</th>\n",
       "      <th>content</th>\n",
       "    </tr>\n",
       "  </thead>\n",
       "  <tbody>\n",
       "    <tr>\n",
       "      <th>0</th>\n",
       "      <td>Tue, 06 Apr 2021 07:00:00 GMT</td>\n",
       "      <td>Emails and other communications sent between ...</td>\n",
       "    </tr>\n",
       "    <tr>\n",
       "      <th>1</th>\n",
       "      <td>Mon, 12 Apr 2021 07:00:00 GMT</td>\n",
       "      <td>REDMOND, Wash., and BURLINGTON, Mass., April ...</td>\n",
       "    </tr>\n",
       "    <tr>\n",
       "      <th>2</th>\n",
       "      <td>Thu, 08 Sep 2022 07:00:00 GMT</td>\n",
       "      <td>[Editor’s note: “An Incredible Stock Market M...</td>\n",
       "    </tr>\n",
       "    <tr>\n",
       "      <th>3</th>\n",
       "      <td>Thu, 08 Sep 2022 07:00:00 GMT</td>\n",
       "      <td>Microsoft (Nasdaq: MSFT) has received approva...</td>\n",
       "    </tr>\n",
       "    <tr>\n",
       "      <th>4</th>\n",
       "      <td>Thu, 08 Sep 2022 07:00:00 GMT</td>\n",
       "      <td>Hackathon will be held across Delhi NCR, Bang...</td>\n",
       "    </tr>\n",
       "    <tr>\n",
       "      <th>...</th>\n",
       "      <td>...</td>\n",
       "      <td>...</td>\n",
       "    </tr>\n",
       "    <tr>\n",
       "      <th>3799</th>\n",
       "      <td>Tue, 06 Sep 2022 07:00:00 GMT</td>\n",
       "      <td>Two-factor authentication is an important fea...</td>\n",
       "    </tr>\n",
       "    <tr>\n",
       "      <th>3800</th>\n",
       "      <td>Wed, 07 Sep 2022 07:00:00 GMT</td>\n",
       "      <td>NEW YORK, Sept. 7, 2022 /PRNewswire/ -- Follo...</td>\n",
       "    </tr>\n",
       "    <tr>\n",
       "      <th>3801</th>\n",
       "      <td>Wed, 07 Sep 2022 07:00:00 GMT</td>\n",
       "      <td>Following the recent launch of its first four...</td>\n",
       "    </tr>\n",
       "    <tr>\n",
       "      <th>3802</th>\n",
       "      <td>Wed, 07 Sep 2022 07:00:00 GMT</td>\n",
       "      <td>As big data center operators navigate the gro...</td>\n",
       "    </tr>\n",
       "    <tr>\n",
       "      <th>3803</th>\n",
       "      <td>Wed, 07 Sep 2022 07:00:00 GMT</td>\n",
       "      <td>These former tech rivals are on divergent pat...</td>\n",
       "    </tr>\n",
       "  </tbody>\n",
       "</table>\n",
       "<p>3804 rows × 2 columns</p>\n",
       "</div>"
      ],
      "text/plain": [
       "                              title  \\\n",
       "0     Tue, 06 Apr 2021 07:00:00 GMT   \n",
       "1     Mon, 12 Apr 2021 07:00:00 GMT   \n",
       "2     Thu, 08 Sep 2022 07:00:00 GMT   \n",
       "3     Thu, 08 Sep 2022 07:00:00 GMT   \n",
       "4     Thu, 08 Sep 2022 07:00:00 GMT   \n",
       "...                             ...   \n",
       "3799  Tue, 06 Sep 2022 07:00:00 GMT   \n",
       "3800  Wed, 07 Sep 2022 07:00:00 GMT   \n",
       "3801  Wed, 07 Sep 2022 07:00:00 GMT   \n",
       "3802  Wed, 07 Sep 2022 07:00:00 GMT   \n",
       "3803  Wed, 07 Sep 2022 07:00:00 GMT   \n",
       "\n",
       "                                                content  \n",
       "0      Emails and other communications sent between ...  \n",
       "1      REDMOND, Wash., and BURLINGTON, Mass., April ...  \n",
       "2      [Editor’s note: “An Incredible Stock Market M...  \n",
       "3      Microsoft (Nasdaq: MSFT) has received approva...  \n",
       "4      Hackathon will be held across Delhi NCR, Bang...  \n",
       "...                                                 ...  \n",
       "3799   Two-factor authentication is an important fea...  \n",
       "3800   NEW YORK, Sept. 7, 2022 /PRNewswire/ -- Follo...  \n",
       "3801   Following the recent launch of its first four...  \n",
       "3802   As big data center operators navigate the gro...  \n",
       "3803   These former tech rivals are on divergent pat...  \n",
       "\n",
       "[3804 rows x 2 columns]"
      ]
     },
     "execution_count": 163,
     "metadata": {},
     "output_type": "execute_result"
    }
   ],
   "source": [
    "import os\n",
    "import pandas as pd\n",
    "\n",
    "path = \"C:/Users/chan/Documents/GitHub/ML/test_MSFT/\"\n",
    "news_df = pd.DataFrame(columns=[\"title\", \"content\"])\n",
    "\n",
    "for txts in os.listdir(path):\n",
    "    full_path = os.path.join(path, txts)  # 파일 전체 경로 생성\n",
    "    if full_path.endswith('header.txt'):\n",
    "        continue\n",
    "    if os.path.isfile(full_path):  # 파일인지 확인\n",
    "        with open(full_path, \"r\", encoding=\"utf-8\") as txt_file:\n",
    "            title = txt_file.readline().strip()\n",
    "            content = txt_file.read().replace('\\n', ' ')\n",
    "            # DataFrame 생성 후 concat 함수를 사용하여 추가\n",
    "            new_row = pd.DataFrame({\"title\": [title], \"content\": [content]})\n",
    "            news_df = pd.concat([news_df, new_row], ignore_index=True)\n",
    "\n",
    "news_df\n"
   ]
  },
  {
   "cell_type": "code",
   "execution_count": 134,
   "metadata": {},
   "outputs": [],
   "source": [
    "# import os\n",
    "# import pandas as pd\n",
    "\n",
    "# path = \"C:/Users/chan/Documents/GitHub/ML/articles/\"\n",
    "# news_df = pd.DataFrame(columns=[\"title\", \"content\"])\n",
    "\n",
    "\n",
    "# for txts in os.listdir(path):\n",
    "    \n",
    "#     full_path = os.path.join(path, txts)  # 파일 전체 경로 생성\n",
    "#     if os.path.isfile(full_path):  # 파일인지 확인\n",
    "#         with open(full_path, \"r\", encoding=\"utf-8\") as txt_file:\n",
    "#             title = txt_file.readline().strip()\n",
    "#             content = txt_file.read().replace('\\n', ' ')\n",
    "#             news_df = news_df.append({\"title\": title, \"content\": content}, ignore_index=True)\n",
    "# news_df"
   ]
  },
  {
   "cell_type": "code",
   "execution_count": 164,
   "metadata": {},
   "outputs": [
    {
     "name": "stderr",
     "output_type": "stream",
     "text": [
      "C:\\Users\\chan\\anaconda3\\envs\\ng\\lib\\site-packages\\transformers\\tokenization_utils_base.py:2688: FutureWarning: The `pad_to_max_length` argument is deprecated and will be removed in a future version, use `padding=True` or `padding='longest'` to pad to the longest sequence in the batch, or use `padding='max_length'` to pad to a max length. In this case, you can give a specific length with `max_length` (e.g. `max_length=45`) or leave max_length to None to pad to the maximal input size of the model (e.g. 512 for Bert).\n",
      "  warnings.warn(\n"
     ]
    }
   ],
   "source": [
    "# 데이터프레임의 'title'과 'content'를 이용하여 입력 데이터 생성\n",
    "inputs = [content for content in news_df['content']]\n",
    "\n",
    "# 입력 데이터를 BERT 모델의 입력 형식에 맞게 변환\n",
    "max_length = 128\n",
    "input_ids = []\n",
    "attention_masks = []\n",
    "\n",
    "for content in inputs:\n",
    "    encoded_dict = tokenizer.encode_plus(\n",
    "                        content,                    # content\n",
    "                        add_special_tokens = True,  # Add '[CLS]' and '[SEP]'\n",
    "                        max_length = max_length,           # Pad & truncate all sentences\n",
    "                        pad_to_max_length = True,\n",
    "                        return_attention_mask = True,   # Construct attn. masks\n",
    "                        return_tensors = 'pt',     # Return pytorch tensors\n",
    "                   )\n",
    "    \n",
    "    input_ids.append(encoded_dict['input_ids'])\n",
    "    attention_masks.append(encoded_dict['attention_mask'])"
   ]
  },
  {
   "cell_type": "code",
   "execution_count": 165,
   "metadata": {},
   "outputs": [
    {
     "data": {
      "text/plain": [
       "BertForSequenceClassification(\n",
       "  (bert): BertModel(\n",
       "    (embeddings): BertEmbeddings(\n",
       "      (word_embeddings): Embedding(30522, 768, padding_idx=0)\n",
       "      (position_embeddings): Embedding(512, 768)\n",
       "      (token_type_embeddings): Embedding(2, 768)\n",
       "      (LayerNorm): LayerNorm((768,), eps=1e-12, elementwise_affine=True)\n",
       "      (dropout): Dropout(p=0.1, inplace=False)\n",
       "    )\n",
       "    (encoder): BertEncoder(\n",
       "      (layer): ModuleList(\n",
       "        (0-11): 12 x BertLayer(\n",
       "          (attention): BertAttention(\n",
       "            (self): BertSelfAttention(\n",
       "              (query): Linear(in_features=768, out_features=768, bias=True)\n",
       "              (key): Linear(in_features=768, out_features=768, bias=True)\n",
       "              (value): Linear(in_features=768, out_features=768, bias=True)\n",
       "              (dropout): Dropout(p=0.1, inplace=False)\n",
       "            )\n",
       "            (output): BertSelfOutput(\n",
       "              (dense): Linear(in_features=768, out_features=768, bias=True)\n",
       "              (LayerNorm): LayerNorm((768,), eps=1e-12, elementwise_affine=True)\n",
       "              (dropout): Dropout(p=0.1, inplace=False)\n",
       "            )\n",
       "          )\n",
       "          (intermediate): BertIntermediate(\n",
       "            (dense): Linear(in_features=768, out_features=3072, bias=True)\n",
       "            (intermediate_act_fn): GELUActivation()\n",
       "          )\n",
       "          (output): BertOutput(\n",
       "            (dense): Linear(in_features=3072, out_features=768, bias=True)\n",
       "            (LayerNorm): LayerNorm((768,), eps=1e-12, elementwise_affine=True)\n",
       "            (dropout): Dropout(p=0.1, inplace=False)\n",
       "          )\n",
       "        )\n",
       "      )\n",
       "    )\n",
       "    (pooler): BertPooler(\n",
       "      (dense): Linear(in_features=768, out_features=768, bias=True)\n",
       "      (activation): Tanh()\n",
       "    )\n",
       "  )\n",
       "  (dropout): Dropout(p=0.1, inplace=False)\n",
       "  (classifier): Linear(in_features=768, out_features=3, bias=True)\n",
       ")"
      ]
     },
     "execution_count": 165,
     "metadata": {},
     "output_type": "execute_result"
    }
   ],
   "source": [
    "predict_model = torch.load(\"bert_model_loss0.34.pth\", map_location=torch.device('cpu'))\n",
    "predict_model.to(device)"
   ]
  },
  {
   "cell_type": "code",
   "execution_count": 166,
   "metadata": {},
   "outputs": [
    {
     "name": "stderr",
     "output_type": "stream",
     "text": [
      "3804it [04:15, 14.91it/s]\n"
     ]
    }
   ],
   "source": [
    "predicted_labels = []\n",
    "\n",
    "for inputs in tqdm(zip(input_ids, attention_masks)):\n",
    "    input_ids = inputs[0].to(device)\n",
    "    attention_mask = inputs[1].to(device)\n",
    "    output = predict_model(input_ids, attention_mask=attention_mask)\n",
    "\n",
    "    ps = F.softmax(output.logits, dim=1)\n",
    "    top_p, top_class = ps.topk(1, dim=1)\n",
    "    predicted_labels.append(top_class.item())\n",
    "\n",
    "predict_df = pd.DataFrame({'predicted_label': predicted_labels})\n",
    "news_df[\"predict\"] = predict_df\n",
    "news_df.to_csv('predicted_news.csv', index=False)"
   ]
  },
  {
   "cell_type": "code",
   "execution_count": 167,
   "metadata": {},
   "outputs": [
    {
     "data": {
      "text/html": [
       "<div>\n",
       "<style scoped>\n",
       "    .dataframe tbody tr th:only-of-type {\n",
       "        vertical-align: middle;\n",
       "    }\n",
       "\n",
       "    .dataframe tbody tr th {\n",
       "        vertical-align: top;\n",
       "    }\n",
       "\n",
       "    .dataframe thead th {\n",
       "        text-align: right;\n",
       "    }\n",
       "</style>\n",
       "<table border=\"1\" class=\"dataframe\">\n",
       "  <thead>\n",
       "    <tr style=\"text-align: right;\">\n",
       "      <th></th>\n",
       "      <th>title</th>\n",
       "      <th>content</th>\n",
       "      <th>predict</th>\n",
       "    </tr>\n",
       "  </thead>\n",
       "  <tbody>\n",
       "    <tr>\n",
       "      <th>0</th>\n",
       "      <td>Tue, 06 Apr 2021 07:00:00 GMT</td>\n",
       "      <td>Emails and other communications sent between ...</td>\n",
       "      <td>1</td>\n",
       "    </tr>\n",
       "    <tr>\n",
       "      <th>1</th>\n",
       "      <td>Mon, 12 Apr 2021 07:00:00 GMT</td>\n",
       "      <td>REDMOND, Wash., and BURLINGTON, Mass., April ...</td>\n",
       "      <td>2</td>\n",
       "    </tr>\n",
       "    <tr>\n",
       "      <th>2</th>\n",
       "      <td>Thu, 08 Sep 2022 07:00:00 GMT</td>\n",
       "      <td>[Editor’s note: “An Incredible Stock Market M...</td>\n",
       "      <td>1</td>\n",
       "    </tr>\n",
       "    <tr>\n",
       "      <th>3</th>\n",
       "      <td>Thu, 08 Sep 2022 07:00:00 GMT</td>\n",
       "      <td>Microsoft (Nasdaq: MSFT) has received approva...</td>\n",
       "      <td>0</td>\n",
       "    </tr>\n",
       "    <tr>\n",
       "      <th>4</th>\n",
       "      <td>Thu, 08 Sep 2022 07:00:00 GMT</td>\n",
       "      <td>Hackathon will be held across Delhi NCR, Bang...</td>\n",
       "      <td>1</td>\n",
       "    </tr>\n",
       "    <tr>\n",
       "      <th>...</th>\n",
       "      <td>...</td>\n",
       "      <td>...</td>\n",
       "      <td>...</td>\n",
       "    </tr>\n",
       "    <tr>\n",
       "      <th>3799</th>\n",
       "      <td>Tue, 06 Sep 2022 07:00:00 GMT</td>\n",
       "      <td>Two-factor authentication is an important fea...</td>\n",
       "      <td>1</td>\n",
       "    </tr>\n",
       "    <tr>\n",
       "      <th>3800</th>\n",
       "      <td>Wed, 07 Sep 2022 07:00:00 GMT</td>\n",
       "      <td>NEW YORK, Sept. 7, 2022 /PRNewswire/ -- Follo...</td>\n",
       "      <td>1</td>\n",
       "    </tr>\n",
       "    <tr>\n",
       "      <th>3801</th>\n",
       "      <td>Wed, 07 Sep 2022 07:00:00 GMT</td>\n",
       "      <td>Following the recent launch of its first four...</td>\n",
       "      <td>1</td>\n",
       "    </tr>\n",
       "    <tr>\n",
       "      <th>3802</th>\n",
       "      <td>Wed, 07 Sep 2022 07:00:00 GMT</td>\n",
       "      <td>As big data center operators navigate the gro...</td>\n",
       "      <td>0</td>\n",
       "    </tr>\n",
       "    <tr>\n",
       "      <th>3803</th>\n",
       "      <td>Wed, 07 Sep 2022 07:00:00 GMT</td>\n",
       "      <td>These former tech rivals are on divergent pat...</td>\n",
       "      <td>2</td>\n",
       "    </tr>\n",
       "  </tbody>\n",
       "</table>\n",
       "<p>3804 rows × 3 columns</p>\n",
       "</div>"
      ],
      "text/plain": [
       "                              title  \\\n",
       "0     Tue, 06 Apr 2021 07:00:00 GMT   \n",
       "1     Mon, 12 Apr 2021 07:00:00 GMT   \n",
       "2     Thu, 08 Sep 2022 07:00:00 GMT   \n",
       "3     Thu, 08 Sep 2022 07:00:00 GMT   \n",
       "4     Thu, 08 Sep 2022 07:00:00 GMT   \n",
       "...                             ...   \n",
       "3799  Tue, 06 Sep 2022 07:00:00 GMT   \n",
       "3800  Wed, 07 Sep 2022 07:00:00 GMT   \n",
       "3801  Wed, 07 Sep 2022 07:00:00 GMT   \n",
       "3802  Wed, 07 Sep 2022 07:00:00 GMT   \n",
       "3803  Wed, 07 Sep 2022 07:00:00 GMT   \n",
       "\n",
       "                                                content  predict  \n",
       "0      Emails and other communications sent between ...        1  \n",
       "1      REDMOND, Wash., and BURLINGTON, Mass., April ...        2  \n",
       "2      [Editor’s note: “An Incredible Stock Market M...        1  \n",
       "3      Microsoft (Nasdaq: MSFT) has received approva...        0  \n",
       "4      Hackathon will be held across Delhi NCR, Bang...        1  \n",
       "...                                                 ...      ...  \n",
       "3799   Two-factor authentication is an important fea...        1  \n",
       "3800   NEW YORK, Sept. 7, 2022 /PRNewswire/ -- Follo...        1  \n",
       "3801   Following the recent launch of its first four...        1  \n",
       "3802   As big data center operators navigate the gro...        0  \n",
       "3803   These former tech rivals are on divergent pat...        2  \n",
       "\n",
       "[3804 rows x 3 columns]"
      ]
     },
     "execution_count": 167,
     "metadata": {},
     "output_type": "execute_result"
    }
   ],
   "source": [
    "news_df"
   ]
  },
  {
   "cell_type": "code",
   "execution_count": 168,
   "metadata": {},
   "outputs": [
    {
     "data": {
      "text/html": [
       "<div>\n",
       "<style scoped>\n",
       "    .dataframe tbody tr th:only-of-type {\n",
       "        vertical-align: middle;\n",
       "    }\n",
       "\n",
       "    .dataframe tbody tr th {\n",
       "        vertical-align: top;\n",
       "    }\n",
       "\n",
       "    .dataframe thead th {\n",
       "        text-align: right;\n",
       "    }\n",
       "</style>\n",
       "<table border=\"1\" class=\"dataframe\">\n",
       "  <thead>\n",
       "    <tr style=\"text-align: right;\">\n",
       "      <th></th>\n",
       "      <th>date</th>\n",
       "      <th>title</th>\n",
       "      <th>content</th>\n",
       "      <th>predict</th>\n",
       "    </tr>\n",
       "  </thead>\n",
       "  <tbody>\n",
       "    <tr>\n",
       "      <th>0</th>\n",
       "      <td>2021-04-06</td>\n",
       "      <td>[Tue, 06 Apr 2021 07:00:00 GMT, Tue, 06 Apr 20...</td>\n",
       "      <td>[ Emails and other communications sent between...</td>\n",
       "      <td>1.000</td>\n",
       "    </tr>\n",
       "    <tr>\n",
       "      <th>1</th>\n",
       "      <td>2021-04-07</td>\n",
       "      <td>[Wed, 07 Apr 2021 07:00:00 GMT]</td>\n",
       "      <td>[ Before we can do any predictive modeling or ...</td>\n",
       "      <td>1.000</td>\n",
       "    </tr>\n",
       "    <tr>\n",
       "      <th>2</th>\n",
       "      <td>2021-04-08</td>\n",
       "      <td>[Thu, 08 Apr 2021 07:00:00 GMT, Thu, 08 Apr 20...</td>\n",
       "      <td>[ The tech giant has just landed a blockbuster...</td>\n",
       "      <td>1.333</td>\n",
       "    </tr>\n",
       "    <tr>\n",
       "      <th>3</th>\n",
       "      <td>2021-04-09</td>\n",
       "      <td>[Fri, 09 Apr 2021 07:00:00 GMT]</td>\n",
       "      <td>[ A Boston Dynamics robot has been videoed tak...</td>\n",
       "      <td>1.000</td>\n",
       "    </tr>\n",
       "    <tr>\n",
       "      <th>4</th>\n",
       "      <td>2021-04-12</td>\n",
       "      <td>[Mon, 12 Apr 2021 07:00:00 GMT, Mon, 12 Apr 20...</td>\n",
       "      <td>[ REDMOND, Wash., and BURLINGTON, Mass., April...</td>\n",
       "      <td>1.500</td>\n",
       "    </tr>\n",
       "    <tr>\n",
       "      <th>...</th>\n",
       "      <td>...</td>\n",
       "      <td>...</td>\n",
       "      <td>...</td>\n",
       "      <td>...</td>\n",
       "    </tr>\n",
       "    <tr>\n",
       "      <th>925</th>\n",
       "      <td>2024-05-07</td>\n",
       "      <td>[Tue, 07 May 2024 07:00:00 GMT, Tue, 07 May 20...</td>\n",
       "      <td>[ Microsoft Corporation’s quarterly revenue qu...</td>\n",
       "      <td>1.200</td>\n",
       "    </tr>\n",
       "    <tr>\n",
       "      <th>926</th>\n",
       "      <td>2024-05-08</td>\n",
       "      <td>[Wed, 08 May 2024 12:10:00 GMT, Wed, 08 May 20...</td>\n",
       "      <td>[ Below is Validea's guru fundamental report f...</td>\n",
       "      <td>1.062</td>\n",
       "    </tr>\n",
       "    <tr>\n",
       "      <th>927</th>\n",
       "      <td>2024-05-09</td>\n",
       "      <td>[Thu, 09 May 2024 05:42:30 GMT, Thu, 09 May 20...</td>\n",
       "      <td>[ Microsoft (MSFT) closed at $266.65 in the la...</td>\n",
       "      <td>2.000</td>\n",
       "    </tr>\n",
       "    <tr>\n",
       "      <th>928</th>\n",
       "      <td>2024-05-10</td>\n",
       "      <td>[Fri, 10 May 2024 12:46:06 GMT, Fri, 10 May 20...</td>\n",
       "      <td>[ Investment management company Vulcan Value P...</td>\n",
       "      <td>1.188</td>\n",
       "    </tr>\n",
       "    <tr>\n",
       "      <th>929</th>\n",
       "      <td>2024-05-11</td>\n",
       "      <td>[Sat, 11 May 2024 00:00:09 GMT, Sat, 11 May 20...</td>\n",
       "      <td>[ For the quarter ended March 2023, Microsoft ...</td>\n",
       "      <td>1.667</td>\n",
       "    </tr>\n",
       "  </tbody>\n",
       "</table>\n",
       "<p>930 rows × 4 columns</p>\n",
       "</div>"
      ],
      "text/plain": [
       "           date                                              title  \\\n",
       "0    2021-04-06  [Tue, 06 Apr 2021 07:00:00 GMT, Tue, 06 Apr 20...   \n",
       "1    2021-04-07                    [Wed, 07 Apr 2021 07:00:00 GMT]   \n",
       "2    2021-04-08  [Thu, 08 Apr 2021 07:00:00 GMT, Thu, 08 Apr 20...   \n",
       "3    2021-04-09                    [Fri, 09 Apr 2021 07:00:00 GMT]   \n",
       "4    2021-04-12  [Mon, 12 Apr 2021 07:00:00 GMT, Mon, 12 Apr 20...   \n",
       "..          ...                                                ...   \n",
       "925  2024-05-07  [Tue, 07 May 2024 07:00:00 GMT, Tue, 07 May 20...   \n",
       "926  2024-05-08  [Wed, 08 May 2024 12:10:00 GMT, Wed, 08 May 20...   \n",
       "927  2024-05-09  [Thu, 09 May 2024 05:42:30 GMT, Thu, 09 May 20...   \n",
       "928  2024-05-10  [Fri, 10 May 2024 12:46:06 GMT, Fri, 10 May 20...   \n",
       "929  2024-05-11  [Sat, 11 May 2024 00:00:09 GMT, Sat, 11 May 20...   \n",
       "\n",
       "                                               content  predict  \n",
       "0    [ Emails and other communications sent between...    1.000  \n",
       "1    [ Before we can do any predictive modeling or ...    1.000  \n",
       "2    [ The tech giant has just landed a blockbuster...    1.333  \n",
       "3    [ A Boston Dynamics robot has been videoed tak...    1.000  \n",
       "4    [ REDMOND, Wash., and BURLINGTON, Mass., April...    1.500  \n",
       "..                                                 ...      ...  \n",
       "925  [ Microsoft Corporation’s quarterly revenue qu...    1.200  \n",
       "926  [ Below is Validea's guru fundamental report f...    1.062  \n",
       "927  [ Microsoft (MSFT) closed at $266.65 in the la...    2.000  \n",
       "928  [ Investment management company Vulcan Value P...    1.188  \n",
       "929  [ For the quarter ended March 2023, Microsoft ...    1.667  \n",
       "\n",
       "[930 rows x 4 columns]"
      ]
     },
     "execution_count": 168,
     "metadata": {},
     "output_type": "execute_result"
    }
   ],
   "source": [
    "import os\n",
    "import pandas as pd\n",
    "\n",
    "# 데이터프레임과 데이터 로드 부분은 생략합니다.\n",
    "\n",
    "# 'title' 열에서 날짜와 시간을 분리\n",
    "news_df['date'] = pd.to_datetime(news_df['title']).dt.date  # 날짜 추출\n",
    "news_df['time'] = pd.to_datetime(news_df['title']).dt.time  # 시간 추출\n",
    "\n",
    "# 날짜별로 그룹화하고, 'predict' 열에 대한 평균을 계산\n",
    "grouped_df = news_df.groupby('date').agg({\n",
    "    'title': lambda x: x.tolist(),\n",
    "    'content': lambda x: x.tolist(),\n",
    "    'predict': lambda x: round(x.mean(), 3)  \n",
    "})\n",
    "\n",
    "grouped_df.reset_index(inplace=True)  # 인덱스 리셋\n",
    "\n",
    "# 결과 출력\n",
    "grouped_df[['date', 'title', 'content', 'predict']]\n"
   ]
  },
  {
   "cell_type": "code",
   "execution_count": 169,
   "metadata": {},
   "outputs": [
    {
     "data": {
      "text/html": [
       "<div>\n",
       "<style scoped>\n",
       "    .dataframe tbody tr th:only-of-type {\n",
       "        vertical-align: middle;\n",
       "    }\n",
       "\n",
       "    .dataframe tbody tr th {\n",
       "        vertical-align: top;\n",
       "    }\n",
       "\n",
       "    .dataframe thead th {\n",
       "        text-align: right;\n",
       "    }\n",
       "</style>\n",
       "<table border=\"1\" class=\"dataframe\">\n",
       "  <thead>\n",
       "    <tr style=\"text-align: right;\">\n",
       "      <th></th>\n",
       "      <th>date</th>\n",
       "      <th>predict</th>\n",
       "    </tr>\n",
       "  </thead>\n",
       "  <tbody>\n",
       "    <tr>\n",
       "      <th>0</th>\n",
       "      <td>2021-04-06</td>\n",
       "      <td>1.000</td>\n",
       "    </tr>\n",
       "    <tr>\n",
       "      <th>1</th>\n",
       "      <td>2021-04-07</td>\n",
       "      <td>1.000</td>\n",
       "    </tr>\n",
       "    <tr>\n",
       "      <th>2</th>\n",
       "      <td>2021-04-08</td>\n",
       "      <td>1.333</td>\n",
       "    </tr>\n",
       "    <tr>\n",
       "      <th>3</th>\n",
       "      <td>2021-04-09</td>\n",
       "      <td>1.000</td>\n",
       "    </tr>\n",
       "    <tr>\n",
       "      <th>4</th>\n",
       "      <td>2021-04-12</td>\n",
       "      <td>1.500</td>\n",
       "    </tr>\n",
       "    <tr>\n",
       "      <th>...</th>\n",
       "      <td>...</td>\n",
       "      <td>...</td>\n",
       "    </tr>\n",
       "    <tr>\n",
       "      <th>925</th>\n",
       "      <td>2024-05-07</td>\n",
       "      <td>1.200</td>\n",
       "    </tr>\n",
       "    <tr>\n",
       "      <th>926</th>\n",
       "      <td>2024-05-08</td>\n",
       "      <td>1.062</td>\n",
       "    </tr>\n",
       "    <tr>\n",
       "      <th>927</th>\n",
       "      <td>2024-05-09</td>\n",
       "      <td>2.000</td>\n",
       "    </tr>\n",
       "    <tr>\n",
       "      <th>928</th>\n",
       "      <td>2024-05-10</td>\n",
       "      <td>1.188</td>\n",
       "    </tr>\n",
       "    <tr>\n",
       "      <th>929</th>\n",
       "      <td>2024-05-11</td>\n",
       "      <td>1.667</td>\n",
       "    </tr>\n",
       "  </tbody>\n",
       "</table>\n",
       "<p>930 rows × 2 columns</p>\n",
       "</div>"
      ],
      "text/plain": [
       "           date  predict\n",
       "0    2021-04-06    1.000\n",
       "1    2021-04-07    1.000\n",
       "2    2021-04-08    1.333\n",
       "3    2021-04-09    1.000\n",
       "4    2021-04-12    1.500\n",
       "..          ...      ...\n",
       "925  2024-05-07    1.200\n",
       "926  2024-05-08    1.062\n",
       "927  2024-05-09    2.000\n",
       "928  2024-05-10    1.188\n",
       "929  2024-05-11    1.667\n",
       "\n",
       "[930 rows x 2 columns]"
      ]
     },
     "execution_count": 169,
     "metadata": {},
     "output_type": "execute_result"
    }
   ],
   "source": [
    "result_df = grouped_df[['date', 'predict']]\n",
    "result_df"
   ]
  },
  {
   "cell_type": "code",
   "execution_count": 170,
   "metadata": {},
   "outputs": [
    {
     "data": {
      "text/html": [
       "<div>\n",
       "<style scoped>\n",
       "    .dataframe tbody tr th:only-of-type {\n",
       "        vertical-align: middle;\n",
       "    }\n",
       "\n",
       "    .dataframe tbody tr th {\n",
       "        vertical-align: top;\n",
       "    }\n",
       "\n",
       "    .dataframe thead th {\n",
       "        text-align: right;\n",
       "    }\n",
       "</style>\n",
       "<table border=\"1\" class=\"dataframe\">\n",
       "  <thead>\n",
       "    <tr style=\"text-align: right;\">\n",
       "      <th></th>\n",
       "      <th>date</th>\n",
       "      <th>predict</th>\n",
       "    </tr>\n",
       "  </thead>\n",
       "  <tbody>\n",
       "    <tr>\n",
       "      <th>0</th>\n",
       "      <td>2021-04-06</td>\n",
       "      <td>1.000</td>\n",
       "    </tr>\n",
       "    <tr>\n",
       "      <th>1</th>\n",
       "      <td>2021-04-07</td>\n",
       "      <td>1.000</td>\n",
       "    </tr>\n",
       "    <tr>\n",
       "      <th>2</th>\n",
       "      <td>2021-04-08</td>\n",
       "      <td>1.333</td>\n",
       "    </tr>\n",
       "    <tr>\n",
       "      <th>3</th>\n",
       "      <td>2021-04-09</td>\n",
       "      <td>1.000</td>\n",
       "    </tr>\n",
       "    <tr>\n",
       "      <th>4</th>\n",
       "      <td>2021-04-10</td>\n",
       "      <td>1.000</td>\n",
       "    </tr>\n",
       "    <tr>\n",
       "      <th>...</th>\n",
       "      <td>...</td>\n",
       "      <td>...</td>\n",
       "    </tr>\n",
       "    <tr>\n",
       "      <th>1127</th>\n",
       "      <td>2024-05-07</td>\n",
       "      <td>1.200</td>\n",
       "    </tr>\n",
       "    <tr>\n",
       "      <th>1128</th>\n",
       "      <td>2024-05-08</td>\n",
       "      <td>1.062</td>\n",
       "    </tr>\n",
       "    <tr>\n",
       "      <th>1129</th>\n",
       "      <td>2024-05-09</td>\n",
       "      <td>2.000</td>\n",
       "    </tr>\n",
       "    <tr>\n",
       "      <th>1130</th>\n",
       "      <td>2024-05-10</td>\n",
       "      <td>1.188</td>\n",
       "    </tr>\n",
       "    <tr>\n",
       "      <th>1131</th>\n",
       "      <td>2024-05-11</td>\n",
       "      <td>1.667</td>\n",
       "    </tr>\n",
       "  </tbody>\n",
       "</table>\n",
       "<p>1132 rows × 2 columns</p>\n",
       "</div>"
      ],
      "text/plain": [
       "           date  predict\n",
       "0    2021-04-06    1.000\n",
       "1    2021-04-07    1.000\n",
       "2    2021-04-08    1.333\n",
       "3    2021-04-09    1.000\n",
       "4    2021-04-10    1.000\n",
       "...         ...      ...\n",
       "1127 2024-05-07    1.200\n",
       "1128 2024-05-08    1.062\n",
       "1129 2024-05-09    2.000\n",
       "1130 2024-05-10    1.188\n",
       "1131 2024-05-11    1.667\n",
       "\n",
       "[1132 rows x 2 columns]"
      ]
     },
     "execution_count": 170,
     "metadata": {},
     "output_type": "execute_result"
    }
   ],
   "source": [
    "import os\n",
    "import pandas as pd\n",
    "\n",
    "# 데이터프레임과 데이터 로드 부분은 생략합니다.\n",
    "\n",
    "# 'title' 열에서 날짜와 시간을 분리\n",
    "news_df['date'] = pd.to_datetime(news_df['title']).dt.date  # 날짜 추출\n",
    "news_df['time'] = pd.to_datetime(news_df['title']).dt.time  # 시간 추출\n",
    "\n",
    "# 'date' 열을 datetime 형식으로 다시 변환\n",
    "news_df['date'] = pd.to_datetime(news_df['date'])\n",
    "\n",
    "# 날짜별로 그룹화하고, 'predict' 열에 대한 평균을 계산\n",
    "grouped_df = news_df.groupby('date').agg({\n",
    "    'title': lambda x: x.tolist(),\n",
    "    'content': lambda x: x.tolist(),\n",
    "    'predict': lambda x: round(x.mean(), 3)  \n",
    "})\n",
    "\n",
    "grouped_df.reset_index(inplace=True)  # 인덱스 리셋\n",
    "\n",
    "# 모든 날짜를 포함하는 날짜 범위 생성\n",
    "all_dates = pd.date_range(start=grouped_df['date'].min(), end=grouped_df['date'].max(), freq='D')\n",
    "# 새로운 DataFrame 생성 후 기존 데이터와 병합\n",
    "complete_df = pd.DataFrame(all_dates, columns=['date'])\n",
    "complete_df['date'] = pd.to_datetime(complete_df['date'])  # 날짜를 datetime으로 변환\n",
    "complete_df = complete_df.merge(grouped_df, on='date', how='left')\n",
    "# 누락된 'predict' 값을 이전 값으로 채우기\n",
    "complete_df['predict'] = complete_df['predict'].fillna(method='ffill')\n",
    "\n",
    "# 'date'와 'predict' 열만 선택하여 결과 출력\n",
    "result_df = complete_df[['date', 'predict']]\n",
    "result_df\n"
   ]
  },
  {
   "cell_type": "code",
   "execution_count": 171,
   "metadata": {},
   "outputs": [
    {
     "data": {
      "text/html": [
       "<div>\n",
       "<style scoped>\n",
       "    .dataframe tbody tr th:only-of-type {\n",
       "        vertical-align: middle;\n",
       "    }\n",
       "\n",
       "    .dataframe tbody tr th {\n",
       "        vertical-align: top;\n",
       "    }\n",
       "\n",
       "    .dataframe thead th {\n",
       "        text-align: right;\n",
       "    }\n",
       "</style>\n",
       "<table border=\"1\" class=\"dataframe\">\n",
       "  <thead>\n",
       "    <tr style=\"text-align: right;\">\n",
       "      <th></th>\n",
       "      <th>date</th>\n",
       "      <th>predict</th>\n",
       "    </tr>\n",
       "  </thead>\n",
       "  <tbody>\n",
       "    <tr>\n",
       "      <th>0</th>\n",
       "      <td>2021-04-06</td>\n",
       "      <td>1.000</td>\n",
       "    </tr>\n",
       "    <tr>\n",
       "      <th>1</th>\n",
       "      <td>2021-04-07</td>\n",
       "      <td>1.000</td>\n",
       "    </tr>\n",
       "    <tr>\n",
       "      <th>2</th>\n",
       "      <td>2021-04-08</td>\n",
       "      <td>1.333</td>\n",
       "    </tr>\n",
       "    <tr>\n",
       "      <th>3</th>\n",
       "      <td>2021-04-09</td>\n",
       "      <td>1.000</td>\n",
       "    </tr>\n",
       "    <tr>\n",
       "      <th>4</th>\n",
       "      <td>2021-04-10</td>\n",
       "      <td>1.000</td>\n",
       "    </tr>\n",
       "    <tr>\n",
       "      <th>...</th>\n",
       "      <td>...</td>\n",
       "      <td>...</td>\n",
       "    </tr>\n",
       "    <tr>\n",
       "      <th>1126</th>\n",
       "      <td>2024-05-06</td>\n",
       "      <td>1.393</td>\n",
       "    </tr>\n",
       "    <tr>\n",
       "      <th>1127</th>\n",
       "      <td>2024-05-07</td>\n",
       "      <td>1.200</td>\n",
       "    </tr>\n",
       "    <tr>\n",
       "      <th>1128</th>\n",
       "      <td>2024-05-08</td>\n",
       "      <td>1.062</td>\n",
       "    </tr>\n",
       "    <tr>\n",
       "      <th>1129</th>\n",
       "      <td>2024-05-09</td>\n",
       "      <td>2.000</td>\n",
       "    </tr>\n",
       "    <tr>\n",
       "      <th>1130</th>\n",
       "      <td>2024-05-10</td>\n",
       "      <td>1.188</td>\n",
       "    </tr>\n",
       "  </tbody>\n",
       "</table>\n",
       "<p>1131 rows × 2 columns</p>\n",
       "</div>"
      ],
      "text/plain": [
       "           date  predict\n",
       "0    2021-04-06    1.000\n",
       "1    2021-04-07    1.000\n",
       "2    2021-04-08    1.333\n",
       "3    2021-04-09    1.000\n",
       "4    2021-04-10    1.000\n",
       "...         ...      ...\n",
       "1126 2024-05-06    1.393\n",
       "1127 2024-05-07    1.200\n",
       "1128 2024-05-08    1.062\n",
       "1129 2024-05-09    2.000\n",
       "1130 2024-05-10    1.188\n",
       "\n",
       "[1131 rows x 2 columns]"
      ]
     },
     "execution_count": 171,
     "metadata": {},
     "output_type": "execute_result"
    }
   ],
   "source": [
    "result_df = result_df.drop(len(result_df) - 1)\n",
    "result_df"
   ]
  },
  {
   "cell_type": "markdown",
   "metadata": {},
   "source": [
    "<h1>기간범위중 맨앞 데이터가 없을경우 1로채운다\n"
   ]
  },
  {
   "cell_type": "code",
   "execution_count": 172,
   "metadata": {},
   "outputs": [
    {
     "name": "stderr",
     "output_type": "stream",
     "text": [
      "C:\\Users\\chan\\AppData\\Local\\Temp\\ipykernel_31808\\1797439696.py:11: FutureWarning: The frame.append method is deprecated and will be removed from pandas in a future version. Use pandas.concat instead.\n",
      "  result_df = result_df.append({'date': date, 'predict': 1.0}, ignore_index=True)\n"
     ]
    },
    {
     "data": {
      "text/html": [
       "<div>\n",
       "<style scoped>\n",
       "    .dataframe tbody tr th:only-of-type {\n",
       "        vertical-align: middle;\n",
       "    }\n",
       "\n",
       "    .dataframe tbody tr th {\n",
       "        vertical-align: top;\n",
       "    }\n",
       "\n",
       "    .dataframe thead th {\n",
       "        text-align: right;\n",
       "    }\n",
       "</style>\n",
       "<table border=\"1\" class=\"dataframe\">\n",
       "  <thead>\n",
       "    <tr style=\"text-align: right;\">\n",
       "      <th></th>\n",
       "      <th>date</th>\n",
       "      <th>predict</th>\n",
       "    </tr>\n",
       "  </thead>\n",
       "  <tbody>\n",
       "    <tr>\n",
       "      <th>0</th>\n",
       "      <td>2021-04-05</td>\n",
       "      <td>1.000</td>\n",
       "    </tr>\n",
       "    <tr>\n",
       "      <th>1</th>\n",
       "      <td>2021-04-06</td>\n",
       "      <td>1.000</td>\n",
       "    </tr>\n",
       "    <tr>\n",
       "      <th>2</th>\n",
       "      <td>2021-04-07</td>\n",
       "      <td>1.000</td>\n",
       "    </tr>\n",
       "    <tr>\n",
       "      <th>3</th>\n",
       "      <td>2021-04-08</td>\n",
       "      <td>1.333</td>\n",
       "    </tr>\n",
       "    <tr>\n",
       "      <th>4</th>\n",
       "      <td>2021-04-09</td>\n",
       "      <td>1.000</td>\n",
       "    </tr>\n",
       "    <tr>\n",
       "      <th>...</th>\n",
       "      <td>...</td>\n",
       "      <td>...</td>\n",
       "    </tr>\n",
       "    <tr>\n",
       "      <th>1127</th>\n",
       "      <td>2024-05-06</td>\n",
       "      <td>1.393</td>\n",
       "    </tr>\n",
       "    <tr>\n",
       "      <th>1128</th>\n",
       "      <td>2024-05-07</td>\n",
       "      <td>1.200</td>\n",
       "    </tr>\n",
       "    <tr>\n",
       "      <th>1129</th>\n",
       "      <td>2024-05-08</td>\n",
       "      <td>1.062</td>\n",
       "    </tr>\n",
       "    <tr>\n",
       "      <th>1130</th>\n",
       "      <td>2024-05-09</td>\n",
       "      <td>2.000</td>\n",
       "    </tr>\n",
       "    <tr>\n",
       "      <th>1131</th>\n",
       "      <td>2024-05-10</td>\n",
       "      <td>1.188</td>\n",
       "    </tr>\n",
       "  </tbody>\n",
       "</table>\n",
       "<p>1132 rows × 2 columns</p>\n",
       "</div>"
      ],
      "text/plain": [
       "           date  predict\n",
       "0    2021-04-05    1.000\n",
       "1    2021-04-06    1.000\n",
       "2    2021-04-07    1.000\n",
       "3    2021-04-08    1.333\n",
       "4    2021-04-09    1.000\n",
       "...         ...      ...\n",
       "1127 2024-05-06    1.393\n",
       "1128 2024-05-07    1.200\n",
       "1129 2024-05-08    1.062\n",
       "1130 2024-05-09    2.000\n",
       "1131 2024-05-10    1.188\n",
       "\n",
       "[1132 rows x 2 columns]"
      ]
     },
     "execution_count": 172,
     "metadata": {},
     "output_type": "execute_result"
    }
   ],
   "source": [
    "from datetime import datetime, timedelta\n",
    "\n",
    "start_date = datetime.strptime('2021-04-05', '%Y-%m-%d')\n",
    "end_date = datetime.strptime('2024-05-10', '%Y-%m-%d')\n",
    "\n",
    "# 주어진 범위 내에 있는 날짜 생성\n",
    "missing_dates = pd.date_range(start=start_date, end=end_date).difference(result_df['date'])\n",
    "\n",
    "# 새로운 날짜와 예측값 추가\n",
    "for date in missing_dates:\n",
    "    result_df = result_df.append({'date': date, 'predict': 1.0}, ignore_index=True)\n",
    "\n",
    "# 날짜 기준으로 데이터프레임 정렬\n",
    "result_df = result_df.sort_values('date').reset_index(drop=True)\n",
    "result_df"
   ]
  },
  {
   "cell_type": "code",
   "execution_count": 173,
   "metadata": {},
   "outputs": [
    {
     "data": {
      "text/plain": [
       "<AxesSubplot:>"
      ]
     },
     "execution_count": 173,
     "metadata": {},
     "output_type": "execute_result"
    },
    {
     "data": {
      "image/png": "[encoded data removed]",
      "text/plain": [
       "<Figure size 640x480 with 1 Axes>"
      ]
     },
     "metadata": {},
     "output_type": "display_data"
    }
   ],
   "source": [
    "news_df['predict'].value_counts().plot(kind='bar')"
   ]
  },
  {
   "cell_type": "code",
   "execution_count": 174,
   "metadata": {},
   "outputs": [],
   "source": [
    "import numpy as np\n",
    "import pandas as pd\n",
    "\n",
    "import pandas_datareader.data as web # 주식 데이터를 얻어오기 위해 사용\n",
    "import datetime # 시간 처리\n",
    "import matplotlib.pyplot as plt\n",
    "import yfinance as yf\n",
    "import FinanceDataReader as fdr\n",
    "from prophet import Prophet\n",
    "%matplotlib inline\n",
    "\n",
    "# 데이터를 가져오고 나서, 이동평균을 구해야함.\n",
    "# 국내 종목 : 삼성전자\n",
    "\n",
    "# 날짜 : 3년 간 삼성전자 주가 분석(2017.01.02) ~ (2021.06.07)\n",
    "start = datetime.datetime( 2021, 4, 5 )\n",
    "end = datetime.datetime( 2024, 5, 11)"
   ]
  },
  {
   "cell_type": "code",
   "execution_count": 175,
   "metadata": {},
   "outputs": [],
   "source": [
    "def makeStockChart(code, sDay, eDay):\n",
    "    \"\"\"\n",
    "    이 함수는 종목코드와 조회 시작일, 종료일을 넣으면 차트를 그려준다.\n",
    "    이동 평균선은 5일, 20일, 60일, 120일을 지원한다.\n",
    "    \"\"\"\n",
    "    \n",
    "    # 데이터 가져오기\n",
    "    data = yf.download(code, start=sDay, end=eDay)\n",
    "    \n",
    "    # 이동 평균 계산\n",
    "    data['5MA'] = data['Adj Close'].rolling(window=5).mean()\n",
    "    data['20MA'] = data['Adj Close'].rolling(window=20).mean()\n",
    "    data['60MA'] = data['Adj Close'].rolling(window=60).mean()\n",
    "    data['120MA'] = data['Adj Close'].rolling(window=120).mean()\n",
    "    \n",
    "    # 차트 그리기\n",
    "    plt.figure(figsize=(12, 6))\n",
    "    plt.plot(data['Close'], label='Close')\n",
    "    plt.plot(data['5MA'], label='5MA')\n",
    "    plt.plot(data['20MA'], label='20MA')\n",
    "    plt.plot(data['60MA'], label='60MA')\n",
    "    plt.plot(data['120MA'], label='120MA')\n",
    "    plt.title(f\"{code}'s Stock Chart\")\n",
    "    plt.legend()\n",
    "    plt.show()"
   ]
  },
  {
   "cell_type": "code",
   "execution_count": 176,
   "metadata": {},
   "outputs": [
    {
     "name": "stderr",
     "output_type": "stream",
     "text": [
      "[*********************100%%**********************]  1 of 1 completed\n"
     ]
    },
    {
     "data": {
      "image/png": "[encoded data removed]",
      "text/plain": [
       "<Figure size 1200x600 with 1 Axes>"
      ]
     },
     "metadata": {},
     "output_type": "display_data"
    }
   ],
   "source": [
    "code_name = 'MSFT'\n",
    "makeStockChart(code_name, start, end)"
   ]
  },
  {
   "cell_type": "code",
   "execution_count": 177,
   "metadata": {},
   "outputs": [
    {
     "name": "stderr",
     "output_type": "stream",
     "text": [
      "[*********************100%%**********************]  1 of 1 completed\n"
     ]
    },
    {
     "data": {
      "text/html": [
       "<div>\n",
       "<style scoped>\n",
       "    .dataframe tbody tr th:only-of-type {\n",
       "        vertical-align: middle;\n",
       "    }\n",
       "\n",
       "    .dataframe tbody tr th {\n",
       "        vertical-align: top;\n",
       "    }\n",
       "\n",
       "    .dataframe thead th {\n",
       "        text-align: right;\n",
       "    }\n",
       "</style>\n",
       "<table border=\"1\" class=\"dataframe\">\n",
       "  <thead>\n",
       "    <tr style=\"text-align: right;\">\n",
       "      <th></th>\n",
       "      <th>ds</th>\n",
       "      <th>y</th>\n",
       "    </tr>\n",
       "  </thead>\n",
       "  <tbody>\n",
       "    <tr>\n",
       "      <th>0</th>\n",
       "      <td>2021-04-05</td>\n",
       "      <td>249.070007</td>\n",
       "    </tr>\n",
       "    <tr>\n",
       "      <th>1</th>\n",
       "      <td>2021-04-06</td>\n",
       "      <td>247.860001</td>\n",
       "    </tr>\n",
       "    <tr>\n",
       "      <th>2</th>\n",
       "      <td>2021-04-07</td>\n",
       "      <td>249.899994</td>\n",
       "    </tr>\n",
       "    <tr>\n",
       "      <th>3</th>\n",
       "      <td>2021-04-08</td>\n",
       "      <td>253.250000</td>\n",
       "    </tr>\n",
       "    <tr>\n",
       "      <th>4</th>\n",
       "      <td>2021-04-09</td>\n",
       "      <td>255.850006</td>\n",
       "    </tr>\n",
       "    <tr>\n",
       "      <th>...</th>\n",
       "      <td>...</td>\n",
       "      <td>...</td>\n",
       "    </tr>\n",
       "    <tr>\n",
       "      <th>777</th>\n",
       "      <td>2024-05-06</td>\n",
       "      <td>413.540009</td>\n",
       "    </tr>\n",
       "    <tr>\n",
       "      <th>778</th>\n",
       "      <td>2024-05-07</td>\n",
       "      <td>409.339996</td>\n",
       "    </tr>\n",
       "    <tr>\n",
       "      <th>779</th>\n",
       "      <td>2024-05-08</td>\n",
       "      <td>410.540009</td>\n",
       "    </tr>\n",
       "    <tr>\n",
       "      <th>780</th>\n",
       "      <td>2024-05-09</td>\n",
       "      <td>412.320007</td>\n",
       "    </tr>\n",
       "    <tr>\n",
       "      <th>781</th>\n",
       "      <td>2024-05-10</td>\n",
       "      <td>414.739990</td>\n",
       "    </tr>\n",
       "  </tbody>\n",
       "</table>\n",
       "<p>782 rows × 2 columns</p>\n",
       "</div>"
      ],
      "text/plain": [
       "            ds           y\n",
       "0   2021-04-05  249.070007\n",
       "1   2021-04-06  247.860001\n",
       "2   2021-04-07  249.899994\n",
       "3   2021-04-08  253.250000\n",
       "4   2021-04-09  255.850006\n",
       "..         ...         ...\n",
       "777 2024-05-06  413.540009\n",
       "778 2024-05-07  409.339996\n",
       "779 2024-05-08  410.540009\n",
       "780 2024-05-09  412.320007\n",
       "781 2024-05-10  414.739990\n",
       "\n",
       "[782 rows x 2 columns]"
      ]
     },
     "execution_count": 177,
     "metadata": {},
     "output_type": "execute_result"
    }
   ],
   "source": [
    "datas = yf.download(code_name, start=start, end=end)\n",
    "\n",
    "# 컬럼 ds(YYYY-MM-DD), y(종가 : Close) 구성\n",
    "# 해당 구저의 DateFrame만들기 위한 딕셔너리 선언\n",
    "\n",
    "dic = {\n",
    "    'ds' : datas.index,\n",
    "    'y' : datas.Close,\n",
    "    # 'volume': datas.Volume\n",
    "    \n",
    "}\n",
    "\n",
    "# ds 와 y를 컬럼으로 갖는 데이터 프레임 생성\n",
    "finance_df = pd.DataFrame( dic )\n",
    "\n",
    "#인덱스 초기화(원본 까지 적용)\n",
    "finance_df.reset_index( inplace=True )\n",
    "\n",
    "# 'ds' 컬럼과 중복되는 'Date' 컬럼 제거\n",
    "del finance_df['Date']\n",
    "\n",
    "# 페이스북의 시계열 예측 모델에 사용한 데이터 준비\n",
    "finance_df.head(5)\n",
    "finance_df.tail(5)\n",
    "# print(len(finance_df))\n",
    "finance_df"
   ]
  },
  {
   "cell_type": "code",
   "execution_count": 178,
   "metadata": {},
   "outputs": [
    {
     "data": {
      "text/html": [
       "<div>\n",
       "<style scoped>\n",
       "    .dataframe tbody tr th:only-of-type {\n",
       "        vertical-align: middle;\n",
       "    }\n",
       "\n",
       "    .dataframe tbody tr th {\n",
       "        vertical-align: top;\n",
       "    }\n",
       "\n",
       "    .dataframe thead th {\n",
       "        text-align: right;\n",
       "    }\n",
       "</style>\n",
       "<table border=\"1\" class=\"dataframe\">\n",
       "  <thead>\n",
       "    <tr style=\"text-align: right;\">\n",
       "      <th></th>\n",
       "      <th>date</th>\n",
       "    </tr>\n",
       "  </thead>\n",
       "  <tbody>\n",
       "    <tr>\n",
       "      <th>5</th>\n",
       "      <td>2021-04-10</td>\n",
       "    </tr>\n",
       "    <tr>\n",
       "      <th>6</th>\n",
       "      <td>2021-04-11</td>\n",
       "    </tr>\n",
       "    <tr>\n",
       "      <th>12</th>\n",
       "      <td>2021-04-17</td>\n",
       "    </tr>\n",
       "    <tr>\n",
       "      <th>13</th>\n",
       "      <td>2021-04-18</td>\n",
       "    </tr>\n",
       "    <tr>\n",
       "      <th>19</th>\n",
       "      <td>2021-04-24</td>\n",
       "    </tr>\n",
       "    <tr>\n",
       "      <th>...</th>\n",
       "      <td>...</td>\n",
       "    </tr>\n",
       "    <tr>\n",
       "      <th>1118</th>\n",
       "      <td>2024-04-27</td>\n",
       "    </tr>\n",
       "    <tr>\n",
       "      <th>1119</th>\n",
       "      <td>2024-04-28</td>\n",
       "    </tr>\n",
       "    <tr>\n",
       "      <th>1125</th>\n",
       "      <td>2024-05-04</td>\n",
       "    </tr>\n",
       "    <tr>\n",
       "      <th>1126</th>\n",
       "      <td>2024-05-05</td>\n",
       "    </tr>\n",
       "    <tr>\n",
       "      <th>1132</th>\n",
       "      <td>2024-05-11</td>\n",
       "    </tr>\n",
       "  </tbody>\n",
       "</table>\n",
       "<p>351 rows × 1 columns</p>\n",
       "</div>"
      ],
      "text/plain": [
       "           date\n",
       "5    2021-04-10\n",
       "6    2021-04-11\n",
       "12   2021-04-17\n",
       "13   2021-04-18\n",
       "19   2021-04-24\n",
       "...         ...\n",
       "1118 2024-04-27\n",
       "1119 2024-04-28\n",
       "1125 2024-05-04\n",
       "1126 2024-05-05\n",
       "1132 2024-05-11\n",
       "\n",
       "[351 rows x 1 columns]"
      ]
     },
     "execution_count": 178,
     "metadata": {},
     "output_type": "execute_result"
    }
   ],
   "source": [
    "import pandas as pd\n",
    "import datetime\n",
    "\n",
    "# 정해진 기간을 데이터프레임화\n",
    "\n",
    "\n",
    "# start와 end 사이의 날짜를 포함하는 DataFrame 생성\n",
    "date_range = pd.date_range(start=start, end=end)\n",
    "df_date_range = pd.DataFrame(date_range, columns=['date'])\n",
    "\n",
    "# 다른 데이터프레임 예시 생성\n",
    "\n",
    "\n",
    "# df_date_range에서 other_dates의 date와 겹치는 날짜를 제거\n",
    "df_filtered = df_date_range[~df_date_range['date'].isin(finance_df['ds'])]\n",
    "df_filtered #미국주식 안열리는 날 계산한 데이터 프레임"
   ]
  },
  {
   "cell_type": "code",
   "execution_count": 179,
   "metadata": {},
   "outputs": [
    {
     "data": {
      "text/html": [
       "<div>\n",
       "<style scoped>\n",
       "    .dataframe tbody tr th:only-of-type {\n",
       "        vertical-align: middle;\n",
       "    }\n",
       "\n",
       "    .dataframe tbody tr th {\n",
       "        vertical-align: top;\n",
       "    }\n",
       "\n",
       "    .dataframe thead th {\n",
       "        text-align: right;\n",
       "    }\n",
       "</style>\n",
       "<table border=\"1\" class=\"dataframe\">\n",
       "  <thead>\n",
       "    <tr style=\"text-align: right;\">\n",
       "      <th></th>\n",
       "      <th>date</th>\n",
       "      <th>predict</th>\n",
       "    </tr>\n",
       "  </thead>\n",
       "  <tbody>\n",
       "    <tr>\n",
       "      <th>0</th>\n",
       "      <td>2021-04-05</td>\n",
       "      <td>1.000</td>\n",
       "    </tr>\n",
       "    <tr>\n",
       "      <th>1</th>\n",
       "      <td>2021-04-06</td>\n",
       "      <td>1.000</td>\n",
       "    </tr>\n",
       "    <tr>\n",
       "      <th>2</th>\n",
       "      <td>2021-04-07</td>\n",
       "      <td>1.000</td>\n",
       "    </tr>\n",
       "    <tr>\n",
       "      <th>3</th>\n",
       "      <td>2021-04-08</td>\n",
       "      <td>1.333</td>\n",
       "    </tr>\n",
       "    <tr>\n",
       "      <th>4</th>\n",
       "      <td>2021-04-09</td>\n",
       "      <td>1.000</td>\n",
       "    </tr>\n",
       "    <tr>\n",
       "      <th>...</th>\n",
       "      <td>...</td>\n",
       "      <td>...</td>\n",
       "    </tr>\n",
       "    <tr>\n",
       "      <th>1127</th>\n",
       "      <td>2024-05-06</td>\n",
       "      <td>1.393</td>\n",
       "    </tr>\n",
       "    <tr>\n",
       "      <th>1128</th>\n",
       "      <td>2024-05-07</td>\n",
       "      <td>1.200</td>\n",
       "    </tr>\n",
       "    <tr>\n",
       "      <th>1129</th>\n",
       "      <td>2024-05-08</td>\n",
       "      <td>1.062</td>\n",
       "    </tr>\n",
       "    <tr>\n",
       "      <th>1130</th>\n",
       "      <td>2024-05-09</td>\n",
       "      <td>2.000</td>\n",
       "    </tr>\n",
       "    <tr>\n",
       "      <th>1131</th>\n",
       "      <td>2024-05-10</td>\n",
       "      <td>1.188</td>\n",
       "    </tr>\n",
       "  </tbody>\n",
       "</table>\n",
       "<p>782 rows × 2 columns</p>\n",
       "</div>"
      ],
      "text/plain": [
       "           date  predict\n",
       "0    2021-04-05    1.000\n",
       "1    2021-04-06    1.000\n",
       "2    2021-04-07    1.000\n",
       "3    2021-04-08    1.333\n",
       "4    2021-04-09    1.000\n",
       "...         ...      ...\n",
       "1127 2024-05-06    1.393\n",
       "1128 2024-05-07    1.200\n",
       "1129 2024-05-08    1.062\n",
       "1130 2024-05-09    2.000\n",
       "1131 2024-05-10    1.188\n",
       "\n",
       "[782 rows x 2 columns]"
      ]
     },
     "execution_count": 179,
     "metadata": {},
     "output_type": "execute_result"
    }
   ],
   "source": [
    "# 겹치는 날짜 \n",
    "common_dates = result_df[result_df['date'].isin(df_filtered['date'])]['date']\n",
    "\n",
    "# 겹치는 날짜를 갖는 행 제거\n",
    "result_filtered = result_df[~result_df['date'].isin(common_dates)]\n",
    "# result_filtered = result_filtered.iloc[:-1]\n",
    "result_filtered"
   ]
  },
  {
   "cell_type": "code",
   "execution_count": 180,
   "metadata": {},
   "outputs": [
    {
     "data": {
      "text/html": [
       "<div>\n",
       "<style scoped>\n",
       "    .dataframe tbody tr th:only-of-type {\n",
       "        vertical-align: middle;\n",
       "    }\n",
       "\n",
       "    .dataframe tbody tr th {\n",
       "        vertical-align: top;\n",
       "    }\n",
       "\n",
       "    .dataframe thead th {\n",
       "        text-align: right;\n",
       "    }\n",
       "</style>\n",
       "<table border=\"1\" class=\"dataframe\">\n",
       "  <thead>\n",
       "    <tr style=\"text-align: right;\">\n",
       "      <th></th>\n",
       "      <th>index</th>\n",
       "      <th>date</th>\n",
       "      <th>predict</th>\n",
       "    </tr>\n",
       "  </thead>\n",
       "  <tbody>\n",
       "    <tr>\n",
       "      <th>0</th>\n",
       "      <td>0</td>\n",
       "      <td>2021-04-05</td>\n",
       "      <td>1.000</td>\n",
       "    </tr>\n",
       "    <tr>\n",
       "      <th>1</th>\n",
       "      <td>1</td>\n",
       "      <td>2021-04-06</td>\n",
       "      <td>1.000</td>\n",
       "    </tr>\n",
       "    <tr>\n",
       "      <th>2</th>\n",
       "      <td>2</td>\n",
       "      <td>2021-04-07</td>\n",
       "      <td>1.000</td>\n",
       "    </tr>\n",
       "    <tr>\n",
       "      <th>3</th>\n",
       "      <td>3</td>\n",
       "      <td>2021-04-08</td>\n",
       "      <td>1.333</td>\n",
       "    </tr>\n",
       "    <tr>\n",
       "      <th>4</th>\n",
       "      <td>4</td>\n",
       "      <td>2021-04-09</td>\n",
       "      <td>1.000</td>\n",
       "    </tr>\n",
       "    <tr>\n",
       "      <th>...</th>\n",
       "      <td>...</td>\n",
       "      <td>...</td>\n",
       "      <td>...</td>\n",
       "    </tr>\n",
       "    <tr>\n",
       "      <th>777</th>\n",
       "      <td>1127</td>\n",
       "      <td>2024-05-06</td>\n",
       "      <td>1.393</td>\n",
       "    </tr>\n",
       "    <tr>\n",
       "      <th>778</th>\n",
       "      <td>1128</td>\n",
       "      <td>2024-05-07</td>\n",
       "      <td>1.200</td>\n",
       "    </tr>\n",
       "    <tr>\n",
       "      <th>779</th>\n",
       "      <td>1129</td>\n",
       "      <td>2024-05-08</td>\n",
       "      <td>1.062</td>\n",
       "    </tr>\n",
       "    <tr>\n",
       "      <th>780</th>\n",
       "      <td>1130</td>\n",
       "      <td>2024-05-09</td>\n",
       "      <td>2.000</td>\n",
       "    </tr>\n",
       "    <tr>\n",
       "      <th>781</th>\n",
       "      <td>1131</td>\n",
       "      <td>2024-05-10</td>\n",
       "      <td>1.188</td>\n",
       "    </tr>\n",
       "  </tbody>\n",
       "</table>\n",
       "<p>782 rows × 3 columns</p>\n",
       "</div>"
      ],
      "text/plain": [
       "     index       date  predict\n",
       "0        0 2021-04-05    1.000\n",
       "1        1 2021-04-06    1.000\n",
       "2        2 2021-04-07    1.000\n",
       "3        3 2021-04-08    1.333\n",
       "4        4 2021-04-09    1.000\n",
       "..     ...        ...      ...\n",
       "777   1127 2024-05-06    1.393\n",
       "778   1128 2024-05-07    1.200\n",
       "779   1129 2024-05-08    1.062\n",
       "780   1130 2024-05-09    2.000\n",
       "781   1131 2024-05-10    1.188\n",
       "\n",
       "[782 rows x 3 columns]"
      ]
     },
     "execution_count": 180,
     "metadata": {},
     "output_type": "execute_result"
    }
   ],
   "source": [
    "result_filtered.reset_index(inplace=True)\n",
    "result_filtered"
   ]
  },
  {
   "cell_type": "code",
   "execution_count": 181,
   "metadata": {},
   "outputs": [
    {
     "data": {
      "text/html": [
       "<div>\n",
       "<style scoped>\n",
       "    .dataframe tbody tr th:only-of-type {\n",
       "        vertical-align: middle;\n",
       "    }\n",
       "\n",
       "    .dataframe tbody tr th {\n",
       "        vertical-align: top;\n",
       "    }\n",
       "\n",
       "    .dataframe thead th {\n",
       "        text-align: right;\n",
       "    }\n",
       "</style>\n",
       "<table border=\"1\" class=\"dataframe\">\n",
       "  <thead>\n",
       "    <tr style=\"text-align: right;\">\n",
       "      <th></th>\n",
       "      <th>date</th>\n",
       "      <th>predict</th>\n",
       "    </tr>\n",
       "  </thead>\n",
       "  <tbody>\n",
       "    <tr>\n",
       "      <th>0</th>\n",
       "      <td>2021-04-05</td>\n",
       "      <td>1.000</td>\n",
       "    </tr>\n",
       "    <tr>\n",
       "      <th>1</th>\n",
       "      <td>2021-04-06</td>\n",
       "      <td>1.000</td>\n",
       "    </tr>\n",
       "    <tr>\n",
       "      <th>2</th>\n",
       "      <td>2021-04-07</td>\n",
       "      <td>1.000</td>\n",
       "    </tr>\n",
       "    <tr>\n",
       "      <th>3</th>\n",
       "      <td>2021-04-08</td>\n",
       "      <td>1.333</td>\n",
       "    </tr>\n",
       "    <tr>\n",
       "      <th>4</th>\n",
       "      <td>2021-04-09</td>\n",
       "      <td>1.000</td>\n",
       "    </tr>\n",
       "    <tr>\n",
       "      <th>...</th>\n",
       "      <td>...</td>\n",
       "      <td>...</td>\n",
       "    </tr>\n",
       "    <tr>\n",
       "      <th>777</th>\n",
       "      <td>2024-05-06</td>\n",
       "      <td>1.393</td>\n",
       "    </tr>\n",
       "    <tr>\n",
       "      <th>778</th>\n",
       "      <td>2024-05-07</td>\n",
       "      <td>1.200</td>\n",
       "    </tr>\n",
       "    <tr>\n",
       "      <th>779</th>\n",
       "      <td>2024-05-08</td>\n",
       "      <td>1.062</td>\n",
       "    </tr>\n",
       "    <tr>\n",
       "      <th>780</th>\n",
       "      <td>2024-05-09</td>\n",
       "      <td>2.000</td>\n",
       "    </tr>\n",
       "    <tr>\n",
       "      <th>781</th>\n",
       "      <td>2024-05-10</td>\n",
       "      <td>1.188</td>\n",
       "    </tr>\n",
       "  </tbody>\n",
       "</table>\n",
       "<p>782 rows × 2 columns</p>\n",
       "</div>"
      ],
      "text/plain": [
       "          date  predict\n",
       "0   2021-04-05    1.000\n",
       "1   2021-04-06    1.000\n",
       "2   2021-04-07    1.000\n",
       "3   2021-04-08    1.333\n",
       "4   2021-04-09    1.000\n",
       "..         ...      ...\n",
       "777 2024-05-06    1.393\n",
       "778 2024-05-07    1.200\n",
       "779 2024-05-08    1.062\n",
       "780 2024-05-09    2.000\n",
       "781 2024-05-10    1.188\n",
       "\n",
       "[782 rows x 2 columns]"
      ]
     },
     "execution_count": 181,
     "metadata": {},
     "output_type": "execute_result"
    }
   ],
   "source": [
    "result_filtered_future = result_filtered.copy()\n",
    "result_filtered_future = result_filtered_future.drop(columns=['index'])\n",
    "result_filtered_future\n"
   ]
  },
  {
   "cell_type": "code",
   "execution_count": 153,
   "metadata": {},
   "outputs": [],
   "source": [
    "# import pandas as pd\n",
    "\n",
    "# # finance_df와 result_filtered_future 데이터프레임을 병합하여 새로운 데이터프레임 생성\n",
    "# result_filtered_future = pd.concat([result_filtered_future, finance_df['volume']], axis=1)\n",
    "\n",
    "# # 결과 확인\n",
    "# result_filtered_future\n"
   ]
  },
  {
   "cell_type": "markdown",
   "metadata": {},
   "source": [
    "<h1>future -> forecast를 위한 값 추가</h1>"
   ]
  },
  {
   "cell_type": "code",
   "execution_count": 182,
   "metadata": {},
   "outputs": [
    {
     "name": "stderr",
     "output_type": "stream",
     "text": [
      "C:\\Users\\chan\\AppData\\Local\\Temp\\ipykernel_31808\\3564898628.py:10: FutureWarning: The frame.append method is deprecated and will be removed from pandas in a future version. Use pandas.concat instead.\n",
      "  result_filtered_future = result_filtered_future.append(new_row, ignore_index=True)\n"
     ]
    },
    {
     "data": {
      "text/html": [
       "<div>\n",
       "<style scoped>\n",
       "    .dataframe tbody tr th:only-of-type {\n",
       "        vertical-align: middle;\n",
       "    }\n",
       "\n",
       "    .dataframe tbody tr th {\n",
       "        vertical-align: top;\n",
       "    }\n",
       "\n",
       "    .dataframe thead th {\n",
       "        text-align: right;\n",
       "    }\n",
       "</style>\n",
       "<table border=\"1\" class=\"dataframe\">\n",
       "  <thead>\n",
       "    <tr style=\"text-align: right;\">\n",
       "      <th></th>\n",
       "      <th>date</th>\n",
       "      <th>predict</th>\n",
       "    </tr>\n",
       "  </thead>\n",
       "  <tbody>\n",
       "    <tr>\n",
       "      <th>0</th>\n",
       "      <td>2021-04-05</td>\n",
       "      <td>1.000</td>\n",
       "    </tr>\n",
       "    <tr>\n",
       "      <th>1</th>\n",
       "      <td>2021-04-06</td>\n",
       "      <td>1.000</td>\n",
       "    </tr>\n",
       "    <tr>\n",
       "      <th>2</th>\n",
       "      <td>2021-04-07</td>\n",
       "      <td>1.000</td>\n",
       "    </tr>\n",
       "    <tr>\n",
       "      <th>3</th>\n",
       "      <td>2021-04-08</td>\n",
       "      <td>1.333</td>\n",
       "    </tr>\n",
       "    <tr>\n",
       "      <th>4</th>\n",
       "      <td>2021-04-09</td>\n",
       "      <td>1.000</td>\n",
       "    </tr>\n",
       "    <tr>\n",
       "      <th>...</th>\n",
       "      <td>...</td>\n",
       "      <td>...</td>\n",
       "    </tr>\n",
       "    <tr>\n",
       "      <th>778</th>\n",
       "      <td>2024-05-07</td>\n",
       "      <td>1.200</td>\n",
       "    </tr>\n",
       "    <tr>\n",
       "      <th>779</th>\n",
       "      <td>2024-05-08</td>\n",
       "      <td>1.062</td>\n",
       "    </tr>\n",
       "    <tr>\n",
       "      <th>780</th>\n",
       "      <td>2024-05-09</td>\n",
       "      <td>2.000</td>\n",
       "    </tr>\n",
       "    <tr>\n",
       "      <th>781</th>\n",
       "      <td>2024-05-10</td>\n",
       "      <td>1.188</td>\n",
       "    </tr>\n",
       "    <tr>\n",
       "      <th>782</th>\n",
       "      <td>2024-05-11</td>\n",
       "      <td>1.332</td>\n",
       "    </tr>\n",
       "  </tbody>\n",
       "</table>\n",
       "<p>783 rows × 2 columns</p>\n",
       "</div>"
      ],
      "text/plain": [
       "          date  predict\n",
       "0   2021-04-05    1.000\n",
       "1   2021-04-06    1.000\n",
       "2   2021-04-07    1.000\n",
       "3   2021-04-08    1.333\n",
       "4   2021-04-09    1.000\n",
       "..         ...      ...\n",
       "778 2024-05-07    1.200\n",
       "779 2024-05-08    1.062\n",
       "780 2024-05-09    2.000\n",
       "781 2024-05-10    1.188\n",
       "782 2024-05-11    1.332\n",
       "\n",
       "[783 rows x 2 columns]"
      ]
     },
     "execution_count": 182,
     "metadata": {},
     "output_type": "execute_result"
    }
   ],
   "source": [
    "# 'predict' 열에만 평균 값 추가\n",
    "mean_last_seven = result_filtered_future['predict'].iloc[-7:].mean()\n",
    "# mean_last_seven_1 = result_filtered_future['volume'].iloc[-7:].mean()\n",
    "# 다음 날짜 계산\n",
    "last_date = result_filtered_future['date'].iloc[-1]\n",
    "next_date = pd.to_datetime(last_date) + pd.DateOffset(days=1)\n",
    "\n",
    "# 데이터프레임에 새로운 행 추가\n",
    "new_row = {'date': next_date, 'predict': round(mean_last_seven, 3)}  # 소수점 세 자리까지 반올림\n",
    "result_filtered_future = result_filtered_future.append(new_row, ignore_index=True)\n",
    "\n",
    "# 'predict' 열의 소수점 자리 수 설정\n",
    "result_filtered_future['predict'] = result_filtered_future['predict'].round(3)\n",
    "\n",
    "result_filtered_future\n"
   ]
  },
  {
   "cell_type": "code",
   "execution_count": 183,
   "metadata": {},
   "outputs": [
    {
     "data": {
      "text/html": [
       "<div>\n",
       "<style scoped>\n",
       "    .dataframe tbody tr th:only-of-type {\n",
       "        vertical-align: middle;\n",
       "    }\n",
       "\n",
       "    .dataframe tbody tr th {\n",
       "        vertical-align: top;\n",
       "    }\n",
       "\n",
       "    .dataframe thead th {\n",
       "        text-align: right;\n",
       "    }\n",
       "</style>\n",
       "<table border=\"1\" class=\"dataframe\">\n",
       "  <thead>\n",
       "    <tr style=\"text-align: right;\">\n",
       "      <th></th>\n",
       "      <th>ds</th>\n",
       "      <th>y</th>\n",
       "      <th>predict</th>\n",
       "    </tr>\n",
       "  </thead>\n",
       "  <tbody>\n",
       "    <tr>\n",
       "      <th>0</th>\n",
       "      <td>2021-04-05</td>\n",
       "      <td>249.070007</td>\n",
       "      <td>1.000</td>\n",
       "    </tr>\n",
       "    <tr>\n",
       "      <th>1</th>\n",
       "      <td>2021-04-06</td>\n",
       "      <td>247.860001</td>\n",
       "      <td>1.000</td>\n",
       "    </tr>\n",
       "    <tr>\n",
       "      <th>2</th>\n",
       "      <td>2021-04-07</td>\n",
       "      <td>249.899994</td>\n",
       "      <td>1.000</td>\n",
       "    </tr>\n",
       "    <tr>\n",
       "      <th>3</th>\n",
       "      <td>2021-04-08</td>\n",
       "      <td>253.250000</td>\n",
       "      <td>1.333</td>\n",
       "    </tr>\n",
       "    <tr>\n",
       "      <th>4</th>\n",
       "      <td>2021-04-09</td>\n",
       "      <td>255.850006</td>\n",
       "      <td>1.000</td>\n",
       "    </tr>\n",
       "    <tr>\n",
       "      <th>...</th>\n",
       "      <td>...</td>\n",
       "      <td>...</td>\n",
       "      <td>...</td>\n",
       "    </tr>\n",
       "    <tr>\n",
       "      <th>777</th>\n",
       "      <td>2024-05-06</td>\n",
       "      <td>413.540009</td>\n",
       "      <td>1.393</td>\n",
       "    </tr>\n",
       "    <tr>\n",
       "      <th>778</th>\n",
       "      <td>2024-05-07</td>\n",
       "      <td>409.339996</td>\n",
       "      <td>1.200</td>\n",
       "    </tr>\n",
       "    <tr>\n",
       "      <th>779</th>\n",
       "      <td>2024-05-08</td>\n",
       "      <td>410.540009</td>\n",
       "      <td>1.062</td>\n",
       "    </tr>\n",
       "    <tr>\n",
       "      <th>780</th>\n",
       "      <td>2024-05-09</td>\n",
       "      <td>412.320007</td>\n",
       "      <td>2.000</td>\n",
       "    </tr>\n",
       "    <tr>\n",
       "      <th>781</th>\n",
       "      <td>2024-05-10</td>\n",
       "      <td>414.739990</td>\n",
       "      <td>1.188</td>\n",
       "    </tr>\n",
       "  </tbody>\n",
       "</table>\n",
       "<p>782 rows × 3 columns</p>\n",
       "</div>"
      ],
      "text/plain": [
       "            ds           y  predict\n",
       "0   2021-04-05  249.070007    1.000\n",
       "1   2021-04-06  247.860001    1.000\n",
       "2   2021-04-07  249.899994    1.000\n",
       "3   2021-04-08  253.250000    1.333\n",
       "4   2021-04-09  255.850006    1.000\n",
       "..         ...         ...      ...\n",
       "777 2024-05-06  413.540009    1.393\n",
       "778 2024-05-07  409.339996    1.200\n",
       "779 2024-05-08  410.540009    1.062\n",
       "780 2024-05-09  412.320007    2.000\n",
       "781 2024-05-10  414.739990    1.188\n",
       "\n",
       "[782 rows x 3 columns]"
      ]
     },
     "execution_count": 183,
     "metadata": {},
     "output_type": "execute_result"
    }
   ],
   "source": [
    "finance_df = pd.concat([finance_df, result_filtered['predict']], axis=1)\n",
    "\n",
    "finance_df"
   ]
  },
  {
   "cell_type": "code",
   "execution_count": 156,
   "metadata": {},
   "outputs": [],
   "source": [
    "# finance_df"
   ]
  },
  {
   "cell_type": "code",
   "execution_count": 184,
   "metadata": {},
   "outputs": [
    {
     "name": "stdout",
     "output_type": "stream",
     "text": [
      "            ds        yhat  yhat_lower  yhat_upper\n",
      "772 2024-04-29  405.423524  396.802813  413.934755\n",
      "773 2024-04-30  404.594391  396.474844  414.245876\n",
      "774 2024-05-01  404.102440  395.340397  413.050797\n",
      "775 2024-05-02  404.611521  396.824213  412.989680\n",
      "776 2024-05-03  404.626766  395.778929  413.290099\n",
      "777 2024-05-06  403.439487  394.841223  412.603474\n",
      "778 2024-05-07  402.381132  393.836672  411.245570\n",
      "779 2024-05-08  402.673951  393.431728  410.898043\n",
      "780 2024-05-09  404.334885  395.509719  412.906917\n",
      "781 2024-05-10  403.206331  394.534977  412.258033\n",
      "782 2024-05-11 -643.920281 -652.880381 -634.954960\n"
     ]
    },
    {
     "data": {
      "image/png": "[encoded data removed]",
      "text/plain": [
       "<Figure size 1000x600 with 1 Axes>"
      ]
     },
     "metadata": {},
     "output_type": "display_data"
    }
   ],
   "source": [
    "import logging\n",
    "logging.getLogger('cmdstanpy').setLevel(logging.WARNING)\n",
    "\n",
    "# Day 단위로 데이터가 구성되어 있으므로, 일 단위 주기성 활성화\n",
    "# model = Prophet(changepoint_prior_scale=0.31150996767072153,\n",
    "#                 changepoint_range=0.8409742702125196, \n",
    "#                 daily_seasonality=True,\n",
    "#                 holidays_prior_scale=0.5429118795932729, \n",
    "#                 seasonality_mode='multiplicative',\n",
    "#                 seasonality_prior_scale=1.2964727674363865,\n",
    "#                 weekly_seasonality=True,\n",
    "#                 n_changepoints=25,\n",
    "#                 growth='linear',\n",
    "#                 yearly_seasonality=True)\n",
    "# model = Prophet(changepoint_prior_scale=0.3225469441035442,\n",
    "#                 changepoint_range=0.8959729377163332, \n",
    "#                 daily_seasonality=True,\n",
    "#                 holidays_prior_scale=0.48141493972833566, \n",
    "#                 seasonality_mode='multiplicative',\n",
    "#                 seasonality_prior_scale=0.27212358941114123,\n",
    "#                 weekly_seasonality=False,\n",
    "#                 n_changepoints=24,\n",
    "#                 growth='linear',\n",
    "#                 yearly_seasonality=True) # cross_validation(m, initial='250 days', period='10 days', horizon='1 days')\n",
    "model = Prophet(changepoint_prior_scale=0.1541135741310533,\n",
    "                changepoint_range=0.7075492829641814, \n",
    "                daily_seasonality=False,\n",
    "                holidays_prior_scale=0.5080563204252423, \n",
    "                seasonality_mode='multiplicative',\n",
    "                seasonality_prior_scale=4.043977713268082,\n",
    "                weekly_seasonality=True,\n",
    "                n_changepoints=25,\n",
    "                growth='linear',\n",
    "                yearly_seasonality=True) #cross_validation(m, initial='250 days', period='20 days', horizon='1 days')\n",
    "                \n",
    "model.add_country_holidays(country_name='US')\n",
    "model.add_regressor('predict')\n",
    "# 데이터 학습 시작 -> 기계학습\n",
    "model.fit( finance_df )\n",
    "# print(model.params['beta'])\n",
    "# 주가 예측 위한 날짜 데이터 세팅 -> 기존 데이터 + 향후 10일치 예측값\n",
    "\n",
    "future = model.make_future_dataframe( periods = 1)\n",
    "future['predict'] = result_filtered_future['predict'].values\n",
    "# 주가 예측\n",
    "forecast = model.predict( future )\n",
    "\n",
    "# forecast.columns ->\n",
    "'''\n",
    "  Index(['ds', 'trend', 'yhat_lower', 'yhat_upper', 'trend_lower', 'trend_upper',\n",
    "       'additive_terms', 'additive_terms_lower', 'additive_terms_upper',\n",
    "       'daily', 'daily_lower', 'daily_upper', 'weekly', 'weekly_lower',\n",
    "       'weekly_upper', 'yearly', 'yearly_lower', 'yearly_upper',\n",
    "       'multiplicative_terms', 'multiplicative_terms_lower',\n",
    "       'multiplicative_terms_upper', 'yhat'],\n",
    "      dtype='object')\n",
    "''' \n",
    "\n",
    "# 모델 예측 결과 출력\n",
    "print(forecast[['ds', 'yhat', 'yhat_lower', 'yhat_upper']].tail(11))\n",
    "\n",
    "# 모델 예측 그래프 출력\n",
    "fig = model.plot(forecast)\n",
    "\n",
    "plt.show(fig)\n"
   ]
  },
  {
   "cell_type": "markdown",
   "metadata": {},
   "source": [
    "<h1>prophet 하이퍼파라미터 설정 model로 예측 돌리기</h1>"
   ]
  },
  {
   "cell_type": "code",
   "execution_count": 64,
   "metadata": {},
   "outputs": [],
   "source": [
    "# import yfinance as yf\n",
    "# import datetime\n",
    "\n",
    "# # Tesla 주식에 대한 데이터를 가져오기\n",
    "# tsla = yf.Ticker(\"TSLA\")\n",
    "# tsla_income = tsla.income_stmt.T\n",
    "# tsla_balance = tsla.balance_sheet.T\n",
    "# tsla_cash = tsla.cashflow.T\n",
    "# tsla_combined = pd.concat([tsla_income, tsla_balance, tsla_cash], axis=1)\n",
    "\n",
    "# # 필요한 열만 선택하여 새로운 데이터프레임 생성\n",
    "# tsla_selected = tsla_combined[[\"Net Income Common Stockholders\", \"Basic EPS\", \"Working Capital\", \"Operating Cash Flow\"]]\n",
    "\n",
    "# # 결과 출력\n",
    "# tsla_selected = tsla_selected.fillna(0)\n",
    "# tsla_selected\n",
    "\n",
    "\n"
   ]
  },
  {
   "cell_type": "code",
   "execution_count": 65,
   "metadata": {},
   "outputs": [],
   "source": [
    "# from prophet.diagnostics import cross_validation, performance_metrics\n",
    "# import matplotlib.pyplot as plt\n",
    "# model = Prophet( changepoint_prior_scale= 0.4469497270584068, \n",
    "# changepoint_range= 0.8117567477475541, \n",
    "# daily_seasonality= True,\n",
    "# seasonality_mode='multiplicative',\n",
    "# growth= 'linear', \n",
    "# holidays_prior_scale= 0.05160382047585584, \n",
    "# n_changepoints= 22, \n",
    "# seasonality_prior_scale= 0.3523031728392127, \n",
    "# weekly_seasonality= False, \n",
    "# yearly_seasonality= True\n",
    "#                ) \n",
    "\n",
    "# model.add_country_holidays(country_name='US')\n",
    "# model.add_regressor('predict')\n",
    "# # 데이터와 Prophet 모델 설정 부분은 생략하고, 모델 학습 부분부터 시작\n",
    "# model.fit(finance_df)\n",
    "\n",
    "# # 크로스 밸리데이션 설정\n",
    "# df_cv = cross_validation(model, initial='20 days', period='2 days', horizon='1 days')\n",
    "\n",
    "# # 크로스 밸리데이션 결과의 성능 지표 계산\n",
    "# df_p = performance_metrics(df_cv)\n",
    "# print(df_p[['rmse', 'mae','mape']])\n"
   ]
  },
  {
   "cell_type": "code",
   "execution_count": null,
   "metadata": {},
   "outputs": [],
   "source": [
    "# import pickle\n",
    "\n",
    "# # 모델 객체를 파일로 저장\n",
    "# with open(\"prophet_model.pkl\", \"wb\") as f:\n",
    "#     pickle.dump(model, f)\n"
   ]
  },
  {
   "cell_type": "code",
   "execution_count": null,
   "metadata": {},
   "outputs": [],
   "source": [
    "# # 저장된 모델 파일을 로드\n",
    "# with open(\"prophet_model.pkl\", \"rb\") as f:\n",
    "#     loaded_model = pickle.load(f)"
   ]
  },
  {
   "cell_type": "markdown",
   "metadata": {},
   "source": [
    "<h1>buy,sell 출력 json파일 만들 코드"
   ]
  },
  {
   "cell_type": "code",
   "execution_count": null,
   "metadata": {},
   "outputs": [],
   "source": [
    "\n",
    "# initial_capital = 1000.0  # 초기 자본\n",
    "# current_capital = initial_capital  # 현재 자본, 거래 과정에서 업데이트됨\n",
    "# shares_owned = 0\n",
    "# position = 'None'  # 현재 포지션 상태\n",
    "# day = 1\n",
    "# month_day = 30\n",
    "# # 시뮬레이션 수익 계산\n",
    "# profit = 0.0\n",
    "\n",
    "# actual_prices = finance_df.set_index('ds')['y'][-(day+31):-(day)]  # 마지막 31일 실제 가격\n",
    "# predicted_prices = forecast.set_index('ds')['yhat'][-(day+31):-(day)]\n",
    "\n",
    "# dates = [actual_prices.index[0] - pd.Timedelta(days=1)]  # 첫 거래일 이전 날짜 추가\n",
    "# capitals = [initial_capital]\n",
    "\n",
    "# # 날짜와 함께 매도, 매수, 보유 결과를 출력하기 위해 수정\n",
    "# for i in range(month_day):\n",
    "#     today_date = actual_prices.index[i]\n",
    "#     today_price = actual_prices.iloc[i]\n",
    "#     predicted_next_day_price = predicted_prices.iloc[i]\n",
    "\n",
    "#     # 조건을 검사하고 매수, 매도, 보유를 결정\n",
    "#     if i < (month_day-1):  # 마지막 날짜를 제외한 모든 날에 대해 검사\n",
    "#         next_day_price = actual_prices.iloc[i+1]\n",
    "#         predicted_change = predicted_next_day_price - today_price\n",
    "\n",
    "#         # 매수 조건\n",
    "#         if predicted_change > 0 and position != 'Hold':\n",
    "#             shares_owned = current_capital / today_price\n",
    "#             current_capital = 0\n",
    "#             position = 'Hold'\n",
    "#             print(f\"{today_date} - 매수: {today_price} (실제 다음날 가격: {next_day_price:,.3f}, 예측된 다음날 가격: {predicted_next_day_price:,.3f})\")\n",
    "\n",
    "#         # 매도 조건\n",
    "#         elif predicted_change < 0 and position == 'Hold':\n",
    "#             current_capital = shares_owned * next_day_price\n",
    "#             shares_owned = 0\n",
    "#             position = 'None'\n",
    "#             print(f\"{today_date} - 매도: {next_day_price} (실제 다음날 가격: {next_day_price:,.3f}, 예측된 다음날 가격: {predicted_next_day_price:,.3f})\")\n",
    "\n",
    "#         # 보유 조건\n",
    "#         elif position == 'Hold' and abs(predicted_change) <= 0.01 * today_price:\n",
    "#             print(f\"{today_date} - 보유: {today_price}\")\n",
    "#         else:\n",
    "#     # 보유 또는 기타 조건 로직\n",
    "#             if position == 'Hold':\n",
    "#                 print(f\"{today_date} - 보유: 현재 가격 {today_price:,.3f}, 예측된 다음날 가격 {predicted_next_day_price:,.3f}\")\n",
    "#             else:\n",
    "#                 print(f\"{today_date} - 조치 없음: 현재 가격 {today_price:,.3f}, 예측된 다음날 가격 {predicted_next_day_price:,.3f}\")\n",
    "#     dates.append(today_date)\n",
    "#     capitals.append(current_capital + (shares_owned * today_price))\n",
    "# # 마지막 날 주식을 모두 매도하고 최종 자본 계산\n",
    "# if position == 'Hold' and shares_owned > 0:\n",
    "#     final_price = actual_prices.iloc[-1]\n",
    "#     current_capital = shares_owned * final_price\n",
    "#     shares_owned = 0\n",
    "#     print(f\"{actual_prices.index[-1]} - 마지막 날 매도: {final_price:,.3f}\")\n",
    "\n",
    "# profit = current_capital - initial_capital  # 최종 이익 계산\n",
    "# return_rate = ((current_capital - initial_capital) / initial_capital) * 100\n",
    "# # 결과 출력\n",
    "# print(f\"초기 자본: ${initial_capital:,.3f}\")\n",
    "# print(f\"최종 자본: ${current_capital:,.3f}\")\n",
    "# print(f\"수익: ${profit:,.3f}\")\n",
    "# print(f\"수익률: {return_rate:.2f}%\")"
   ]
  },
  {
   "cell_type": "code",
   "execution_count": null,
   "metadata": {},
   "outputs": [],
   "source": [
    "# import pandas as pd\n",
    "\n",
    "# # 초기 자본 설정\n",
    "# initial_capital = 1000.0\n",
    "\n",
    "# # 사용자로부터 시작일과 종료일 입력 받기\n",
    "# start_date = '2023-03-05'\n",
    "# end_date_1 = '2024-04-04'\n",
    "# end_date_2 = '2024-04-05'\n",
    "\n",
    "# # 입력된 날짜 범위로 데이터 필터링\n",
    "# filtered_df = finance_df[(finance_df['ds'] >= start_date) & (finance_df['ds'] <= end_date_1)]\n",
    "# filtered_df_forcast = forecast[(forecast['ds'] >= start_date) & (forecast['ds'] <= end_date_2)]\n",
    "# # 현재 자본 및 보유 주식 수 초기화\n",
    "# current_capital = initial_capital\n",
    "# shares_owned = 0\n",
    "\n",
    "# # 현재 포지션 초기화\n",
    "# position = 'None'\n",
    "\n",
    "# # 실제 및 예측 주식 가격 설정\n",
    "# actual_prices = filtered_df.set_index('ds')['y']\n",
    "# predicted_prices = filtered_df_forcast.set_index('ds')['yhat']\n",
    "\n",
    "# # 시뮬레이션 시작\n",
    "# for date, today_price, predicted_next_day_price in zip(actual_prices.index, actual_prices.values, predicted_prices.shift(-1).values):\n",
    "#     predicted_change = predicted_next_day_price - today_price\n",
    "\n",
    "#     # 매수 조건\n",
    "#     if predicted_change > 0 and position != 'Hold':\n",
    "#         shares_to_buy = current_capital / today_price\n",
    "#         shares_owned += shares_to_buy\n",
    "#         current_capital -= shares_to_buy * today_price\n",
    "#         position = 'Hold'\n",
    "#         print(f\"{date} - 매수: ${today_price:.3f} (예측 다음날 가격: ${predicted_next_day_price:.3f})\")\n",
    "\n",
    "#     # 매도 조건\n",
    "#     elif predicted_change < 0 and position == 'Hold':\n",
    "#         current_capital += shares_owned * today_price\n",
    "#         shares_owned = 0\n",
    "#         position = 'None'\n",
    "#         print(f\"{date} - 매도: ${today_price:.3f} (예측 다음날 가격: ${predicted_next_day_price:.3f})\")\n",
    "\n",
    "#     # 보유 조건\n",
    "#     elif position == 'Hold' and abs(predicted_change) <= 0.01 * today_price:\n",
    "#         print(f\"{date} - 보유: ${today_price:.3f}\")\n",
    "#     else:\n",
    "#         # 조치 없음 또는 보유\n",
    "#         if position == 'Hold':\n",
    "#             print(f\"{date} - 보유: 현재 가격 ${today_price:.3f}, 예측 다음날 가격 ${predicted_next_day_price:.3f}\")\n",
    "#         else:\n",
    "#             print(f\"{date} - 조치 없음: 현재 가격 ${today_price:.3f}, 예측 다음날 가격 ${predicted_next_day_price:.3f}\")\n",
    "\n",
    "# # 최종 자본 및 수익률 계산\n",
    "# final_capital = current_capital + (shares_owned * actual_prices.iloc[-1])\n",
    "# profit = final_capital - initial_capital\n",
    "# return_rate = (profit / initial_capital) * 100\n",
    "\n",
    "# # 결과 출력\n",
    "# print(f\"초기 자본: ${initial_capital:.3f}\")\n",
    "# print(f\"최종 자본: ${final_capital:.3f}\")\n",
    "# print(f\"수익: ${profit:.3f}\")\n",
    "# print(f\"수익률: {return_rate:.3f}%\")\n"
   ]
  },
  {
   "cell_type": "code",
   "execution_count": null,
   "metadata": {},
   "outputs": [],
   "source": [
    "# print(actual_prices)\n",
    "# predicted_prices.shift(-1).values\n",
    "# predicted_prices"
   ]
  },
  {
   "cell_type": "code",
   "execution_count": 185,
   "metadata": {},
   "outputs": [
    {
     "name": "stdout",
     "output_type": "stream",
     "text": [
      "  0%|                          | 0/100 [00:00<?, ?trial/s, best loss=?]"
     ]
    },
    {
     "name": "stderr",
     "output_type": "stream",
     "text": [
      "Seasonality has period of 365.25 days which is larger than initial window. Consider increasing initial.\n",
      "\n"
     ]
    },
    {
     "data": {
      "application/vnd.jupyter.widget-view+json": {
       "model_id": "5e71dc288b7d440093e87222e55836cb",
       "version_major": 2,
       "version_minor": 0
      },
      "text/plain": [
       "  0%|          | 0/42 [00:00<?, ?it/s]"
      ]
     },
     "metadata": {},
     "output_type": "display_data"
    },
    {
     "name": "stdout",
     "output_type": "stream",
     "text": [
      "  1%| | 1/100 [00:13<22:22, 13.56s/trial, best loss: 0.0342176636607652"
     ]
    },
    {
     "data": {
      "application/vnd.jupyter.widget-view+json": {
       "model_id": "ddaeddb48c3c4954a8678ee07a8fad8b",
       "version_major": 2,
       "version_minor": 0
      },
      "text/plain": [
       "  0%|          | 0/42 [00:00<?, ?it/s]"
      ]
     },
     "metadata": {},
     "output_type": "display_data"
    },
    {
     "name": "stdout",
     "output_type": "stream",
     "text": [
      "  2%| | 2/100 [00:24<19:33, 11.98s/trial, best loss: 0.0342176636607652"
     ]
    },
    {
     "data": {
      "application/vnd.jupyter.widget-view+json": {
       "model_id": "23d009d325e4422cb459c07917e5cd4f",
       "version_major": 2,
       "version_minor": 0
      },
      "text/plain": [
       "  0%|          | 0/42 [00:00<?, ?it/s]"
      ]
     },
     "metadata": {},
     "output_type": "display_data"
    },
    {
     "name": "stdout",
     "output_type": "stream",
     "text": [
      "  3%| | 3/100 [00:34<18:10, 11.24s/trial, best loss: 0.0342176636607652"
     ]
    },
    {
     "name": "stderr",
     "output_type": "stream",
     "text": [
      "Seasonality has period of 365.25 days which is larger than initial window. Consider increasing initial.\n",
      "\n"
     ]
    },
    {
     "data": {
      "application/vnd.jupyter.widget-view+json": {
       "model_id": "991df7c9dfcf4b6489fad029b25957c7",
       "version_major": 2,
       "version_minor": 0
      },
      "text/plain": [
       "  0%|          | 0/42 [00:00<?, ?it/s]"
      ]
     },
     "metadata": {},
     "output_type": "display_data"
    },
    {
     "name": "stdout",
     "output_type": "stream",
     "text": [
      "  4%| | 4/100 [00:46<18:06, 11.32s/trial, best loss: 0.0342176636607652"
     ]
    },
    {
     "data": {
      "application/vnd.jupyter.widget-view+json": {
       "model_id": "0ff1aa9a7c03473ab55e9e5385fff3af",
       "version_major": 2,
       "version_minor": 0
      },
      "text/plain": [
       "  0%|          | 0/42 [00:00<?, ?it/s]"
      ]
     },
     "metadata": {},
     "output_type": "display_data"
    },
    {
     "name": "stdout",
     "output_type": "stream",
     "text": [
      "  5%| | 5/100 [00:57<17:50, 11.27s/trial, best loss: 0.0342176636607652"
     ]
    },
    {
     "name": "stderr",
     "output_type": "stream",
     "text": [
      "Seasonality has period of 365.25 days which is larger than initial window. Consider increasing initial.\n",
      "\n"
     ]
    },
    {
     "data": {
      "application/vnd.jupyter.widget-view+json": {
       "model_id": "2f258024951b4b4bab5fce11e8f9077c",
       "version_major": 2,
       "version_minor": 0
      },
      "text/plain": [
       "  0%|          | 0/42 [00:00<?, ?it/s]"
      ]
     },
     "metadata": {},
     "output_type": "display_data"
    },
    {
     "name": "stdout",
     "output_type": "stream",
     "text": [
      "  6%| | 6/100 [01:09<18:11, 11.61s/trial, best loss: 0.0342176636607652"
     ]
    },
    {
     "name": "stderr",
     "output_type": "stream",
     "text": [
      "Seasonality has period of 365.25 days which is larger than initial window. Consider increasing initial.\n",
      "\n"
     ]
    },
    {
     "data": {
      "application/vnd.jupyter.widget-view+json": {
       "model_id": "11e3346fcfdf4c399d8b527ccb71b83a",
       "version_major": 2,
       "version_minor": 0
      },
      "text/plain": [
       "  0%|          | 0/42 [00:00<?, ?it/s]"
      ]
     },
     "metadata": {},
     "output_type": "display_data"
    },
    {
     "name": "stderr",
     "output_type": "stream",
     "text": [
      "16:54:18 - cmdstanpy - ERROR - Chain [1] error: error during processing Operation not permitted\n",
      "Optimization terminated abnormally. Falling back to Newton.\n",
      "\n"
     ]
    },
    {
     "name": "stdout",
     "output_type": "stream",
     "text": [
      "  7%| | 7/100 [01:22<18:34, 11.99s/trial, best loss: 0.0339051814444608"
     ]
    },
    {
     "name": "stderr",
     "output_type": "stream",
     "text": [
      "Seasonality has period of 365.25 days which is larger than initial window. Consider increasing initial.\n",
      "\n"
     ]
    },
    {
     "data": {
      "application/vnd.jupyter.widget-view+json": {
       "model_id": "423ce5d9d37d4c2c8101a9989739c323",
       "version_major": 2,
       "version_minor": 0
      },
      "text/plain": [
       "  0%|          | 0/42 [00:00<?, ?it/s]"
      ]
     },
     "metadata": {},
     "output_type": "display_data"
    },
    {
     "name": "stderr",
     "output_type": "stream",
     "text": [
      "16:54:32 - cmdstanpy - ERROR - Chain [1] error: error during processing Operation not permitted\n",
      "Optimization terminated abnormally. Falling back to Newton.\n",
      "\n"
     ]
    },
    {
     "name": "stdout",
     "output_type": "stream",
     "text": [
      "  8%| | 8/100 [01:44<23:10, 15.12s/trial, best loss: 0.0311292977915974"
     ]
    },
    {
     "data": {
      "application/vnd.jupyter.widget-view+json": {
       "model_id": "60265230319745abb9177ef49c3de933",
       "version_major": 2,
       "version_minor": 0
      },
      "text/plain": [
       "  0%|          | 0/42 [00:00<?, ?it/s]"
      ]
     },
     "metadata": {},
     "output_type": "display_data"
    },
    {
     "name": "stdout",
     "output_type": "stream",
     "text": [
      "  9%| | 9/100 [01:55<21:10, 13.96s/trial, best loss: 0.0311292977915974"
     ]
    },
    {
     "name": "stderr",
     "output_type": "stream",
     "text": [
      "Seasonality has period of 365.25 days which is larger than initial window. Consider increasing initial.\n",
      "\n"
     ]
    },
    {
     "data": {
      "application/vnd.jupyter.widget-view+json": {
       "model_id": "84773910226149449e9a7f6a66838d60",
       "version_major": 2,
       "version_minor": 0
      },
      "text/plain": [
       "  0%|          | 0/42 [00:00<?, ?it/s]"
      ]
     },
     "metadata": {},
     "output_type": "display_data"
    },
    {
     "name": "stdout",
     "output_type": "stream",
     "text": [
      " 10%| | 10/100 [02:08<20:30, 13.68s/trial, best loss: 0.031129297791597"
     ]
    },
    {
     "data": {
      "application/vnd.jupyter.widget-view+json": {
       "model_id": "22af89b03f8041618eb4eafb3b6adcad",
       "version_major": 2,
       "version_minor": 0
      },
      "text/plain": [
       "  0%|          | 0/42 [00:00<?, ?it/s]"
      ]
     },
     "metadata": {},
     "output_type": "display_data"
    },
    {
     "name": "stderr",
     "output_type": "stream",
     "text": [
      "16:55:16 - cmdstanpy - ERROR - Chain [1] error: error during processing Operation not permitted\n",
      "Optimization terminated abnormally. Falling back to Newton.\n",
      "\n",
      "16:55:17 - cmdstanpy - ERROR - Chain [1] error: error during processing Operation not permitted\n",
      "Optimization terminated abnormally. Falling back to Newton.\n",
      "\n",
      "16:55:17 - cmdstanpy - ERROR - Chain [1] error: error during processing Operation not permitted\n",
      "Optimization terminated abnormally. Falling back to Newton.\n",
      "\n",
      "16:55:18 - cmdstanpy - ERROR - Chain [1] error: error during processing Operation not permitted\n",
      "Optimization terminated abnormally. Falling back to Newton.\n",
      "\n",
      "16:55:20 - cmdstanpy - ERROR - Chain [1] error: error during processing Operation not permitted\n",
      "Optimization terminated abnormally. Falling back to Newton.\n",
      "\n",
      "16:55:21 - cmdstanpy - ERROR - Chain [1] error: error during processing Operation not permitted\n",
      "Optimization terminated abnormally. Falling back to Newton.\n",
      "\n",
      "16:55:21 - cmdstanpy - ERROR - Chain [1] error: error during processing Operation not permitted\n",
      "Optimization terminated abnormally. Falling back to Newton.\n",
      "\n",
      "16:55:22 - cmdstanpy - ERROR - Chain [1] error: error during processing Operation not permitted\n",
      "Optimization terminated abnormally. Falling back to Newton.\n",
      "\n",
      "16:55:23 - cmdstanpy - ERROR - Chain [1] error: error during processing Operation not permitted\n",
      "Optimization terminated abnormally. Falling back to Newton.\n",
      "\n",
      "16:55:23 - cmdstanpy - ERROR - Chain [1] error: error during processing Operation not permitted\n",
      "Optimization terminated abnormally. Falling back to Newton.\n",
      "\n",
      "16:55:25 - cmdstanpy - ERROR - Chain [1] error: error during processing Operation not permitted\n",
      "Optimization terminated abnormally. Falling back to Newton.\n",
      "\n",
      "16:55:27 - cmdstanpy - ERROR - Chain [1] error: error during processing Operation not permitted\n",
      "Optimization terminated abnormally. Falling back to Newton.\n",
      "\n"
     ]
    },
    {
     "name": "stdout",
     "output_type": "stream",
     "text": [
      " 11%| | 11/100 [02:22<20:08, 13.58s/trial, best loss: 0.031129297791597"
     ]
    },
    {
     "name": "stderr",
     "output_type": "stream",
     "text": [
      "Seasonality has period of 365.25 days which is larger than initial window. Consider increasing initial.\n",
      "\n"
     ]
    },
    {
     "data": {
      "application/vnd.jupyter.widget-view+json": {
       "model_id": "a52f0427ce10432aa5ed3a2c653a802d",
       "version_major": 2,
       "version_minor": 0
      },
      "text/plain": [
       "  0%|          | 0/42 [00:00<?, ?it/s]"
      ]
     },
     "metadata": {},
     "output_type": "display_data"
    },
    {
     "name": "stdout",
     "output_type": "stream",
     "text": [
      " 12%| | 12/100 [02:41<22:18, 15.21s/trial, best loss: 0.030077629914610"
     ]
    },
    {
     "data": {
      "application/vnd.jupyter.widget-view+json": {
       "model_id": "e26083fb71c3483fa38fa6d7c4cabd9d",
       "version_major": 2,
       "version_minor": 0
      },
      "text/plain": [
       "  0%|          | 0/42 [00:00<?, ?it/s]"
      ]
     },
     "metadata": {},
     "output_type": "display_data"
    },
    {
     "name": "stdout",
     "output_type": "stream",
     "text": [
      " 13%|▏| 13/100 [02:51<20:08, 13.89s/trial, best loss: 0.030077629914610"
     ]
    },
    {
     "data": {
      "application/vnd.jupyter.widget-view+json": {
       "model_id": "fa1a181e5ba34fa29928dd329554374f",
       "version_major": 2,
       "version_minor": 0
      },
      "text/plain": [
       "  0%|          | 0/42 [00:00<?, ?it/s]"
      ]
     },
     "metadata": {},
     "output_type": "display_data"
    },
    {
     "name": "stdout",
     "output_type": "stream",
     "text": [
      " 14%|▏| 14/100 [03:02<18:20, 12.79s/trial, best loss: 0.030077629914610"
     ]
    },
    {
     "data": {
      "application/vnd.jupyter.widget-view+json": {
       "model_id": "2555a2ab1b8940a286bfad634d5682ce",
       "version_major": 2,
       "version_minor": 0
      },
      "text/plain": [
       "  0%|          | 0/42 [00:00<?, ?it/s]"
      ]
     },
     "metadata": {},
     "output_type": "display_data"
    },
    {
     "name": "stdout",
     "output_type": "stream",
     "text": [
      " 15%|▏| 15/100 [03:13<17:21, 12.26s/trial, best loss: 0.030077629914610"
     ]
    },
    {
     "data": {
      "application/vnd.jupyter.widget-view+json": {
       "model_id": "bf5defb8c1c14736a7d4b82010dfcbda",
       "version_major": 2,
       "version_minor": 0
      },
      "text/plain": [
       "  0%|          | 0/42 [00:00<?, ?it/s]"
      ]
     },
     "metadata": {},
     "output_type": "display_data"
    },
    {
     "name": "stdout",
     "output_type": "stream",
     "text": [
      " 16%|▏| 16/100 [03:23<16:21, 11.68s/trial, best loss: 0.030077629914610"
     ]
    },
    {
     "name": "stderr",
     "output_type": "stream",
     "text": [
      "Seasonality has period of 365.25 days which is larger than initial window. Consider increasing initial.\n",
      "\n"
     ]
    },
    {
     "data": {
      "application/vnd.jupyter.widget-view+json": {
       "model_id": "d25087bd2976478d876719b6983c3ee0",
       "version_major": 2,
       "version_minor": 0
      },
      "text/plain": [
       "  0%|          | 0/42 [00:00<?, ?it/s]"
      ]
     },
     "metadata": {},
     "output_type": "display_data"
    },
    {
     "name": "stderr",
     "output_type": "stream",
     "text": [
      "16:56:32 - cmdstanpy - ERROR - Chain [1] error: error during processing Operation not permitted\n",
      "Optimization terminated abnormally. Falling back to Newton.\n",
      "\n"
     ]
    },
    {
     "name": "stdout",
     "output_type": "stream",
     "text": [
      " 17%|▏| 17/100 [03:34<15:55, 11.51s/trial, best loss: 0.030077629914610"
     ]
    },
    {
     "name": "stderr",
     "output_type": "stream",
     "text": [
      "Seasonality has period of 365.25 days which is larger than initial window. Consider increasing initial.\n",
      "\n"
     ]
    },
    {
     "data": {
      "application/vnd.jupyter.widget-view+json": {
       "model_id": "37d5bdbb763647938dd8822fdd424048",
       "version_major": 2,
       "version_minor": 0
      },
      "text/plain": [
       "  0%|          | 0/42 [00:00<?, ?it/s]"
      ]
     },
     "metadata": {},
     "output_type": "display_data"
    },
    {
     "name": "stdout",
     "output_type": "stream",
     "text": [
      " 18%|▏| 18/100 [03:46<15:57, 11.68s/trial, best loss: 0.030077629914610"
     ]
    },
    {
     "data": {
      "application/vnd.jupyter.widget-view+json": {
       "model_id": "5a3f291f595440c49311f25ba0bb34c6",
       "version_major": 2,
       "version_minor": 0
      },
      "text/plain": [
       "  0%|          | 0/42 [00:00<?, ?it/s]"
      ]
     },
     "metadata": {},
     "output_type": "display_data"
    },
    {
     "name": "stdout",
     "output_type": "stream",
     "text": [
      " 19%|▏| 19/100 [03:57<15:16, 11.32s/trial, best loss: 0.030077629914610"
     ]
    },
    {
     "name": "stderr",
     "output_type": "stream",
     "text": [
      "Seasonality has period of 365.25 days which is larger than initial window. Consider increasing initial.\n",
      "\n"
     ]
    },
    {
     "data": {
      "application/vnd.jupyter.widget-view+json": {
       "model_id": "9c28931187ff487aae6e0b7027f1ca58",
       "version_major": 2,
       "version_minor": 0
      },
      "text/plain": [
       "  0%|          | 0/42 [00:00<?, ?it/s]"
      ]
     },
     "metadata": {},
     "output_type": "display_data"
    },
    {
     "name": "stdout",
     "output_type": "stream",
     "text": [
      " 20%|▏| 20/100 [04:08<15:05, 11.32s/trial, best loss: 0.030077629914610"
     ]
    },
    {
     "name": "stderr",
     "output_type": "stream",
     "text": [
      "Seasonality has period of 365.25 days which is larger than initial window. Consider increasing initial.\n",
      "\n"
     ]
    },
    {
     "data": {
      "application/vnd.jupyter.widget-view+json": {
       "model_id": "a8b77a31e14e4f688126340839b8b649",
       "version_major": 2,
       "version_minor": 0
      },
      "text/plain": [
       "  0%|          | 0/42 [00:00<?, ?it/s]"
      ]
     },
     "metadata": {},
     "output_type": "display_data"
    },
    {
     "name": "stdout",
     "output_type": "stream",
     "text": [
      " 21%|▏| 21/100 [04:31<19:29, 14.80s/trial, best loss: 0.029042948244533"
     ]
    },
    {
     "name": "stderr",
     "output_type": "stream",
     "text": [
      "Seasonality has period of 365.25 days which is larger than initial window. Consider increasing initial.\n",
      "\n"
     ]
    },
    {
     "data": {
      "application/vnd.jupyter.widget-view+json": {
       "model_id": "440fc394e49b41c4a47dd25bab0242aa",
       "version_major": 2,
       "version_minor": 0
      },
      "text/plain": [
       "  0%|          | 0/42 [00:00<?, ?it/s]"
      ]
     },
     "metadata": {},
     "output_type": "display_data"
    },
    {
     "name": "stdout",
     "output_type": "stream",
     "text": [
      " 22%|▏| 22/100 [04:55<22:46, 17.51s/trial, best loss: 0.027848107537304"
     ]
    },
    {
     "name": "stderr",
     "output_type": "stream",
     "text": [
      "Seasonality has period of 365.25 days which is larger than initial window. Consider increasing initial.\n",
      "\n"
     ]
    },
    {
     "data": {
      "application/vnd.jupyter.widget-view+json": {
       "model_id": "b1c56c2032d94a8b8c2de93a7c978f39",
       "version_major": 2,
       "version_minor": 0
      },
      "text/plain": [
       "  0%|          | 0/42 [00:00<?, ?it/s]"
      ]
     },
     "metadata": {},
     "output_type": "display_data"
    },
    {
     "name": "stdout",
     "output_type": "stream",
     "text": [
      " 23%|▏| 23/100 [05:18<24:50, 19.35s/trial, best loss: 0.027848107537304"
     ]
    },
    {
     "name": "stderr",
     "output_type": "stream",
     "text": [
      "Seasonality has period of 365.25 days which is larger than initial window. Consider increasing initial.\n",
      "\n"
     ]
    },
    {
     "data": {
      "application/vnd.jupyter.widget-view+json": {
       "model_id": "d694f92f58e644c6a6715e70224cb42d",
       "version_major": 2,
       "version_minor": 0
      },
      "text/plain": [
       "  0%|          | 0/42 [00:00<?, ?it/s]"
      ]
     },
     "metadata": {},
     "output_type": "display_data"
    },
    {
     "name": "stdout",
     "output_type": "stream",
     "text": [
      " 24%|▏| 24/100 [05:37<24:17, 19.18s/trial, best loss: 0.027605763090572"
     ]
    },
    {
     "name": "stderr",
     "output_type": "stream",
     "text": [
      "Seasonality has period of 365.25 days which is larger than initial window. Consider increasing initial.\n",
      "\n"
     ]
    },
    {
     "data": {
      "application/vnd.jupyter.widget-view+json": {
       "model_id": "51c49fa7b4314de2ba5faffe1cec670d",
       "version_major": 2,
       "version_minor": 0
      },
      "text/plain": [
       "  0%|          | 0/42 [00:00<?, ?it/s]"
      ]
     },
     "metadata": {},
     "output_type": "display_data"
    },
    {
     "name": "stdout",
     "output_type": "stream",
     "text": [
      " 25%|▎| 25/100 [05:55<23:27, 18.77s/trial, best loss: 0.027605763090572"
     ]
    },
    {
     "name": "stderr",
     "output_type": "stream",
     "text": [
      "Seasonality has period of 365.25 days which is larger than initial window. Consider increasing initial.\n",
      "\n"
     ]
    },
    {
     "data": {
      "application/vnd.jupyter.widget-view+json": {
       "model_id": "69a493470a3d47278bc8a6021a55715d",
       "version_major": 2,
       "version_minor": 0
      },
      "text/plain": [
       "  0%|          | 0/42 [00:00<?, ?it/s]"
      ]
     },
     "metadata": {},
     "output_type": "display_data"
    },
    {
     "name": "stdout",
     "output_type": "stream",
     "text": [
      " 26%|▎| 26/100 [06:13<22:51, 18.54s/trial, best loss: 0.027605763090572"
     ]
    },
    {
     "name": "stderr",
     "output_type": "stream",
     "text": [
      "Seasonality has period of 365.25 days which is larger than initial window. Consider increasing initial.\n",
      "\n"
     ]
    },
    {
     "data": {
      "application/vnd.jupyter.widget-view+json": {
       "model_id": "7de84b2d6b8b40cda7a3cb8920479d05",
       "version_major": 2,
       "version_minor": 0
      },
      "text/plain": [
       "  0%|          | 0/42 [00:00<?, ?it/s]"
      ]
     },
     "metadata": {},
     "output_type": "display_data"
    },
    {
     "name": "stdout",
     "output_type": "stream",
     "text": [
      " 27%|▎| 27/100 [06:30<22:05, 18.16s/trial, best loss: 0.027605763090572"
     ]
    },
    {
     "name": "stderr",
     "output_type": "stream",
     "text": [
      "Seasonality has period of 365.25 days which is larger than initial window. Consider increasing initial.\n",
      "\n"
     ]
    },
    {
     "data": {
      "application/vnd.jupyter.widget-view+json": {
       "model_id": "f8c8b54f90474ae79ef45a4047cb0200",
       "version_major": 2,
       "version_minor": 0
      },
      "text/plain": [
       "  0%|          | 0/42 [00:00<?, ?it/s]"
      ]
     },
     "metadata": {},
     "output_type": "display_data"
    },
    {
     "name": "stdout",
     "output_type": "stream",
     "text": [
      " 28%|▎| 28/100 [06:47<21:15, 17.72s/trial, best loss: 0.027605763090572"
     ]
    },
    {
     "name": "stderr",
     "output_type": "stream",
     "text": [
      "Seasonality has period of 365.25 days which is larger than initial window. Consider increasing initial.\n",
      "\n"
     ]
    },
    {
     "data": {
      "application/vnd.jupyter.widget-view+json": {
       "model_id": "6da0544f580140c6ba6b8de275e7c753",
       "version_major": 2,
       "version_minor": 0
      },
      "text/plain": [
       "  0%|          | 0/42 [00:00<?, ?it/s]"
      ]
     },
     "metadata": {},
     "output_type": "display_data"
    },
    {
     "name": "stdout",
     "output_type": "stream",
     "text": [
      " 29%|▎| 29/100 [07:05<21:06, 17.84s/trial, best loss: 0.027605763090572"
     ]
    },
    {
     "name": "stderr",
     "output_type": "stream",
     "text": [
      "Seasonality has period of 365.25 days which is larger than initial window. Consider increasing initial.\n",
      "\n"
     ]
    },
    {
     "data": {
      "application/vnd.jupyter.widget-view+json": {
       "model_id": "d66a545df1d34071a4533a6371dbb4d3",
       "version_major": 2,
       "version_minor": 0
      },
      "text/plain": [
       "  0%|          | 0/42 [00:00<?, ?it/s]"
      ]
     },
     "metadata": {},
     "output_type": "display_data"
    },
    {
     "name": "stdout",
     "output_type": "stream",
     "text": [
      " 30%|▎| 30/100 [07:21<20:06, 17.24s/trial, best loss: 0.027605763090572"
     ]
    },
    {
     "name": "stderr",
     "output_type": "stream",
     "text": [
      "Seasonality has period of 365.25 days which is larger than initial window. Consider increasing initial.\n",
      "\n"
     ]
    },
    {
     "data": {
      "application/vnd.jupyter.widget-view+json": {
       "model_id": "e2f86400a3e7432c940b2624b8f3612a",
       "version_major": 2,
       "version_minor": 0
      },
      "text/plain": [
       "  0%|          | 0/42 [00:00<?, ?it/s]"
      ]
     },
     "metadata": {},
     "output_type": "display_data"
    },
    {
     "name": "stdout",
     "output_type": "stream",
     "text": [
      " 31%|▎| 31/100 [07:38<19:50, 17.25s/trial, best loss: 0.027605763090572"
     ]
    },
    {
     "name": "stderr",
     "output_type": "stream",
     "text": [
      "Seasonality has period of 365.25 days which is larger than initial window. Consider increasing initial.\n",
      "\n"
     ]
    },
    {
     "data": {
      "application/vnd.jupyter.widget-view+json": {
       "model_id": "4d521c9136da492289016baaaed4af96",
       "version_major": 2,
       "version_minor": 0
      },
      "text/plain": [
       "  0%|          | 0/42 [00:00<?, ?it/s]"
      ]
     },
     "metadata": {},
     "output_type": "display_data"
    },
    {
     "name": "stdout",
     "output_type": "stream",
     "text": [
      " 32%|▎| 32/100 [08:00<20:58, 18.50s/trial, best loss: 0.027605763090572"
     ]
    },
    {
     "name": "stderr",
     "output_type": "stream",
     "text": [
      "Seasonality has period of 365.25 days which is larger than initial window. Consider increasing initial.\n",
      "\n"
     ]
    },
    {
     "data": {
      "application/vnd.jupyter.widget-view+json": {
       "model_id": "3c58edc233494b039d3b5918122f4f55",
       "version_major": 2,
       "version_minor": 0
      },
      "text/plain": [
       "  0%|          | 0/42 [00:00<?, ?it/s]"
      ]
     },
     "metadata": {},
     "output_type": "display_data"
    },
    {
     "name": "stdout",
     "output_type": "stream",
     "text": [
      " 33%|▎| 33/100 [08:15<19:40, 17.61s/trial, best loss: 0.027605763090572"
     ]
    },
    {
     "name": "stderr",
     "output_type": "stream",
     "text": [
      "Seasonality has period of 365.25 days which is larger than initial window. Consider increasing initial.\n",
      "\n"
     ]
    },
    {
     "data": {
      "application/vnd.jupyter.widget-view+json": {
       "model_id": "5b569214d7954b6eb2c02fa88e950393",
       "version_major": 2,
       "version_minor": 0
      },
      "text/plain": [
       "  0%|          | 0/42 [00:00<?, ?it/s]"
      ]
     },
     "metadata": {},
     "output_type": "display_data"
    },
    {
     "name": "stderr",
     "output_type": "stream",
     "text": [
      "17:01:25 - cmdstanpy - ERROR - Chain [1] error: error during processing Operation not permitted\n",
      "Optimization terminated abnormally. Falling back to Newton.\n",
      "\n"
     ]
    },
    {
     "name": "stdout",
     "output_type": "stream",
     "text": [
      " 34%|▎| 34/100 [08:30<18:37, 16.93s/trial, best loss: 0.027605763090572"
     ]
    },
    {
     "name": "stderr",
     "output_type": "stream",
     "text": [
      "Seasonality has period of 365.25 days which is larger than initial window. Consider increasing initial.\n",
      "\n"
     ]
    },
    {
     "data": {
      "application/vnd.jupyter.widget-view+json": {
       "model_id": "aaf7893d0a1145ae9df78e6329772ff8",
       "version_major": 2,
       "version_minor": 0
      },
      "text/plain": [
       "  0%|          | 0/42 [00:00<?, ?it/s]"
      ]
     },
     "metadata": {},
     "output_type": "display_data"
    },
    {
     "name": "stdout",
     "output_type": "stream",
     "text": [
      " 35%|▎| 35/100 [08:52<19:59, 18.45s/trial, best loss: 0.027605763090572"
     ]
    },
    {
     "name": "stderr",
     "output_type": "stream",
     "text": [
      "Seasonality has period of 365.25 days which is larger than initial window. Consider increasing initial.\n",
      "\n"
     ]
    },
    {
     "data": {
      "application/vnd.jupyter.widget-view+json": {
       "model_id": "382417dd95dc4171b795eec71161157e",
       "version_major": 2,
       "version_minor": 0
      },
      "text/plain": [
       "  0%|          | 0/42 [00:00<?, ?it/s]"
      ]
     },
     "metadata": {},
     "output_type": "display_data"
    },
    {
     "name": "stdout",
     "output_type": "stream",
     "text": [
      " 36%|▎| 36/100 [09:08<18:42, 17.54s/trial, best loss: 0.027605763090572"
     ]
    },
    {
     "name": "stderr",
     "output_type": "stream",
     "text": [
      "Seasonality has period of 365.25 days which is larger than initial window. Consider increasing initial.\n",
      "\n"
     ]
    },
    {
     "data": {
      "application/vnd.jupyter.widget-view+json": {
       "model_id": "03e15b3a5d514b409809b47a7e1c9734",
       "version_major": 2,
       "version_minor": 0
      },
      "text/plain": [
       "  0%|          | 0/42 [00:00<?, ?it/s]"
      ]
     },
     "metadata": {},
     "output_type": "display_data"
    },
    {
     "name": "stdout",
     "output_type": "stream",
     "text": [
      " 37%|▎| 37/100 [09:25<18:25, 17.55s/trial, best loss: 0.027605763090572"
     ]
    },
    {
     "name": "stderr",
     "output_type": "stream",
     "text": [
      "Seasonality has period of 365.25 days which is larger than initial window. Consider increasing initial.\n",
      "\n"
     ]
    },
    {
     "data": {
      "application/vnd.jupyter.widget-view+json": {
       "model_id": "54949bace01b4b1085842f1d4e2c6ef0",
       "version_major": 2,
       "version_minor": 0
      },
      "text/plain": [
       "  0%|          | 0/42 [00:00<?, ?it/s]"
      ]
     },
     "metadata": {},
     "output_type": "display_data"
    },
    {
     "name": "stderr",
     "output_type": "stream",
     "text": [
      "17:02:35 - cmdstanpy - ERROR - Chain [1] error: error during processing Operation not permitted\n",
      "Optimization terminated abnormally. Falling back to Newton.\n",
      "\n"
     ]
    },
    {
     "name": "stdout",
     "output_type": "stream",
     "text": [
      " 38%|▍| 38/100 [09:47<19:29, 18.86s/trial, best loss: 0.027605763090572"
     ]
    },
    {
     "name": "stderr",
     "output_type": "stream",
     "text": [
      "Seasonality has period of 365.25 days which is larger than initial window. Consider increasing initial.\n",
      "\n"
     ]
    },
    {
     "data": {
      "application/vnd.jupyter.widget-view+json": {
       "model_id": "02ea2a6234c54edda0b994cd246ba202",
       "version_major": 2,
       "version_minor": 0
      },
      "text/plain": [
       "  0%|          | 0/42 [00:00<?, ?it/s]"
      ]
     },
     "metadata": {},
     "output_type": "display_data"
    },
    {
     "name": "stdout",
     "output_type": "stream",
     "text": [
      " 39%|▍| 39/100 [10:09<20:08, 19.80s/trial, best loss: 0.027605763090572"
     ]
    },
    {
     "name": "stderr",
     "output_type": "stream",
     "text": [
      "Seasonality has period of 365.25 days which is larger than initial window. Consider increasing initial.\n",
      "\n"
     ]
    },
    {
     "data": {
      "application/vnd.jupyter.widget-view+json": {
       "model_id": "26d0a6975add49ebbccfd4d79fe40ae6",
       "version_major": 2,
       "version_minor": 0
      },
      "text/plain": [
       "  0%|          | 0/42 [00:00<?, ?it/s]"
      ]
     },
     "metadata": {},
     "output_type": "display_data"
    },
    {
     "name": "stdout",
     "output_type": "stream",
     "text": [
      " 40%|▍| 40/100 [10:24<18:15, 18.25s/trial, best loss: 0.027605763090572"
     ]
    },
    {
     "data": {
      "application/vnd.jupyter.widget-view+json": {
       "model_id": "025d5d8a5c68447face5a0b430763ce5",
       "version_major": 2,
       "version_minor": 0
      },
      "text/plain": [
       "  0%|          | 0/42 [00:00<?, ?it/s]"
      ]
     },
     "metadata": {},
     "output_type": "display_data"
    },
    {
     "name": "stdout",
     "output_type": "stream",
     "text": [
      " 41%|▍| 41/100 [10:37<16:23, 16.68s/trial, best loss: 0.027605763090572"
     ]
    },
    {
     "name": "stderr",
     "output_type": "stream",
     "text": [
      "Seasonality has period of 365.25 days which is larger than initial window. Consider increasing initial.\n",
      "\n"
     ]
    },
    {
     "data": {
      "application/vnd.jupyter.widget-view+json": {
       "model_id": "a3b8310163f74fc0b0ba4527c0ff6f6e",
       "version_major": 2,
       "version_minor": 0
      },
      "text/plain": [
       "  0%|          | 0/42 [00:00<?, ?it/s]"
      ]
     },
     "metadata": {},
     "output_type": "display_data"
    },
    {
     "name": "stderr",
     "output_type": "stream",
     "text": [
      "17:03:46 - cmdstanpy - ERROR - Chain [1] error: error during processing Operation not permitted\n",
      "Optimization terminated abnormally. Falling back to Newton.\n",
      "\n"
     ]
    },
    {
     "name": "stdout",
     "output_type": "stream",
     "text": [
      " 42%|▍| 42/100 [10:50<14:55, 15.45s/trial, best loss: 0.027605763090572"
     ]
    },
    {
     "data": {
      "application/vnd.jupyter.widget-view+json": {
       "model_id": "54049e45ccfa418e801cdfe74ccaa4b0",
       "version_major": 2,
       "version_minor": 0
      },
      "text/plain": [
       "  0%|          | 0/42 [00:00<?, ?it/s]"
      ]
     },
     "metadata": {},
     "output_type": "display_data"
    },
    {
     "name": "stdout",
     "output_type": "stream",
     "text": [
      " 43%|▍| 43/100 [11:00<13:19, 14.03s/trial, best loss: 0.027605763090572"
     ]
    },
    {
     "name": "stderr",
     "output_type": "stream",
     "text": [
      "Seasonality has period of 365.25 days which is larger than initial window. Consider increasing initial.\n",
      "\n"
     ]
    },
    {
     "data": {
      "application/vnd.jupyter.widget-view+json": {
       "model_id": "82a2f722aa5d45fabeeee617c300f87a",
       "version_major": 2,
       "version_minor": 0
      },
      "text/plain": [
       "  0%|          | 0/42 [00:00<?, ?it/s]"
      ]
     },
     "metadata": {},
     "output_type": "display_data"
    },
    {
     "name": "stdout",
     "output_type": "stream",
     "text": [
      " 44%|▍| 44/100 [11:15<13:16, 14.23s/trial, best loss: 0.027605763090572"
     ]
    },
    {
     "name": "stderr",
     "output_type": "stream",
     "text": [
      "Seasonality has period of 365.25 days which is larger than initial window. Consider increasing initial.\n",
      "\n"
     ]
    },
    {
     "data": {
      "application/vnd.jupyter.widget-view+json": {
       "model_id": "8b114b0d44c14e1d9bcc9ff5a8525ea2",
       "version_major": 2,
       "version_minor": 0
      },
      "text/plain": [
       "  0%|          | 0/42 [00:00<?, ?it/s]"
      ]
     },
     "metadata": {},
     "output_type": "display_data"
    },
    {
     "name": "stdout",
     "output_type": "stream",
     "text": [
      " 45%|▍| 45/100 [11:29<12:53, 14.06s/trial, best loss: 0.027605763090572"
     ]
    },
    {
     "data": {
      "application/vnd.jupyter.widget-view+json": {
       "model_id": "45a462d765de4e998ca4974da5c60605",
       "version_major": 2,
       "version_minor": 0
      },
      "text/plain": [
       "  0%|          | 0/42 [00:00<?, ?it/s]"
      ]
     },
     "metadata": {},
     "output_type": "display_data"
    },
    {
     "name": "stdout",
     "output_type": "stream",
     "text": [
      " 46%|▍| 46/100 [11:42<12:27, 13.84s/trial, best loss: 0.027605763090572"
     ]
    },
    {
     "name": "stderr",
     "output_type": "stream",
     "text": [
      "Seasonality has period of 365.25 days which is larger than initial window. Consider increasing initial.\n",
      "\n"
     ]
    },
    {
     "data": {
      "application/vnd.jupyter.widget-view+json": {
       "model_id": "31de4fc8b71948df82ef8089ea97099e",
       "version_major": 2,
       "version_minor": 0
      },
      "text/plain": [
       "  0%|          | 0/42 [00:00<?, ?it/s]"
      ]
     },
     "metadata": {},
     "output_type": "display_data"
    },
    {
     "name": "stdout",
     "output_type": "stream",
     "text": [
      " 47%|▍| 47/100 [11:54<11:45, 13.32s/trial, best loss: 0.027605763090572"
     ]
    },
    {
     "data": {
      "application/vnd.jupyter.widget-view+json": {
       "model_id": "f7482841f7004767a2a5d2e4f52d9f69",
       "version_major": 2,
       "version_minor": 0
      },
      "text/plain": [
       "  0%|          | 0/42 [00:00<?, ?it/s]"
      ]
     },
     "metadata": {},
     "output_type": "display_data"
    },
    {
     "name": "stdout",
     "output_type": "stream",
     "text": [
      " 48%|▍| 48/100 [12:06<11:14, 12.97s/trial, best loss: 0.027605763090572"
     ]
    },
    {
     "name": "stderr",
     "output_type": "stream",
     "text": [
      "Seasonality has period of 365.25 days which is larger than initial window. Consider increasing initial.\n",
      "\n"
     ]
    },
    {
     "data": {
      "application/vnd.jupyter.widget-view+json": {
       "model_id": "405319e938464b568f8688436cf32b4a",
       "version_major": 2,
       "version_minor": 0
      },
      "text/plain": [
       "  0%|          | 0/42 [00:00<?, ?it/s]"
      ]
     },
     "metadata": {},
     "output_type": "display_data"
    },
    {
     "name": "stderr",
     "output_type": "stream",
     "text": [
      "17:05:22 - cmdstanpy - ERROR - Chain [1] error: error during processing Operation not permitted\n",
      "Optimization terminated abnormally. Falling back to Newton.\n",
      "\n"
     ]
    },
    {
     "name": "stdout",
     "output_type": "stream",
     "text": [
      " 49%|▍| 49/100 [12:20<11:10, 13.15s/trial, best loss: 0.027605763090572"
     ]
    },
    {
     "name": "stderr",
     "output_type": "stream",
     "text": [
      "Seasonality has period of 365.25 days which is larger than initial window. Consider increasing initial.\n",
      "\n"
     ]
    },
    {
     "data": {
      "application/vnd.jupyter.widget-view+json": {
       "model_id": "ebac2339d95c4576aa324025a5233f35",
       "version_major": 2,
       "version_minor": 0
      },
      "text/plain": [
       "  0%|          | 0/42 [00:00<?, ?it/s]"
      ]
     },
     "metadata": {},
     "output_type": "display_data"
    },
    {
     "name": "stderr",
     "output_type": "stream",
     "text": [
      "17:05:28 - cmdstanpy - ERROR - Chain [1] error: error during processing Operation not permitted\n",
      "Optimization terminated abnormally. Falling back to Newton.\n",
      "\n",
      "17:05:29 - cmdstanpy - ERROR - Chain [1] error: error during processing Operation not permitted\n",
      "Optimization terminated abnormally. Falling back to Newton.\n",
      "\n",
      "17:05:39 - cmdstanpy - ERROR - Chain [1] error: error during processing Operation not permitted\n",
      "Optimization terminated abnormally. Falling back to Newton.\n",
      "\n",
      "17:05:41 - cmdstanpy - ERROR - Chain [1] error: error during processing Operation not permitted\n",
      "Optimization terminated abnormally. Falling back to Newton.\n",
      "\n",
      "17:05:42 - cmdstanpy - ERROR - Chain [1] error: error during processing Operation not permitted\n",
      "Optimization terminated abnormally. Falling back to Newton.\n",
      "\n",
      "17:05:43 - cmdstanpy - ERROR - Chain [1] error: error during processing Operation not permitted\n",
      "Optimization terminated abnormally. Falling back to Newton.\n",
      "\n"
     ]
    },
    {
     "name": "stdout",
     "output_type": "stream",
     "text": [
      " 50%|▌| 50/100 [12:45<13:56, 16.73s/trial, best loss: 0.027605763090572"
     ]
    },
    {
     "data": {
      "application/vnd.jupyter.widget-view+json": {
       "model_id": "01196efcf3354b4bbc2609b91ba0b49d",
       "version_major": 2,
       "version_minor": 0
      },
      "text/plain": [
       "  0%|          | 0/42 [00:00<?, ?it/s]"
      ]
     },
     "metadata": {},
     "output_type": "display_data"
    },
    {
     "name": "stdout",
     "output_type": "stream",
     "text": [
      " 51%|▌| 51/100 [12:56<12:19, 15.09s/trial, best loss: 0.027605763090572"
     ]
    },
    {
     "name": "stderr",
     "output_type": "stream",
     "text": [
      "Seasonality has period of 365.25 days which is larger than initial window. Consider increasing initial.\n",
      "\n"
     ]
    },
    {
     "data": {
      "application/vnd.jupyter.widget-view+json": {
       "model_id": "3c5ee36b3a5c4bb3ad96b16b1618296d",
       "version_major": 2,
       "version_minor": 0
      },
      "text/plain": [
       "  0%|          | 0/42 [00:00<?, ?it/s]"
      ]
     },
     "metadata": {},
     "output_type": "display_data"
    },
    {
     "name": "stdout",
     "output_type": "stream",
     "text": [
      " 52%|▌| 52/100 [13:07<11:07, 13.91s/trial, best loss: 0.027605763090572"
     ]
    },
    {
     "name": "stderr",
     "output_type": "stream",
     "text": [
      "Seasonality has period of 365.25 days which is larger than initial window. Consider increasing initial.\n",
      "\n"
     ]
    },
    {
     "data": {
      "application/vnd.jupyter.widget-view+json": {
       "model_id": "7895e8edb48c474bb8b47a7939441a4c",
       "version_major": 2,
       "version_minor": 0
      },
      "text/plain": [
       "  0%|          | 0/42 [00:00<?, ?it/s]"
      ]
     },
     "metadata": {},
     "output_type": "display_data"
    },
    {
     "name": "stdout",
     "output_type": "stream",
     "text": [
      " 53%|▌| 53/100 [13:27<12:17, 15.69s/trial, best loss: 0.027097102012568"
     ]
    },
    {
     "data": {
      "application/vnd.jupyter.widget-view+json": {
       "model_id": "64df726f9cc342e0be00de11170b56d2",
       "version_major": 2,
       "version_minor": 0
      },
      "text/plain": [
       "  0%|          | 0/42 [00:00<?, ?it/s]"
      ]
     },
     "metadata": {},
     "output_type": "display_data"
    },
    {
     "name": "stdout",
     "output_type": "stream",
     "text": [
      " 54%|▌| 54/100 [13:38<10:48, 14.10s/trial, best loss: 0.027097102012568"
     ]
    },
    {
     "name": "stderr",
     "output_type": "stream",
     "text": [
      "Seasonality has period of 365.25 days which is larger than initial window. Consider increasing initial.\n",
      "\n"
     ]
    },
    {
     "data": {
      "application/vnd.jupyter.widget-view+json": {
       "model_id": "7591f1243b794bd490c1c4ec4af0c19b",
       "version_major": 2,
       "version_minor": 0
      },
      "text/plain": [
       "  0%|          | 0/42 [00:00<?, ?it/s]"
      ]
     },
     "metadata": {},
     "output_type": "display_data"
    },
    {
     "name": "stderr",
     "output_type": "stream",
     "text": [
      "17:06:54 - cmdstanpy - ERROR - Chain [1] error: error during processing Operation not permitted\n",
      "Optimization terminated abnormally. Falling back to Newton.\n",
      "\n"
     ]
    },
    {
     "name": "stdout",
     "output_type": "stream",
     "text": [
      " 55%|▌| 55/100 [13:51<10:21, 13.81s/trial, best loss: 0.027097102012568"
     ]
    },
    {
     "name": "stderr",
     "output_type": "stream",
     "text": [
      "Seasonality has period of 365.25 days which is larger than initial window. Consider increasing initial.\n",
      "\n"
     ]
    },
    {
     "data": {
      "application/vnd.jupyter.widget-view+json": {
       "model_id": "c99d2ab0fbb84f018ead1aefc054b67b",
       "version_major": 2,
       "version_minor": 0
      },
      "text/plain": [
       "  0%|          | 0/42 [00:00<?, ?it/s]"
      ]
     },
     "metadata": {},
     "output_type": "display_data"
    },
    {
     "name": "stdout",
     "output_type": "stream",
     "text": [
      " 56%|▌| 56/100 [14:11<11:27, 15.63s/trial, best loss: 0.027097102012568"
     ]
    },
    {
     "name": "stderr",
     "output_type": "stream",
     "text": [
      "Seasonality has period of 365.25 days which is larger than initial window. Consider increasing initial.\n",
      "\n"
     ]
    },
    {
     "data": {
      "application/vnd.jupyter.widget-view+json": {
       "model_id": "040caf8defeb49659151829784f5aba0",
       "version_major": 2,
       "version_minor": 0
      },
      "text/plain": [
       "  0%|          | 0/42 [00:00<?, ?it/s]"
      ]
     },
     "metadata": {},
     "output_type": "display_data"
    },
    {
     "name": "stderr",
     "output_type": "stream",
     "text": [
      "17:07:30 - cmdstanpy - ERROR - Chain [1] error: error during processing Operation not permitted\n",
      "Optimization terminated abnormally. Falling back to Newton.\n",
      "\n"
     ]
    },
    {
     "name": "stdout",
     "output_type": "stream",
     "text": [
      " 57%|▌| 57/100 [14:27<11:25, 15.94s/trial, best loss: 0.027097102012568"
     ]
    },
    {
     "data": {
      "application/vnd.jupyter.widget-view+json": {
       "model_id": "20d2c7c5b191437ba19d84c32981f2b7",
       "version_major": 2,
       "version_minor": 0
      },
      "text/plain": [
       "  0%|          | 0/42 [00:00<?, ?it/s]"
      ]
     },
     "metadata": {},
     "output_type": "display_data"
    },
    {
     "name": "stdout",
     "output_type": "stream",
     "text": [
      " 58%|▌| 58/100 [14:38<10:02, 14.34s/trial, best loss: 0.027097102012568"
     ]
    },
    {
     "name": "stderr",
     "output_type": "stream",
     "text": [
      "Seasonality has period of 365.25 days which is larger than initial window. Consider increasing initial.\n",
      "\n"
     ]
    },
    {
     "data": {
      "application/vnd.jupyter.widget-view+json": {
       "model_id": "61e37a2d505f4e7a972b0535788f9810",
       "version_major": 2,
       "version_minor": 0
      },
      "text/plain": [
       "  0%|          | 0/42 [00:00<?, ?it/s]"
      ]
     },
     "metadata": {},
     "output_type": "display_data"
    },
    {
     "name": "stdout",
     "output_type": "stream",
     "text": [
      " 59%|▌| 59/100 [14:49<09:06, 13.34s/trial, best loss: 0.027097102012568"
     ]
    },
    {
     "name": "stderr",
     "output_type": "stream",
     "text": [
      "Seasonality has period of 365.25 days which is larger than initial window. Consider increasing initial.\n",
      "\n"
     ]
    },
    {
     "data": {
      "application/vnd.jupyter.widget-view+json": {
       "model_id": "fe107496abb547c9bacb4787361c9c3a",
       "version_major": 2,
       "version_minor": 0
      },
      "text/plain": [
       "  0%|          | 0/42 [00:00<?, ?it/s]"
      ]
     },
     "metadata": {},
     "output_type": "display_data"
    },
    {
     "name": "stdout",
     "output_type": "stream",
     "text": [
      " 60%|▌| 60/100 [15:12<10:47, 16.18s/trial, best loss: 0.027097102012568"
     ]
    },
    {
     "name": "stderr",
     "output_type": "stream",
     "text": [
      "Seasonality has period of 365.25 days which is larger than initial window. Consider increasing initial.\n",
      "\n"
     ]
    },
    {
     "data": {
      "application/vnd.jupyter.widget-view+json": {
       "model_id": "221c612c66544398aedb1e6f196baaa3",
       "version_major": 2,
       "version_minor": 0
      },
      "text/plain": [
       "  0%|          | 0/42 [00:00<?, ?it/s]"
      ]
     },
     "metadata": {},
     "output_type": "display_data"
    },
    {
     "name": "stderr",
     "output_type": "stream",
     "text": [
      "17:08:21 - cmdstanpy - ERROR - Chain [1] error: error during processing Operation not permitted\n",
      "Optimization terminated abnormally. Falling back to Newton.\n",
      "\n"
     ]
    },
    {
     "name": "stdout",
     "output_type": "stream",
     "text": [
      " 61%|▌| 61/100 [15:26<10:09, 15.64s/trial, best loss: 0.027097102012568"
     ]
    },
    {
     "data": {
      "application/vnd.jupyter.widget-view+json": {
       "model_id": "b8a54cc39b9844d89b88d21687f6ca36",
       "version_major": 2,
       "version_minor": 0
      },
      "text/plain": [
       "  0%|          | 0/42 [00:00<?, ?it/s]"
      ]
     },
     "metadata": {},
     "output_type": "display_data"
    },
    {
     "name": "stdout",
     "output_type": "stream",
     "text": [
      " 62%|▌| 62/100 [15:37<09:02, 14.28s/trial, best loss: 0.027097102012568"
     ]
    },
    {
     "name": "stderr",
     "output_type": "stream",
     "text": [
      "Seasonality has period of 365.25 days which is larger than initial window. Consider increasing initial.\n",
      "\n"
     ]
    },
    {
     "data": {
      "application/vnd.jupyter.widget-view+json": {
       "model_id": "39a59710f6744e22b19af951cd42c46b",
       "version_major": 2,
       "version_minor": 0
      },
      "text/plain": [
       "  0%|          | 0/42 [00:00<?, ?it/s]"
      ]
     },
     "metadata": {},
     "output_type": "display_data"
    },
    {
     "name": "stdout",
     "output_type": "stream",
     "text": [
      " 63%|▋| 63/100 [15:50<08:34, 13.90s/trial, best loss: 0.027097102012568"
     ]
    },
    {
     "name": "stderr",
     "output_type": "stream",
     "text": [
      "Seasonality has period of 365.25 days which is larger than initial window. Consider increasing initial.\n",
      "\n"
     ]
    },
    {
     "data": {
      "application/vnd.jupyter.widget-view+json": {
       "model_id": "257c2d80e3a049139e035f432c15ebec",
       "version_major": 2,
       "version_minor": 0
      },
      "text/plain": [
       "  0%|          | 0/42 [00:00<?, ?it/s]"
      ]
     },
     "metadata": {},
     "output_type": "display_data"
    },
    {
     "name": "stdout",
     "output_type": "stream",
     "text": [
      " 64%|▋| 64/100 [16:09<09:09, 15.26s/trial, best loss: 0.027097102012568"
     ]
    },
    {
     "name": "stderr",
     "output_type": "stream",
     "text": [
      "Seasonality has period of 365.25 days which is larger than initial window. Consider increasing initial.\n",
      "\n"
     ]
    },
    {
     "data": {
      "application/vnd.jupyter.widget-view+json": {
       "model_id": "2a076f60dedf4375a24aad54878df871",
       "version_major": 2,
       "version_minor": 0
      },
      "text/plain": [
       "  0%|          | 0/42 [00:00<?, ?it/s]"
      ]
     },
     "metadata": {},
     "output_type": "display_data"
    },
    {
     "name": "stdout",
     "output_type": "stream",
     "text": [
      " 65%|▋| 65/100 [16:31<10:10, 17.45s/trial, best loss: 0.026694371418916"
     ]
    },
    {
     "name": "stderr",
     "output_type": "stream",
     "text": [
      "Seasonality has period of 365.25 days which is larger than initial window. Consider increasing initial.\n",
      "\n"
     ]
    },
    {
     "data": {
      "application/vnd.jupyter.widget-view+json": {
       "model_id": "2bb41493f4bc45988ef156f594a7ddef",
       "version_major": 2,
       "version_minor": 0
      },
      "text/plain": [
       "  0%|          | 0/42 [00:00<?, ?it/s]"
      ]
     },
     "metadata": {},
     "output_type": "display_data"
    },
    {
     "name": "stdout",
     "output_type": "stream",
     "text": [
      " 66%|▋| 66/100 [16:54<10:46, 19.02s/trial, best loss: 0.026694371418916"
     ]
    },
    {
     "name": "stderr",
     "output_type": "stream",
     "text": [
      "Seasonality has period of 365.25 days which is larger than initial window. Consider increasing initial.\n",
      "\n"
     ]
    },
    {
     "data": {
      "application/vnd.jupyter.widget-view+json": {
       "model_id": "ceca074d0dd64f88a1711cb08f77dcbf",
       "version_major": 2,
       "version_minor": 0
      },
      "text/plain": [
       "  0%|          | 0/42 [00:00<?, ?it/s]"
      ]
     },
     "metadata": {},
     "output_type": "display_data"
    },
    {
     "name": "stdout",
     "output_type": "stream",
     "text": [
      " 67%|▋| 67/100 [17:18<11:14, 20.43s/trial, best loss: 0.026694371418916"
     ]
    },
    {
     "name": "stderr",
     "output_type": "stream",
     "text": [
      "Seasonality has period of 365.25 days which is larger than initial window. Consider increasing initial.\n",
      "\n"
     ]
    },
    {
     "data": {
      "application/vnd.jupyter.widget-view+json": {
       "model_id": "9eefd8d9117f4532947cdc2ef28250f8",
       "version_major": 2,
       "version_minor": 0
      },
      "text/plain": [
       "  0%|          | 0/42 [00:00<?, ?it/s]"
      ]
     },
     "metadata": {},
     "output_type": "display_data"
    },
    {
     "name": "stdout",
     "output_type": "stream",
     "text": [
      " 68%|▋| 68/100 [17:33<10:02, 18.82s/trial, best loss: 0.026694371418916"
     ]
    },
    {
     "name": "stderr",
     "output_type": "stream",
     "text": [
      "Seasonality has period of 365.25 days which is larger than initial window. Consider increasing initial.\n",
      "\n"
     ]
    },
    {
     "data": {
      "application/vnd.jupyter.widget-view+json": {
       "model_id": "8f2ccc8b65af437c88182d452ccc8520",
       "version_major": 2,
       "version_minor": 0
      },
      "text/plain": [
       "  0%|          | 0/42 [00:00<?, ?it/s]"
      ]
     },
     "metadata": {},
     "output_type": "display_data"
    },
    {
     "name": "stdout",
     "output_type": "stream",
     "text": [
      " 69%|▋| 69/100 [17:56<10:29, 20.31s/trial, best loss: 0.025466064302671"
     ]
    },
    {
     "name": "stderr",
     "output_type": "stream",
     "text": [
      "Seasonality has period of 365.25 days which is larger than initial window. Consider increasing initial.\n",
      "\n"
     ]
    },
    {
     "data": {
      "application/vnd.jupyter.widget-view+json": {
       "model_id": "610f56c863d74656b4115e71fcac878a",
       "version_major": 2,
       "version_minor": 0
      },
      "text/plain": [
       "  0%|          | 0/42 [00:00<?, ?it/s]"
      ]
     },
     "metadata": {},
     "output_type": "display_data"
    },
    {
     "name": "stdout",
     "output_type": "stream",
     "text": [
      " 70%|▋| 70/100 [18:18<10:22, 20.76s/trial, best loss: 0.025466064302671"
     ]
    },
    {
     "name": "stderr",
     "output_type": "stream",
     "text": [
      "Seasonality has period of 365.25 days which is larger than initial window. Consider increasing initial.\n",
      "\n"
     ]
    },
    {
     "data": {
      "application/vnd.jupyter.widget-view+json": {
       "model_id": "ae44ad72698e4526b3fd4a8f2b0482fa",
       "version_major": 2,
       "version_minor": 0
      },
      "text/plain": [
       "  0%|          | 0/42 [00:00<?, ?it/s]"
      ]
     },
     "metadata": {},
     "output_type": "display_data"
    },
    {
     "name": "stdout",
     "output_type": "stream",
     "text": [
      " 71%|▋| 71/100 [18:39<09:58, 20.64s/trial, best loss: 0.025466064302671"
     ]
    },
    {
     "name": "stderr",
     "output_type": "stream",
     "text": [
      "Seasonality has period of 365.25 days which is larger than initial window. Consider increasing initial.\n",
      "\n"
     ]
    },
    {
     "data": {
      "application/vnd.jupyter.widget-view+json": {
       "model_id": "0a339814b8d64fd080bea083c96d7e18",
       "version_major": 2,
       "version_minor": 0
      },
      "text/plain": [
       "  0%|          | 0/42 [00:00<?, ?it/s]"
      ]
     },
     "metadata": {},
     "output_type": "display_data"
    },
    {
     "name": "stdout",
     "output_type": "stream",
     "text": [
      " 72%|▋| 72/100 [18:59<09:32, 20.44s/trial, best loss: 0.025466064302671"
     ]
    },
    {
     "name": "stderr",
     "output_type": "stream",
     "text": [
      "Seasonality has period of 365.25 days which is larger than initial window. Consider increasing initial.\n",
      "\n"
     ]
    },
    {
     "data": {
      "application/vnd.jupyter.widget-view+json": {
       "model_id": "459de24fde5544c88c0454ceb728d04b",
       "version_major": 2,
       "version_minor": 0
      },
      "text/plain": [
       "  0%|          | 0/42 [00:00<?, ?it/s]"
      ]
     },
     "metadata": {},
     "output_type": "display_data"
    },
    {
     "name": "stdout",
     "output_type": "stream",
     "text": [
      " 73%|▋| 73/100 [19:21<09:29, 21.08s/trial, best loss: 0.025466064302671"
     ]
    },
    {
     "name": "stderr",
     "output_type": "stream",
     "text": [
      "Seasonality has period of 365.25 days which is larger than initial window. Consider increasing initial.\n",
      "\n"
     ]
    },
    {
     "data": {
      "application/vnd.jupyter.widget-view+json": {
       "model_id": "bf881169df624715a19f8da277a21935",
       "version_major": 2,
       "version_minor": 0
      },
      "text/plain": [
       "  0%|          | 0/42 [00:00<?, ?it/s]"
      ]
     },
     "metadata": {},
     "output_type": "display_data"
    },
    {
     "name": "stdout",
     "output_type": "stream",
     "text": [
      " 74%|▋| 74/100 [19:40<08:50, 20.39s/trial, best loss: 0.025466064302671"
     ]
    },
    {
     "name": "stderr",
     "output_type": "stream",
     "text": [
      "Seasonality has period of 365.25 days which is larger than initial window. Consider increasing initial.\n",
      "\n"
     ]
    },
    {
     "data": {
      "application/vnd.jupyter.widget-view+json": {
       "model_id": "2b03145ae59e44ee907d2e119aeaa03a",
       "version_major": 2,
       "version_minor": 0
      },
      "text/plain": [
       "  0%|          | 0/42 [00:00<?, ?it/s]"
      ]
     },
     "metadata": {},
     "output_type": "display_data"
    },
    {
     "name": "stdout",
     "output_type": "stream",
     "text": [
      " 75%|▊| 75/100 [20:00<08:26, 20.27s/trial, best loss: 0.025466064302671"
     ]
    },
    {
     "name": "stderr",
     "output_type": "stream",
     "text": [
      "Seasonality has period of 365.25 days which is larger than initial window. Consider increasing initial.\n",
      "\n"
     ]
    },
    {
     "data": {
      "application/vnd.jupyter.widget-view+json": {
       "model_id": "513612c59e6c4c01919bca38b30db873",
       "version_major": 2,
       "version_minor": 0
      },
      "text/plain": [
       "  0%|          | 0/42 [00:00<?, ?it/s]"
      ]
     },
     "metadata": {},
     "output_type": "display_data"
    },
    {
     "name": "stdout",
     "output_type": "stream",
     "text": [
      " 76%|▊| 76/100 [20:20<08:05, 20.23s/trial, best loss: 0.025466064302671"
     ]
    },
    {
     "name": "stderr",
     "output_type": "stream",
     "text": [
      "Seasonality has period of 365.25 days which is larger than initial window. Consider increasing initial.\n",
      "\n"
     ]
    },
    {
     "data": {
      "application/vnd.jupyter.widget-view+json": {
       "model_id": "ccb0eff1d70843d4ba4c45adef036862",
       "version_major": 2,
       "version_minor": 0
      },
      "text/plain": [
       "  0%|          | 0/42 [00:00<?, ?it/s]"
      ]
     },
     "metadata": {},
     "output_type": "display_data"
    },
    {
     "name": "stdout",
     "output_type": "stream",
     "text": [
      " 77%|▊| 77/100 [20:42<08:00, 20.90s/trial, best loss: 0.025466064302671"
     ]
    },
    {
     "name": "stderr",
     "output_type": "stream",
     "text": [
      "Seasonality has period of 365.25 days which is larger than initial window. Consider increasing initial.\n",
      "\n"
     ]
    },
    {
     "data": {
      "application/vnd.jupyter.widget-view+json": {
       "model_id": "19d5d74315124335a85f683458494e58",
       "version_major": 2,
       "version_minor": 0
      },
      "text/plain": [
       "  0%|          | 0/42 [00:00<?, ?it/s]"
      ]
     },
     "metadata": {},
     "output_type": "display_data"
    },
    {
     "name": "stdout",
     "output_type": "stream",
     "text": [
      " 78%|▊| 78/100 [21:03<07:39, 20.91s/trial, best loss: 0.025466064302671"
     ]
    },
    {
     "name": "stderr",
     "output_type": "stream",
     "text": [
      "Seasonality has period of 365.25 days which is larger than initial window. Consider increasing initial.\n",
      "\n"
     ]
    },
    {
     "data": {
      "application/vnd.jupyter.widget-view+json": {
       "model_id": "37add81cf73f49caae94b2f6f731188c",
       "version_major": 2,
       "version_minor": 0
      },
      "text/plain": [
       "  0%|          | 0/42 [00:00<?, ?it/s]"
      ]
     },
     "metadata": {},
     "output_type": "display_data"
    },
    {
     "name": "stdout",
     "output_type": "stream",
     "text": [
      " 79%|▊| 79/100 [21:24<07:18, 20.86s/trial, best loss: 0.025466064302671"
     ]
    },
    {
     "data": {
      "application/vnd.jupyter.widget-view+json": {
       "model_id": "8a33ba043c474d6cbaafed208423700c",
       "version_major": 2,
       "version_minor": 0
      },
      "text/plain": [
       "  0%|          | 0/42 [00:00<?, ?it/s]"
      ]
     },
     "metadata": {},
     "output_type": "display_data"
    },
    {
     "name": "stdout",
     "output_type": "stream",
     "text": [
      " 80%|▊| 80/100 [21:37<06:07, 18.37s/trial, best loss: 0.025466064302671"
     ]
    },
    {
     "name": "stderr",
     "output_type": "stream",
     "text": [
      "Seasonality has period of 365.25 days which is larger than initial window. Consider increasing initial.\n",
      "\n"
     ]
    },
    {
     "data": {
      "application/vnd.jupyter.widget-view+json": {
       "model_id": "a488ca38ac3b42cc8a3bd0fa0fc83c42",
       "version_major": 2,
       "version_minor": 0
      },
      "text/plain": [
       "  0%|          | 0/42 [00:00<?, ?it/s]"
      ]
     },
     "metadata": {},
     "output_type": "display_data"
    },
    {
     "name": "stdout",
     "output_type": "stream",
     "text": [
      " 81%|▊| 81/100 [21:50<05:18, 16.75s/trial, best loss: 0.025466064302671"
     ]
    },
    {
     "name": "stderr",
     "output_type": "stream",
     "text": [
      "Seasonality has period of 365.25 days which is larger than initial window. Consider increasing initial.\n",
      "\n"
     ]
    },
    {
     "data": {
      "application/vnd.jupyter.widget-view+json": {
       "model_id": "2ca1cd30bdc5482b98d93d2ee1bdcc1a",
       "version_major": 2,
       "version_minor": 0
      },
      "text/plain": [
       "  0%|          | 0/42 [00:00<?, ?it/s]"
      ]
     },
     "metadata": {},
     "output_type": "display_data"
    },
    {
     "name": "stdout",
     "output_type": "stream",
     "text": [
      " 82%|▊| 82/100 [22:09<05:14, 17.48s/trial, best loss: 0.025466064302671"
     ]
    },
    {
     "name": "stderr",
     "output_type": "stream",
     "text": [
      "Seasonality has period of 365.25 days which is larger than initial window. Consider increasing initial.\n",
      "\n"
     ]
    },
    {
     "data": {
      "application/vnd.jupyter.widget-view+json": {
       "model_id": "d2e61493104c4577bf59224c4f4d39f7",
       "version_major": 2,
       "version_minor": 0
      },
      "text/plain": [
       "  0%|          | 0/42 [00:00<?, ?it/s]"
      ]
     },
     "metadata": {},
     "output_type": "display_data"
    },
    {
     "name": "stdout",
     "output_type": "stream",
     "text": [
      " 83%|▊| 83/100 [22:26<04:55, 17.40s/trial, best loss: 0.025466064302671"
     ]
    },
    {
     "name": "stderr",
     "output_type": "stream",
     "text": [
      "Seasonality has period of 365.25 days which is larger than initial window. Consider increasing initial.\n",
      "\n"
     ]
    },
    {
     "data": {
      "application/vnd.jupyter.widget-view+json": {
       "model_id": "2f5d2f3d74a840429b9e2526570d913a",
       "version_major": 2,
       "version_minor": 0
      },
      "text/plain": [
       "  0%|          | 0/42 [00:00<?, ?it/s]"
      ]
     },
     "metadata": {},
     "output_type": "display_data"
    },
    {
     "name": "stderr",
     "output_type": "stream",
     "text": [
      "17:15:36 - cmdstanpy - ERROR - Chain [1] error: error during processing Operation not permitted\n",
      "Optimization terminated abnormally. Falling back to Newton.\n",
      "\n"
     ]
    },
    {
     "name": "stdout",
     "output_type": "stream",
     "text": [
      " 84%|▊| 84/100 [22:39<04:14, 15.92s/trial, best loss: 0.025466064302671"
     ]
    },
    {
     "data": {
      "application/vnd.jupyter.widget-view+json": {
       "model_id": "0206f88b83d44b90a96e64b272cbeeb4",
       "version_major": 2,
       "version_minor": 0
      },
      "text/plain": [
       "  0%|          | 0/42 [00:00<?, ?it/s]"
      ]
     },
     "metadata": {},
     "output_type": "display_data"
    },
    {
     "name": "stdout",
     "output_type": "stream",
     "text": [
      " 85%|▊| 85/100 [22:50<03:37, 14.53s/trial, best loss: 0.025466064302671"
     ]
    },
    {
     "name": "stderr",
     "output_type": "stream",
     "text": [
      "Seasonality has period of 365.25 days which is larger than initial window. Consider increasing initial.\n",
      "\n"
     ]
    },
    {
     "data": {
      "application/vnd.jupyter.widget-view+json": {
       "model_id": "349b7ee7ad43449e9a54c3773f21e80c",
       "version_major": 2,
       "version_minor": 0
      },
      "text/plain": [
       "  0%|          | 0/42 [00:00<?, ?it/s]"
      ]
     },
     "metadata": {},
     "output_type": "display_data"
    },
    {
     "name": "stdout",
     "output_type": "stream",
     "text": [
      " 86%|▊| 86/100 [23:06<03:29, 14.94s/trial, best loss: 0.025466064302671"
     ]
    },
    {
     "name": "stderr",
     "output_type": "stream",
     "text": [
      "Seasonality has period of 365.25 days which is larger than initial window. Consider increasing initial.\n",
      "\n"
     ]
    },
    {
     "data": {
      "application/vnd.jupyter.widget-view+json": {
       "model_id": "8ce3058a20f6496e9d7cb2e958ae2eac",
       "version_major": 2,
       "version_minor": 0
      },
      "text/plain": [
       "  0%|          | 0/42 [00:00<?, ?it/s]"
      ]
     },
     "metadata": {},
     "output_type": "display_data"
    },
    {
     "name": "stderr",
     "output_type": "stream",
     "text": [
      "17:16:29 - cmdstanpy - ERROR - Chain [1] error: error during processing Operation not permitted\n",
      "Optimization terminated abnormally. Falling back to Newton.\n",
      "\n"
     ]
    },
    {
     "name": "stdout",
     "output_type": "stream",
     "text": [
      " 87%|▊| 87/100 [23:26<03:33, 16.44s/trial, best loss: 0.025466064302671"
     ]
    },
    {
     "name": "stderr",
     "output_type": "stream",
     "text": [
      "Seasonality has period of 365.25 days which is larger than initial window. Consider increasing initial.\n",
      "\n"
     ]
    },
    {
     "data": {
      "application/vnd.jupyter.widget-view+json": {
       "model_id": "276aa5844fc947df9ce76308932dd790",
       "version_major": 2,
       "version_minor": 0
      },
      "text/plain": [
       "  0%|          | 0/42 [00:00<?, ?it/s]"
      ]
     },
     "metadata": {},
     "output_type": "display_data"
    },
    {
     "name": "stdout",
     "output_type": "stream",
     "text": [
      " 88%|▉| 88/100 [23:46<03:31, 17.61s/trial, best loss: 0.025466064302671"
     ]
    },
    {
     "data": {
      "application/vnd.jupyter.widget-view+json": {
       "model_id": "a35c0c07188e4128ab879327b2f45b01",
       "version_major": 2,
       "version_minor": 0
      },
      "text/plain": [
       "  0%|          | 0/42 [00:00<?, ?it/s]"
      ]
     },
     "metadata": {},
     "output_type": "display_data"
    },
    {
     "name": "stderr",
     "output_type": "stream",
     "text": [
      "17:17:03 - cmdstanpy - ERROR - Chain [1] error: error during processing Operation not permitted\n",
      "Optimization terminated abnormally. Falling back to Newton.\n",
      "\n"
     ]
    },
    {
     "name": "stdout",
     "output_type": "stream",
     "text": [
      " 89%|▉| 89/100 [23:58<02:54, 15.87s/trial, best loss: 0.025466064302671"
     ]
    },
    {
     "name": "stderr",
     "output_type": "stream",
     "text": [
      "Seasonality has period of 365.25 days which is larger than initial window. Consider increasing initial.\n",
      "\n"
     ]
    },
    {
     "data": {
      "application/vnd.jupyter.widget-view+json": {
       "model_id": "6fea2f2d80864e0eaa37fbc62bab13fc",
       "version_major": 2,
       "version_minor": 0
      },
      "text/plain": [
       "  0%|          | 0/42 [00:00<?, ?it/s]"
      ]
     },
     "metadata": {},
     "output_type": "display_data"
    },
    {
     "name": "stdout",
     "output_type": "stream",
     "text": [
      " 90%|▉| 90/100 [24:12<02:33, 15.36s/trial, best loss: 0.025466064302671"
     ]
    },
    {
     "name": "stderr",
     "output_type": "stream",
     "text": [
      "Seasonality has period of 365.25 days which is larger than initial window. Consider increasing initial.\n",
      "\n"
     ]
    },
    {
     "data": {
      "application/vnd.jupyter.widget-view+json": {
       "model_id": "3b12225b9cad40bc8bf806fac55624b6",
       "version_major": 2,
       "version_minor": 0
      },
      "text/plain": [
       "  0%|          | 0/42 [00:00<?, ?it/s]"
      ]
     },
     "metadata": {},
     "output_type": "display_data"
    },
    {
     "name": "stdout",
     "output_type": "stream",
     "text": [
      " 91%|▉| 91/100 [24:32<02:30, 16.72s/trial, best loss: 0.025466064302671"
     ]
    },
    {
     "name": "stderr",
     "output_type": "stream",
     "text": [
      "Seasonality has period of 365.25 days which is larger than initial window. Consider increasing initial.\n",
      "\n"
     ]
    },
    {
     "data": {
      "application/vnd.jupyter.widget-view+json": {
       "model_id": "aebd4dca18ee4af8b357a6cb8e3ae014",
       "version_major": 2,
       "version_minor": 0
      },
      "text/plain": [
       "  0%|          | 0/42 [00:00<?, ?it/s]"
      ]
     },
     "metadata": {},
     "output_type": "display_data"
    },
    {
     "name": "stderr",
     "output_type": "stream",
     "text": [
      "17:17:52 - cmdstanpy - ERROR - Chain [1] error: error during processing Operation not permitted\n",
      "Optimization terminated abnormally. Falling back to Newton.\n",
      "\n"
     ]
    },
    {
     "name": "stdout",
     "output_type": "stream",
     "text": [
      " 92%|▉| 92/100 [24:53<02:23, 17.98s/trial, best loss: 0.025466064302671"
     ]
    },
    {
     "name": "stderr",
     "output_type": "stream",
     "text": [
      "Seasonality has period of 365.25 days which is larger than initial window. Consider increasing initial.\n",
      "\n"
     ]
    },
    {
     "data": {
      "application/vnd.jupyter.widget-view+json": {
       "model_id": "7fe73b4a706e447bbb8f2742fac67915",
       "version_major": 2,
       "version_minor": 0
      },
      "text/plain": [
       "  0%|          | 0/42 [00:00<?, ?it/s]"
      ]
     },
     "metadata": {},
     "output_type": "display_data"
    },
    {
     "name": "stdout",
     "output_type": "stream",
     "text": [
      " 93%|▉| 93/100 [25:07<01:57, 16.81s/trial, best loss: 0.025466064302671"
     ]
    },
    {
     "data": {
      "application/vnd.jupyter.widget-view+json": {
       "model_id": "6da4f9be09f94758a7c395b2bc78c7b7",
       "version_major": 2,
       "version_minor": 0
      },
      "text/plain": [
       "  0%|          | 0/42 [00:00<?, ?it/s]"
      ]
     },
     "metadata": {},
     "output_type": "display_data"
    },
    {
     "name": "stderr",
     "output_type": "stream",
     "text": [
      "17:18:20 - cmdstanpy - ERROR - Chain [1] error: error during processing Operation not permitted\n",
      "Optimization terminated abnormally. Falling back to Newton.\n",
      "\n",
      "17:18:20 - cmdstanpy - ERROR - Chain [1] error: error during processing Operation not permitted\n",
      "Optimization terminated abnormally. Falling back to Newton.\n",
      "\n",
      "17:18:24 - cmdstanpy - ERROR - Chain [1] error: error during processing Operation not permitted\n",
      "Optimization terminated abnormally. Falling back to Newton.\n",
      "\n"
     ]
    },
    {
     "name": "stdout",
     "output_type": "stream",
     "text": [
      " 94%|▉| 94/100 [25:19<01:32, 15.34s/trial, best loss: 0.025466064302671"
     ]
    },
    {
     "name": "stderr",
     "output_type": "stream",
     "text": [
      "Seasonality has period of 365.25 days which is larger than initial window. Consider increasing initial.\n",
      "\n"
     ]
    },
    {
     "data": {
      "application/vnd.jupyter.widget-view+json": {
       "model_id": "9b1a55e7030943b49ce2b0aaddea69ae",
       "version_major": 2,
       "version_minor": 0
      },
      "text/plain": [
       "  0%|          | 0/42 [00:00<?, ?it/s]"
      ]
     },
     "metadata": {},
     "output_type": "display_data"
    },
    {
     "name": "stderr",
     "output_type": "stream",
     "text": [
      "17:18:28 - cmdstanpy - ERROR - Chain [1] error: error during processing Operation not permitted\n",
      "Optimization terminated abnormally. Falling back to Newton.\n",
      "\n"
     ]
    },
    {
     "name": "stdout",
     "output_type": "stream",
     "text": [
      " 95%|▉| 95/100 [25:40<01:25, 17.18s/trial, best loss: 0.025466064302671"
     ]
    },
    {
     "name": "stderr",
     "output_type": "stream",
     "text": [
      "Seasonality has period of 365.25 days which is larger than initial window. Consider increasing initial.\n",
      "\n"
     ]
    },
    {
     "data": {
      "application/vnd.jupyter.widget-view+json": {
       "model_id": "b542dd30c48b4af5aa25bce3ddd56520",
       "version_major": 2,
       "version_minor": 0
      },
      "text/plain": [
       "  0%|          | 0/42 [00:00<?, ?it/s]"
      ]
     },
     "metadata": {},
     "output_type": "display_data"
    },
    {
     "name": "stderr",
     "output_type": "stream",
     "text": [
      "17:18:50 - cmdstanpy - ERROR - Chain [1] error: error during processing Operation not permitted\n",
      "Optimization terminated abnormally. Falling back to Newton.\n",
      "\n"
     ]
    },
    {
     "name": "stdout",
     "output_type": "stream",
     "text": [
      " 96%|▉| 96/100 [25:59<01:10, 17.57s/trial, best loss: 0.025466064302671"
     ]
    },
    {
     "name": "stderr",
     "output_type": "stream",
     "text": [
      "Seasonality has period of 365.25 days which is larger than initial window. Consider increasing initial.\n",
      "\n"
     ]
    },
    {
     "data": {
      "application/vnd.jupyter.widget-view+json": {
       "model_id": "a6f25b13da9b4009a8759f565b5a7261",
       "version_major": 2,
       "version_minor": 0
      },
      "text/plain": [
       "  0%|          | 0/42 [00:00<?, ?it/s]"
      ]
     },
     "metadata": {},
     "output_type": "display_data"
    },
    {
     "name": "stdout",
     "output_type": "stream",
     "text": [
      " 97%|▉| 97/100 [26:23<00:58, 19.47s/trial, best loss: 0.025466064302671"
     ]
    },
    {
     "data": {
      "application/vnd.jupyter.widget-view+json": {
       "model_id": "3047a381b0f34c33b73ec62548df2d6a",
       "version_major": 2,
       "version_minor": 0
      },
      "text/plain": [
       "  0%|          | 0/42 [00:00<?, ?it/s]"
      ]
     },
     "metadata": {},
     "output_type": "display_data"
    },
    {
     "name": "stdout",
     "output_type": "stream",
     "text": [
      " 98%|▉| 98/100 [26:33<00:33, 16.84s/trial, best loss: 0.025466064302671"
     ]
    },
    {
     "name": "stderr",
     "output_type": "stream",
     "text": [
      "Seasonality has period of 365.25 days which is larger than initial window. Consider increasing initial.\n",
      "\n"
     ]
    },
    {
     "data": {
      "application/vnd.jupyter.widget-view+json": {
       "model_id": "ab3730f7cbe1448fb838eb512ea0247a",
       "version_major": 2,
       "version_minor": 0
      },
      "text/plain": [
       "  0%|          | 0/42 [00:00<?, ?it/s]"
      ]
     },
     "metadata": {},
     "output_type": "display_data"
    },
    {
     "name": "stdout",
     "output_type": "stream",
     "text": [
      " 99%|▉| 99/100 [26:48<00:16, 16.28s/trial, best loss: 0.025466064302671"
     ]
    },
    {
     "name": "stderr",
     "output_type": "stream",
     "text": [
      "Seasonality has period of 365.25 days which is larger than initial window. Consider increasing initial.\n",
      "\n"
     ]
    },
    {
     "data": {
      "application/vnd.jupyter.widget-view+json": {
       "model_id": "f504d46402644adc83921e8f0e87372b",
       "version_major": 2,
       "version_minor": 0
      },
      "text/plain": [
       "  0%|          | 0/42 [00:00<?, ?it/s]"
      ]
     },
     "metadata": {},
     "output_type": "display_data"
    },
    {
     "name": "stdout",
     "output_type": "stream",
     "text": [
      "100%|█| 100/100 [27:02<00:00, 16.22s/trial, best loss: 0.02546606430267\n",
      "Best params: {'changepoint_prior_scale': 0.150482851014069, 'changepoint_range': 0.8373977768507697, 'daily_seasonality': 0, 'holidays_prior_scale': 4.866178342482897, 'n_changepoints': 24.0, 'seasonality_mode': 1, 'seasonality_prior_scale': 1.4148402876972481, 'weekly_seasonality': 1, 'yearly_seasonality': 0}\n"
     ]
    }
   ],
   "source": [
    "from prophet import Prophet\n",
    "from prophet.diagnostics import cross_validation, performance_metrics\n",
    "from hyperopt import hp, fmin, tpe, Trials, STATUS_OK\n",
    "import numpy as np\n",
    "\n",
    "\n",
    "\n",
    "\n",
    "param_space = {\n",
    "    'changepoint_prior_scale': hp.loguniform('changepoint_prior_scale', np.log(0.001), np.log(0.5)),  # changepoint_prior_scale 범위를 수정\n",
    "    'seasonality_prior_scale': hp.loguniform('seasonality_prior_scale', np.log(0.01), np.log(10)),   # seasonality_prior_scale 범위를 수정\n",
    "    'holidays_prior_scale': hp.loguniform('holidays_prior_scale', np.log(0.01), np.log(10)),         # holidays_prior_scale 범위를 수정\n",
    "    'seasonality_mode': hp.choice('seasonality_mode', ['additive', 'multiplicative']),\n",
    "    'changepoint_range': hp.uniform('changepoint_range', 0.7, 0.95),\n",
    "    'yearly_seasonality': hp.choice('yearly_seasonality', [True, False]),\n",
    "    'weekly_seasonality': hp.choice('weekly_seasonality', [True, False]),\n",
    "    'daily_seasonality': hp.choice('daily_seasonality', [True, False]),\n",
    "    'n_changepoints': hp.quniform('n_changepoints', 10, 25, 1)\n",
    "}\n",
    "\n",
    "# 최적화할 목적 함수 정의\n",
    "def objective(params):\n",
    "    m = Prophet(\n",
    "        changepoint_prior_scale=params['changepoint_prior_scale'],\n",
    "        seasonality_prior_scale=params['seasonality_prior_scale'],\n",
    "        holidays_prior_scale=params['holidays_prior_scale'],\n",
    "        seasonality_mode=params['seasonality_mode'],\n",
    "        changepoint_range=params['changepoint_range'],\n",
    "        yearly_seasonality=params['yearly_seasonality'],\n",
    "        weekly_seasonality=params['weekly_seasonality'],\n",
    "        daily_seasonality=params['daily_seasonality'],\n",
    "        growth='linear',\n",
    "        n_changepoints=int(params['n_changepoints'])\n",
    "    )\n",
    "    m.add_country_holidays(country_name='US')\n",
    "    m.fit(finance_df)\n",
    "    \n",
    "    # 크로스 밸리데이션을 통해 성능 평가\n",
    "    df_cv = cross_validation(m, initial='250 days', period='20 days', horizon='1 days')\n",
    "    df_p = performance_metrics(df_cv)\n",
    "    # MAPE를 최소화\n",
    "    mape = df_p['mape'].mean()\n",
    "    \n",
    "    \n",
    "    # hyperopt는 최소화 문제를 해결하므로, MAPE를 반환\n",
    "    return {'loss': mape, 'status': STATUS_OK}\n",
    "\n",
    "# 최적화 실행\n",
    "trials = Trials()\n",
    "best_params = fmin(fn=objective, space=param_space, algo=tpe.suggest, max_evals=100, trials=trials)\n",
    "\n",
    "print(\"Best params:\", best_params)\n"
   ]
  },
  {
   "cell_type": "code",
   "execution_count": 366,
   "metadata": {},
   "outputs": [],
   "source": [
    "# import logging\n",
    "# from prophet import Prophet\n",
    "# from prophet.diagnostics import cross_validation, performance_metrics\n",
    "# import numpy as np\n",
    "\n",
    "# # cmdstanpy 로그 수준 설정\n",
    "# logging.getLogger('cmdstanpy').setLevel(logging.WARNING)\n",
    "\n",
    "# # Prophet 모델 생성 및 하이퍼파라미터 설정\n",
    "# # 'seasonality_mode' 값을 숫자에서 문자열로 매핑\n",
    "# seasonality_modes = ['additive', 'multiplicative']\n",
    "# seasonality_mode = seasonality_modes[best_params['seasonality_mode']]\n",
    "\n",
    "# yearly_seasonalitys = [True,False]\n",
    "# yearly_seasonality = yearly_seasonalitys[best_params['yearly_seasonality']]\n",
    "# weekly_seasonalitys = [True,False]\n",
    "# weekly_seasonality = weekly_seasonalitys[best_params['weekly_seasonality']]\n",
    "# daily_seasonalitys = [True,False]\n",
    "# daily_seasonality = daily_seasonalitys[best_params['daily_seasonality']]\n",
    "\n",
    "# # Prophet 모델 생성 및 하이퍼파라미터 설정\n",
    "# model = Prophet(\n",
    "#     changepoint_prior_scale = best_params['changepoint_prior_scale'],\n",
    "#     seasonality_prior_scale = best_params['seasonality_prior_scale'],\n",
    "#     holidays_prior_scale = best_params['holidays_prior_scale'],\n",
    "#     seasonality_mode = seasonality_mode,\n",
    "#     changepoint_range = best_params['changepoint_range'],\n",
    "#     yearly_seasonality = yearly_seasonality,\n",
    "#     weekly_seasonality = weekly_seasonality,\n",
    "#     daily_seasonality = daily_seasonality,\n",
    "#     growth='linear',\n",
    "#     n_changepoints = int(best_params['n_changepoints'])\n",
    "# )\n",
    "# model.add_country_holidays(country_name='US')\n",
    "# model.add_regressor('predict')\n",
    "# # 데이터 학습 시작 -> 기계학습\n",
    "\n",
    "# model.fit( finance_df )\n",
    "# # print(model.params['beta'])\n",
    "# # 주가 예측 위한 날짜 데이터 세팅 -> 기존 데이터 + 향후 10일치 예측값\n",
    "\n",
    "# future = model.make_future_dataframe( periods = 1)\n",
    "# future['predict'] = result_filtered_future['predict'].values\n",
    "# # 주가 예측\n",
    "# forecast = model.predict(future)\n",
    "\n",
    "# # forecast.columns ->\n",
    "# '''\n",
    "#   Index(['ds', 'trend', 'yhat_lower', 'yhat_upper', 'trend_lower', 'trend_upper',\n",
    "#        'additive_terms', 'additive_terms_lower', 'additive_terms_upper',\n",
    "#        'daily', 'daily_lower', 'daily_upper', 'weekly', 'weekly_lower',\n",
    "#        'weekly_upper', 'yearly', 'yearly_lower', 'yearly_upper',\n",
    "#        'multiplicative_terms', 'multiplicative_terms_lower',\n",
    "#        'multiplicative_terms_upper', 'yhat'],\n",
    "#       dtype='object')\n",
    "# ''' \n",
    "\n",
    "# # 모델 예측 결과 출력\n",
    "# print(forecast[['ds', 'yhat', 'yhat_lower', 'yhat_upper']].tail(11))\n",
    "\n",
    "# # 모델 예측 그래프 출력\n",
    "# fig = model.plot(forecast)\n",
    "\n",
    "# plt.show(fig)\n"
   ]
  },
  {
   "cell_type": "code",
   "execution_count": 410,
   "metadata": {},
   "outputs": [],
   "source": []
  },
  {
   "cell_type": "code",
   "execution_count": 186,
   "metadata": {},
   "outputs": [],
   "source": [
    "import logging\n",
    "from prophet import Prophet\n",
    "from prophet.diagnostics import cross_validation, performance_metrics\n",
    "import numpy as np\n",
    "import pickle\n",
    "# cmdstanpy 로그 수준 설정\n",
    "logging.getLogger('cmdstanpy').setLevel(logging.WARNING)\n",
    "\n",
    "# Prophet 모델 생성 및 하이퍼파라미터 설정\n",
    "# 'seasonality_mode' 값을 숫자에서 문자열로 매핑\n",
    "seasonality_modes = ['additive', 'multiplicative']\n",
    "seasonality_mode = seasonality_modes[best_params['seasonality_mode']]\n",
    "\n",
    "yearly_seasonalitys = [True,False]\n",
    "yearly_seasonality = yearly_seasonalitys[best_params['yearly_seasonality']]\n",
    "weekly_seasonalitys = [True,False]\n",
    "weekly_seasonality = weekly_seasonalitys[best_params['weekly_seasonality']]\n",
    "daily_seasonalitys = [True,False]\n",
    "daily_seasonality = daily_seasonalitys[best_params['daily_seasonality']]\n",
    "\n",
    "# Prophet 모델 생성 및 하이퍼파라미터 설정\n",
    "model_parameter = {\n",
    "    'changepoint_prior_scale' : best_params['changepoint_prior_scale'],\n",
    "    'seasonality_prior_scale' : best_params['seasonality_prior_scale'],\n",
    "    'holidays_prior_scale' : best_params['holidays_prior_scale'],\n",
    "    'seasonality_mode' : seasonality_mode,\n",
    "    'changepoint_range' : best_params['changepoint_range'],\n",
    "    'yearly_seasonality' : yearly_seasonality,\n",
    "    'weekly_seasonality' : weekly_seasonality,\n",
    "    'daily_seasonality' : daily_seasonality,\n",
    "    'growth':'linear',\n",
    "    'n_changepoints' : int(best_params['n_changepoints'])\n",
    "}\n",
    "\n",
    "with open('prophet_model_parameters_MSFT.pkl', 'wb') as f:\n",
    "    pickle.dump(model_parameter, f)"
   ]
  },
  {
   "cell_type": "code",
   "execution_count": 70,
   "metadata": {},
   "outputs": [],
   "source": [
    "# loaded_model_parameters = load_prophet_model_parameters('prophet_model_parameters_AAPL.pkl')\n",
    "\n",
    "# # Prophet 모델 생성 및 파라미터 설정\n",
    "# loaded_model = Prophet(\n",
    "#     changepoint_prior_scale=loaded_model_parameters['changepoint_prior_scale'],\n",
    "#     seasonality_prior_scale=loaded_model_parameters['seasonality_prior_scale'],\n",
    "#     holidays_prior_scale=loaded_model_parameters['holidays_prior_scale'],\n",
    "#     seasonality_mode=loaded_model_parameters['seasonality_mode'],\n",
    "#     changepoint_range=loaded_model_parameters['changepoint_range'],\n",
    "#     yearly_seasonality=loaded_model_parameters['yearly_seasonality'],\n",
    "#     weekly_seasonality=loaded_model_parameters['weekly_seasonality'],\n",
    "#     daily_seasonality=loaded_model_parameters['daily_seasonality'],\n",
    "#     growth=loaded_model_parameters['growth'],\n",
    "#     n_changepoints=loaded_model_parameters['n_changepoints']\n",
    "# )\n",
    "# with open('prophet_model_parameters_ASML.pkl', 'wb') as f:\n",
    "#     pickle.dump(model_parameter, f)"
   ]
  },
  {
   "cell_type": "code",
   "execution_count": 187,
   "metadata": {},
   "outputs": [
    {
     "name": "stdout",
     "output_type": "stream",
     "text": [
      "            ds        yhat  yhat_lower  yhat_upper\n",
      "772 2024-04-29  406.243240  397.227635  414.757759\n",
      "773 2024-04-30  406.107834  397.021872  414.918684\n",
      "774 2024-05-01  405.214512  396.656647  413.447414\n",
      "775 2024-05-02  405.368163  395.877259  414.270953\n",
      "776 2024-05-03  405.245242  397.103274  414.155727\n",
      "777 2024-05-06  404.794592  396.762089  412.974665\n",
      "778 2024-05-07  404.355683  395.973910  412.862304\n",
      "779 2024-05-08  403.988137  395.827274  412.136176\n",
      "780 2024-05-09  404.974332  397.002149  413.551020\n",
      "781 2024-05-10  403.774595  394.723323  412.005728\n",
      "782 2024-05-11  403.785094  394.880341  411.779590\n"
     ]
    },
    {
     "data": {
      "image/png": "[encoded data removed]",
      "text/plain": [
       "<Figure size 1000x600 with 1 Axes>"
      ]
     },
     "metadata": {},
     "output_type": "display_data"
    }
   ],
   "source": [
    "# 저장된 모델 파라미터를 파일로 저장\n",
    "\n",
    "\n",
    "# 저장된 모델 파라미터를 불러오는 함수\n",
    "def load_prophet_model_parameters(file_path):\n",
    "    with open(file_path, 'rb') as f:\n",
    "        model_params = pickle.load(f)\n",
    "    return model_params\n",
    "    \n",
    "loaded_model_parameters = load_prophet_model_parameters('prophet_model_parameters_MSFT.pkl')\n",
    "\n",
    "# Prophet 모델 생성 및 파라미터 설정\n",
    "loaded_model = Prophet(\n",
    "    changepoint_prior_scale=loaded_model_parameters['changepoint_prior_scale'],\n",
    "    seasonality_prior_scale=loaded_model_parameters['seasonality_prior_scale'],\n",
    "    holidays_prior_scale=loaded_model_parameters['holidays_prior_scale'],\n",
    "    seasonality_mode=loaded_model_parameters['seasonality_mode'],\n",
    "    changepoint_range=loaded_model_parameters['changepoint_range'],\n",
    "    yearly_seasonality=loaded_model_parameters['yearly_seasonality'],\n",
    "    weekly_seasonality=loaded_model_parameters['weekly_seasonality'],\n",
    "    daily_seasonality=loaded_model_parameters['daily_seasonality'],\n",
    "    growth=loaded_model_parameters['growth'],\n",
    "    n_changepoints=loaded_model_parameters['n_changepoints']\n",
    ")\n",
    "loaded_model.add_country_holidays(country_name='US')\n",
    "\n",
    "loaded_model.add_regressor('predict')\n",
    "\n",
    "# 데이터 학습\n",
    "loaded_model.fit(finance_df)\n",
    "future = loaded_model.make_future_dataframe( periods = 1)\n",
    "future['predict'] = result_filtered_future['predict'].values\n",
    "# 주가 예측\n",
    "forecast = loaded_model.predict(future)\n",
    "\n",
    "# forecast.columns ->\n",
    "'''\n",
    "  Index(['ds', 'trend', 'yhat_lower', 'yhat_upper', 'trend_lower', 'trend_upper',\n",
    "       'additive_terms', 'additive_terms_lower', 'additive_terms_upper',\n",
    "       'daily', 'daily_lower', 'daily_upper', 'weekly', 'weekly_lower',\n",
    "       'weekly_upper', 'yearly', 'yearly_lower', 'yearly_upper',\n",
    "       'multiplicative_terms', 'multiplicative_terms_lower',\n",
    "       'multiplicative_terms_upper', 'yhat'],\n",
    "      dtype='object')\n",
    "''' \n",
    "\n",
    "# 모델 예측 결과 출력\n",
    "print(forecast[['ds', 'yhat', 'yhat_lower', 'yhat_upper']].tail(11))\n",
    "\n",
    "# 모델 예측 그래프 출력\n",
    "fig = loaded_model.plot(forecast)\n",
    "\n",
    "plt.show(fig)\n"
   ]
  },
  {
   "cell_type": "code",
   "execution_count": 104,
   "metadata": {},
   "outputs": [
    {
     "data": {
      "text/html": [
       "<div>\n",
       "<style scoped>\n",
       "    .dataframe tbody tr th:only-of-type {\n",
       "        vertical-align: middle;\n",
       "    }\n",
       "\n",
       "    .dataframe tbody tr th {\n",
       "        vertical-align: top;\n",
       "    }\n",
       "\n",
       "    .dataframe thead th {\n",
       "        text-align: right;\n",
       "    }\n",
       "</style>\n",
       "<table border=\"1\" class=\"dataframe\">\n",
       "  <thead>\n",
       "    <tr style=\"text-align: right;\">\n",
       "      <th></th>\n",
       "      <th>ds</th>\n",
       "      <th>y</th>\n",
       "      <th>predict</th>\n",
       "    </tr>\n",
       "  </thead>\n",
       "  <tbody>\n",
       "    <tr>\n",
       "      <th>0</th>\n",
       "      <td>2021-04-05</td>\n",
       "      <td>360.820007</td>\n",
       "      <td>1.100</td>\n",
       "    </tr>\n",
       "    <tr>\n",
       "      <th>1</th>\n",
       "      <td>2021-04-06</td>\n",
       "      <td>360.119995</td>\n",
       "      <td>0.591</td>\n",
       "    </tr>\n",
       "    <tr>\n",
       "      <th>2</th>\n",
       "      <td>2021-04-07</td>\n",
       "      <td>358.809998</td>\n",
       "      <td>0.972</td>\n",
       "    </tr>\n",
       "    <tr>\n",
       "      <th>3</th>\n",
       "      <td>2021-04-08</td>\n",
       "      <td>361.220001</td>\n",
       "      <td>1.000</td>\n",
       "    </tr>\n",
       "    <tr>\n",
       "      <th>4</th>\n",
       "      <td>2021-04-09</td>\n",
       "      <td>363.209991</td>\n",
       "      <td>1.000</td>\n",
       "    </tr>\n",
       "    <tr>\n",
       "      <th>...</th>\n",
       "      <td>...</td>\n",
       "      <td>...</td>\n",
       "      <td>...</td>\n",
       "    </tr>\n",
       "    <tr>\n",
       "      <th>777</th>\n",
       "      <td>2024-05-06</td>\n",
       "      <td>756.450012</td>\n",
       "      <td>1.125</td>\n",
       "    </tr>\n",
       "    <tr>\n",
       "      <th>778</th>\n",
       "      <td>2024-05-07</td>\n",
       "      <td>771.309998</td>\n",
       "      <td>1.102</td>\n",
       "    </tr>\n",
       "    <tr>\n",
       "      <th>779</th>\n",
       "      <td>2024-05-08</td>\n",
       "      <td>763.409973</td>\n",
       "      <td>1.071</td>\n",
       "    </tr>\n",
       "    <tr>\n",
       "      <th>780</th>\n",
       "      <td>2024-05-09</td>\n",
       "      <td>779.039978</td>\n",
       "      <td>1.083</td>\n",
       "    </tr>\n",
       "    <tr>\n",
       "      <th>781</th>\n",
       "      <td>2024-05-10</td>\n",
       "      <td>787.190002</td>\n",
       "      <td>0.960</td>\n",
       "    </tr>\n",
       "  </tbody>\n",
       "</table>\n",
       "<p>782 rows × 3 columns</p>\n",
       "</div>"
      ],
      "text/plain": [
       "            ds           y  predict\n",
       "0   2021-04-05  360.820007    1.100\n",
       "1   2021-04-06  360.119995    0.591\n",
       "2   2021-04-07  358.809998    0.972\n",
       "3   2021-04-08  361.220001    1.000\n",
       "4   2021-04-09  363.209991    1.000\n",
       "..         ...         ...      ...\n",
       "777 2024-05-06  756.450012    1.125\n",
       "778 2024-05-07  771.309998    1.102\n",
       "779 2024-05-08  763.409973    1.071\n",
       "780 2024-05-09  779.039978    1.083\n",
       "781 2024-05-10  787.190002    0.960\n",
       "\n",
       "[782 rows x 3 columns]"
      ]
     },
     "execution_count": 104,
     "metadata": {},
     "output_type": "execute_result"
    }
   ],
   "source": [
    "finance_df"
   ]
  },
  {
   "cell_type": "code",
   "execution_count": 68,
   "metadata": {},
   "outputs": [],
   "source": [
    "# import pickle\n",
    "\n",
    "# # 모델 객체를 파일로 저장\n",
    "# with open(\"prophet_model_AVGO.pkl\", \"wb\") as f:\n",
    "#     pickle.dump(model, f)\n"
   ]
  },
  {
   "cell_type": "code",
   "execution_count": 98,
   "metadata": {},
   "outputs": [],
   "source": [
    "\n",
    "# with open(\"prophet_model_AVGO.pkl\", \"rb\") as f:\n",
    "#     model = pickle.load(f)\n",
    "\n",
    "# # 크로스 밸리데이션 설정\n",
    "# df_cv = cross_validation(model, initial='250 days', period='20 days', horizon='1 days')\n",
    "\n",
    "# # 크로스 밸리데이션 결과의 성능 지표 계산\n",
    "# df_p = performance_metrics(df_cv)\n",
    "# print(df_p[['rmse', 'mae','mape']])\n"
   ]
  },
  {
   "cell_type": "code",
   "execution_count": 99,
   "metadata": {
    "scrolled": true
   },
   "outputs": [],
   "source": [
    "# import pickle\n",
    "# import logging\n",
    "# import matplotlib.pyplot as plt\n",
    "# from prophet import Prophet\n",
    "\n",
    "# # cmdstanpy 로그 수준 설정\n",
    "# logging.getLogger('cmdstanpy').setLevel(logging.WARNING)\n",
    "\n",
    "# # 저장된 모델 파일을 로드\n",
    "# with open(\"prophet_model_AVGO.pkl\", \"rb\") as f:\n",
    "#     model = pickle.load(f)\n",
    "\n",
    "# # 주가 예측 위한 날짜 데이터 세팅 -> 기존 데이터 + 향후 10일치 예측값\n",
    "# future = model.make_future_dataframe(periods=1)\n",
    "# future['predict'] = result_filtered_future['predict'].values[len(result_filtered_future['predict'].values)-756:]\n",
    "\n",
    "# # 주가 예측\n",
    "# forecast = model.predict(future)\n",
    "\n",
    "# # 모델 예측 결과 출력\n",
    "# print(forecast[['ds', 'yhat', 'yhat_lower', 'yhat_upper']].tail(11))\n",
    "\n",
    "# # 모델 예측 그래프 출력\n",
    "# fig = model.plot(forecast)\n",
    "# plt.show(fig)\n",
    "\n",
    "# print(finance_df.tail(11))\n",
    "# print(future['predict'].tail(11))\n"
   ]
  },
  {
   "cell_type": "code",
   "execution_count": null,
   "metadata": {},
   "outputs": [],
   "source": [
    "# from prophet.diagnostics import cross_validation, performance_metrics\n",
    "# import matplotlib.pyplot as plt\n",
    "# model = Prophet( changepoint_prior_scale= 0.4469497270584068, \n",
    "# changepoint_range= 0.8117567477475541, \n",
    "# daily_seasonality= True,\n",
    "# seasonality_mode='multiplicative',\n",
    "# growth= 'linear', \n",
    "# holidays_prior_scale= 0.05160382047585584, \n",
    "# n_changepoints= 22, \n",
    "# seasonality_prior_scale= 0.3523031728392127, \n",
    "# weekly_seasonality= False, \n",
    "# yearly_seasonality= True\n",
    "#                ) \n",
    "\n",
    "# model.add_country_holidays(country_name='US')\n",
    "# model.add_regressor('predict')\n",
    "# # 데이터와 Prophet 모델 설정 부분은 생략하고, 모델 학습 부분부터 시작\n",
    "# model.fit(finance_df)\n",
    "\n",
    "# # 크로스 밸리데이션 설정\n",
    "# df_cv = cross_validation(model, initial='20 days', period='2 days', horizon='1 days')\n",
    "\n",
    "# # 크로스 밸리데이션 결과의 성능 지표 계산\n",
    "# df_p = performance_metrics(df_cv)\n",
    "# print(df_p[['rmse', 'mae','mape']])\n"
   ]
  },
  {
   "cell_type": "code",
   "execution_count": 162,
   "metadata": {},
   "outputs": [
    {
     "name": "stdout",
     "output_type": "stream",
     "text": [
      "2024-04-05 00:00:00 - 매수: $153.940 (예측 다음날 가격: $156.207)\n",
      "2024-04-08 00:00:00 - 보유: $156.140\n",
      "2024-04-09 00:00:00 - 매도: $158.140 (예측 다음날 가격: $156.772)\n",
      "2024-04-10 00:00:00 - 조치 없음: 현재 가격 $157.660, 예측 다음날 가격 $157.175\n",
      "2024-04-11 00:00:00 - 조치 없음: 현재 가격 $160.790, 예측 다음날 가격 $157.442\n",
      "2024-04-12 00:00:00 - 조치 없음: 현재 가격 $159.190, 예측 다음날 가격 $158.362\n",
      "2024-04-15 00:00:00 - 매수: $156.330 (예측 다음날 가격: $158.548)\n",
      "2024-04-16 00:00:00 - 보유: 현재 가격 $156.000, 예측 다음날 가격 $158.779\n",
      "2024-04-17 00:00:00 - 보유: 현재 가격 $156.880, 예측 다음날 가격 $159.415\n",
      "2024-04-18 00:00:00 - 보유: 현재 가격 $157.460, 예측 다음날 가격 $159.846\n",
      "2024-04-19 00:00:00 - 보유: 현재 가격 $155.720, 예측 다음날 가격 $160.814\n",
      "2024-04-22 00:00:00 - 보유: 현재 가격 $157.950, 예측 다음날 가격 $161.319\n",
      "2024-04-23 00:00:00 - 보유: 현재 가격 $159.920, 예측 다음날 가격 $161.656\n",
      "2024-04-24 00:00:00 - 보유: $161.100\n",
      "2024-04-25 00:00:00 - 보유: 현재 가격 $157.950, 예측 다음날 가격 $162.909\n",
      "2024-04-26 00:00:00 - 매도: $173.690 (예측 다음날 가격: $164.390)\n",
      "2024-04-29 00:00:00 - 조치 없음: 현재 가격 $167.900, 예측 다음날 가격 $164.894\n",
      "2024-04-30 00:00:00 - 매수: $164.640 (예측 다음날 가격: $165.403)\n",
      "2024-05-01 00:00:00 - 보유: $165.570\n",
      "2024-05-02 00:00:00 - 매도: $168.460 (예측 다음날 가격: $166.716)\n",
      "2024-05-03 00:00:00 - 조치 없음: 현재 가격 $168.990, 예측 다음날 가격 $168.667\n",
      "2024-05-06 00:00:00 - 조치 없음: 현재 가격 $169.830, 예측 다음날 가격 $169.227\n",
      "2024-05-07 00:00:00 - 조치 없음: 현재 가격 $172.980, 예측 다음날 가격 $170.136\n",
      "2024-05-08 00:00:00 - 조치 없음: 현재 가격 $171.160, 예측 다음날 가격 $170.891\n",
      "2024-05-09 00:00:00 - 매수: $171.580 (예측 다음날 가격: $171.631)\n",
      "2024-05-10 00:00:00 - 보유: 현재 가격 $170.290, 예측 다음날 가격 $172.302\n",
      "초기 자본: $100000000.000\n",
      "최종 자본: $115906195.303\n",
      "수익: $15906195.303\n",
      "수익률: 15.906%\n"
     ]
    }
   ],
   "source": [
    "import pandas as pd\n",
    "\n",
    "# 초기 자본 설정\n",
    "initial_capital = 100000000.0\n",
    "\n",
    "\n",
    "# def trading():\n",
    "# 사용자로부터 시작일과 종료일 입력 받기\n",
    "start_date = '2024-04-05'\n",
    "end_date_1 = '2024-05-10'\n",
    "end_date_2 = '2024-05-11'\n",
    "\n",
    "# 입력된 날짜 범위로 데이터 필터링\n",
    "filtered_df = finance_df[(finance_df['ds'] >= start_date) & (finance_df['ds'] <= end_date_1)]\n",
    "filtered_df_forcast = forecast[(forecast['ds'] >= start_date) & (forecast['ds'] <= end_date_2)]\n",
    "# 현재 자본 및 보유 주식 수 초기화\n",
    "current_capital = initial_capital\n",
    "shares_owned = 0\n",
    "\n",
    "# 현재 포지션 초기화\n",
    "position = 'None'\n",
    "\n",
    "# 실제 및 예측 주식 가격 설정\n",
    "actual_prices = filtered_df.set_index('ds')['y']\n",
    "predicted_prices = filtered_df_forcast.set_index('ds')['yhat']\n",
    "\n",
    "# 시뮬레이션 시작\n",
    "for date, today_price, predicted_next_day_price in zip(actual_prices.index, actual_prices.values, predicted_prices.shift(-1).values):\n",
    "    predicted_change = predicted_next_day_price - today_price\n",
    "\n",
    "    # 매수 조건\n",
    "    if predicted_change > 0 and position != 'Hold':\n",
    "        shares_to_buy = current_capital / today_price\n",
    "        shares_owned += shares_to_buy\n",
    "        current_capital -= shares_to_buy * today_price\n",
    "        position = 'Hold'\n",
    "        print(f\"{date} - 매수: ${today_price:.3f} (예측 다음날 가격: ${predicted_next_day_price:.3f})\")\n",
    "\n",
    "    # 매도 조건\n",
    "    elif predicted_change < 0 and position == 'Hold':\n",
    "        current_capital += shares_owned * today_price\n",
    "        shares_owned = 0\n",
    "        position = 'None'\n",
    "        print(f\"{date} - 매도: ${today_price:.3f} (예측 다음날 가격: ${predicted_next_day_price:.3f})\")\n",
    "\n",
    "    # 보유 조건\n",
    "    elif position == 'Hold' and abs(predicted_change) <= 0.01 * today_price:\n",
    "        print(f\"{date} - 보유: ${today_price:.3f}\")\n",
    "    else:\n",
    "        # 조치 없음 또는 보유\n",
    "        if position == 'Hold':\n",
    "            print(f\"{date} - 보유: 현재 가격 ${today_price:.3f}, 예측 다음날 가격 ${predicted_next_day_price:.3f}\")\n",
    "        else:\n",
    "            print(f\"{date} - 조치 없음: 현재 가격 ${today_price:.3f}, 예측 다음날 가격 ${predicted_next_day_price:.3f}\")\n",
    "\n",
    "# 최종 자본 및 수익률 계산\n",
    "final_capital = current_capital + (shares_owned * actual_prices.iloc[-1])\n",
    "profit = final_capital - initial_capital\n",
    "return_rate = (profit / initial_capital) * 100\n",
    "\n",
    "# 결과 출력\n",
    "print(f\"초기 자본: ${initial_capital:.3f}\")\n",
    "print(f\"최종 자본: ${final_capital:.3f}\")\n",
    "print(f\"수익: ${profit:.3f}\")\n",
    "print(f\"수익률: {return_rate:.3f}%\")\n"
   ]
  },
  {
   "cell_type": "code",
   "execution_count": 73,
   "metadata": {},
   "outputs": [
    {
     "name": "stdout",
     "output_type": "stream",
     "text": [
      "최종 자본: $101897618.31\n",
      "수익률: 1.90%\n"
     ]
    }
   ],
   "source": [
    "def simulate_trading(start_date, end_date_1,end_date_2):\n",
    "    # 입력된 날짜 범위로 데이터 필터링\n",
    "    filtered_df = finance_df[(finance_df['ds'] >= start_date) & (finance_df['ds'] <= end_date_1)]\n",
    "    filtered_df_forecast = forecast[(forecast['ds'] >= start_date) & (forecast['ds'] <= end_date_2)]\n",
    "\n",
    "    # 현재 자본 및 보유 주식 수 초기화\n",
    "    current_capital = initial_capital\n",
    "    shares_owned = 0\n",
    "\n",
    "    # 현재 포지션 초기화\n",
    "    position = 'None'\n",
    "\n",
    "    # 실제 및 예측 주식 가격 설정\n",
    "    actual_prices = filtered_df.set_index('ds')['y']\n",
    "    predicted_prices = filtered_df_forecast.set_index('ds')['yhat']\n",
    "\n",
    "    # 거래 기록 초기화\n",
    "    trading_history = []\n",
    "\n",
    "    # 시뮬레이션 시작\n",
    "    for date, today_price, predicted_next_day_price in zip(actual_prices.index, actual_prices.values, predicted_prices.shift(-1).values):\n",
    "        predicted_change = predicted_next_day_price - today_price\n",
    "\n",
    "        # 매수 조건\n",
    "        if predicted_change > 0 and position != 'Hold':\n",
    "            shares_to_buy = current_capital / today_price\n",
    "            shares_owned += shares_to_buy\n",
    "            current_capital -= shares_to_buy * today_price\n",
    "            position = 'Hold'\n",
    "            trading_history.append((date, '매수', today_price, predicted_next_day_price))\n",
    "\n",
    "        # 매도 조건\n",
    "        elif predicted_change < 0 and position == 'Hold':\n",
    "            current_capital += shares_owned * today_price\n",
    "            shares_owned = 0\n",
    "            position = 'None'\n",
    "            trading_history.append((date, '매도', today_price, predicted_next_day_price))\n",
    "\n",
    "        # 보유 조건\n",
    "        elif position == 'Hold' and abs(predicted_change) <= 0.01 * today_price:\n",
    "            trading_history.append((date, '보유', today_price, predicted_next_day_price))\n",
    "\n",
    "        # 조치 없음 또는 보유\n",
    "        else:\n",
    "            if position == 'Hold':\n",
    "                trading_history.append((date, '보유', today_price, predicted_next_day_price))\n",
    "            else:\n",
    "                trading_history.append((date, '조치 없음', today_price, predicted_next_day_price))\n",
    "\n",
    "    # 최종 자본 및 수익률 계산\n",
    "    final_capital = current_capital + (shares_owned * actual_prices.iloc[-1])\n",
    "    profit = final_capital - initial_capital\n",
    "    return_rate = (profit / initial_capital) * 100\n",
    "\n",
    "    return trading_history, final_capital, return_rate\n",
    "\n",
    "# 주어진 날짜 범위로 거래 시뮬레이션 실행\n",
    "start_date = '2024-04-05'\n",
    "end_date_1 = '2024-05-09'\n",
    "end_date_2 = '2024-05-10'\n",
    "trading_history, final_capital, return_rate = simulate_trading(start_date, end_date_1,end_date_2)\n",
    "\n",
    "# 거래 기록 출력\n",
    "# for record in trading_history:\n",
    "#     print(f\"{record[0]} - {record[1]}: 현재 가격 ${record[2]:.3f}, 예측 다음날 가격 ${record[3]:.3f}\")\n",
    "\n",
    "# 최종 자본 및 수익률 출력\n",
    "print(f\"최종 자본: ${final_capital:.2f}\")\n",
    "print(f\"수익률: {return_rate:.2f}%\")\n",
    "\n"
   ]
  },
  {
   "cell_type": "code",
   "execution_count": 161,
   "metadata": {},
   "outputs": [
    {
     "name": "stdout",
     "output_type": "stream",
     "text": [
      "Hold\n"
     ]
    }
   ],
   "source": [
    "def simulate_trading(start_date, end_date_1, end_date_2):\n",
    "    # 입력된 날짜 범위로 데이터 필터링\n",
    "    filtered_df = finance_df[(finance_df['ds'] >= start_date) & (finance_df['ds'] <= end_date_1)]\n",
    "    filtered_df_forecast = forecast[(forecast['ds'] >= start_date) & (forecast['ds'] <= end_date_2)]\n",
    "\n",
    "    # 현재 자본 및 보유 주식 수 초기화\n",
    "    current_capital = initial_capital\n",
    "    shares_owned = 0\n",
    "\n",
    "    # 현재 포지션 초기화\n",
    "    position = 'None'\n",
    "\n",
    "    # 실제 및 예측 주식 가격 설정\n",
    "    actual_prices = filtered_df.set_index('ds')['y']\n",
    "    predicted_prices = filtered_df_forecast.set_index('ds')['yhat']\n",
    "\n",
    "    # 거래 기록 초기화\n",
    "    trading_history = []\n",
    "\n",
    "    # 시뮬레이션 시작\n",
    "    for date, today_price, predicted_next_day_price in zip(actual_prices.index, actual_prices.values, predicted_prices.shift(-1).values):\n",
    "        predicted_change = predicted_next_day_price - today_price\n",
    "\n",
    "        # 매수 조건\n",
    "        if predicted_change > 0 and position != 'Hold':\n",
    "            shares_to_buy = current_capital / today_price\n",
    "            shares_owned += shares_to_buy\n",
    "            current_capital -= shares_to_buy * today_price\n",
    "            position = 'Hold'\n",
    "            trading_history.append('Buy')\n",
    "\n",
    "        # 매도 조건\n",
    "        elif predicted_change < 0 and position == 'Hold':\n",
    "            current_capital += shares_owned * today_price\n",
    "            shares_owned = 0\n",
    "            position = 'None'\n",
    "            trading_history.append('Cell')\n",
    "\n",
    "        # 보유 조건\n",
    "        elif position == 'Hold' and abs(predicted_change) <= 0.01 * today_price:\n",
    "            trading_history.append('Hold')\n",
    "\n",
    "        # 조치 없음 또는 보유\n",
    "        else:\n",
    "            if position == 'Hold':\n",
    "                trading_history.append('Hold')\n",
    "            else:\n",
    "                trading_history.append('Stay')#조치없음\n",
    "\n",
    "    # 최종 자본 및 수익률 계산\n",
    "\n",
    "    # trading_history의 마지막 인덱스 반환\n",
    "    last_record = trading_history[-1]\n",
    "    return last_record\n",
    "\n",
    "# 함수 호출하여 마지막 인덱스 값만 출력\n",
    "start_date = '2024-04-05'\n",
    "end_date_1 = '2024-05-10'\n",
    "end_date_2 = '2024-05-11'\n",
    "last_trading_record = simulate_trading(start_date, end_date_1, end_date_2)\n",
    "print(last_trading_record)\n",
    "\n",
    "\n"
   ]
  },
  {
   "cell_type": "code",
   "execution_count": null,
   "metadata": {},
   "outputs": [],
   "source": [
    "# end_date_basic = input('날짜를 입력하게요 ex)2024-05-07')\n",
    "# end_date_future = input('날짜를 입력하게요 ex)2024-05-07')\n",
    "# trainding(end_date_basic,end_date_future)"
   ]
  }
 ],
 "metadata": {
  "accelerator": "TPU",
  "colab": {
   "collapsed_sections": [],
   "machine_shape": "hm",
   "name": "BERT finance sentiment analysis_eng.ipynb",
   "provenance": []
  },
  "kernelspec": {
   "display_name": "Python 3 (ipykernel)",
   "language": "python",
   "name": "python3"
  },
  "language_info": {
   "codemirror_mode": {
    "name": "ipython",
    "version": 3
   },
   "file_extension": ".py",
   "mimetype": "text/x-python",
   "name": "python",
   "nbconvert_exporter": "python",
   "pygments_lexer": "ipython3",
   "version": "3.8.18"
  },
  "widgets": {
   "application/vnd.jupyter.widget-state+json": {
    "02580ce159364d1ab6f25a8a2268455c": {
     "model_module": "@jupyter-widgets/base",
     "model_module_version": "1.2.0",
     "model_name": "LayoutModel",
     "state": {
      "_model_module": "@jupyter-widgets/base",
      "_model_module_version": "1.2.0",
      "_model_name": "LayoutModel",
      "_view_count": null,
      "_view_module": "@jupyter-widgets/base",
      "_view_module_version": "1.2.0",
      "_view_name": "LayoutView",
      "align_content": null,
      "align_items": null,
      "align_self": null,
      "border": null,
      "bottom": null,
      "display": null,
      "flex": null,
      "flex_flow": null,
      "grid_area": null,
      "grid_auto_columns": null,
      "grid_auto_flow": null,
      "grid_auto_rows": null,
      "grid_column": null,
      "grid_gap": null,
      "grid_row": null,
      "grid_template_areas": null,
      "grid_template_columns": null,
      "grid_template_rows": null,
      "height": null,
      "justify_content": null,
      "justify_items": null,
      "left": null,
      "margin": null,
      "max_height": null,
      "max_width": null,
      "min_height": null,
      "min_width": null,
      "object_fit": null,
      "object_position": null,
      "order": null,
      "overflow": null,
      "overflow_x": null,
      "overflow_y": null,
      "padding": null,
      "right": null,
      "top": null,
      "visibility": null,
      "width": null
     }
    },
    "170869304fd1408899d1e877a607076a": {
     "model_module": "@jupyter-widgets/base",
     "model_module_version": "1.2.0",
     "model_name": "LayoutModel",
     "state": {
      "_model_module": "@jupyter-widgets/base",
      "_model_module_version": "1.2.0",
      "_model_name": "LayoutModel",
      "_view_count": null,
      "_view_module": "@jupyter-widgets/base",
      "_view_module_version": "1.2.0",
      "_view_name": "LayoutView",
      "align_content": null,
      "align_items": null,
      "align_self": null,
      "border": null,
      "bottom": null,
      "display": null,
      "flex": null,
      "flex_flow": null,
      "grid_area": null,
      "grid_auto_columns": null,
      "grid_auto_flow": null,
      "grid_auto_rows": null,
      "grid_column": null,
      "grid_gap": null,
      "grid_row": null,
      "grid_template_areas": null,
      "grid_template_columns": null,
      "grid_template_rows": null,
      "height": null,
      "justify_content": null,
      "justify_items": null,
      "left": null,
      "margin": null,
      "max_height": null,
      "max_width": null,
      "min_height": null,
      "min_width": null,
      "object_fit": null,
      "object_position": null,
      "order": null,
      "overflow": null,
      "overflow_x": null,
      "overflow_y": null,
      "padding": null,
      "right": null,
      "top": null,
      "visibility": null,
      "width": null
     }
    },
    "1c49d58bca7f4db6badf2e48e8f20935": {
     "model_module": "@jupyter-widgets/controls",
     "model_module_version": "1.5.0",
     "model_name": "HTMLModel",
     "state": {
      "_dom_classes": [],
      "_model_module": "@jupyter-widgets/controls",
      "_model_module_version": "1.5.0",
      "_model_name": "HTMLModel",
      "_view_count": null,
      "_view_module": "@jupyter-widgets/controls",
      "_view_module_version": "1.5.0",
      "_view_name": "HTMLView",
      "description": "",
      "description_tooltip": null,
      "layout": "IPY_MODEL_91075f3fa46c4f4ca38ccad1c19879ac",
      "placeholder": "​",
      "style": "IPY_MODEL_db01da72efa7405384cbf541c0c60471",
      "value": " 455k/455k [00:00&lt;00:00, 1.63MB/s]"
     }
    },
    "1ce07fb6604d4376a175f5f5be3dac55": {
     "model_module": "@jupyter-widgets/controls",
     "model_module_version": "1.5.0",
     "model_name": "HTMLModel",
     "state": {
      "_dom_classes": [],
      "_model_module": "@jupyter-widgets/controls",
      "_model_module_version": "1.5.0",
      "_model_name": "HTMLModel",
      "_view_count": null,
      "_view_module": "@jupyter-widgets/controls",
      "_view_module_version": "1.5.0",
      "_view_name": "HTMLView",
      "description": "",
      "description_tooltip": null,
      "layout": "IPY_MODEL_f634294a18cd4fc9ac80b5bff7657a59",
      "placeholder": "​",
      "style": "IPY_MODEL_4ebf099c37274118b2b041a0f32f89dd",
      "value": " 28.0/28.0 [00:00&lt;00:00, 1.11kB/s]"
     }
    },
    "28db0fcf67754046b25cb276864e7c9f": {
     "model_module": "@jupyter-widgets/base",
     "model_module_version": "1.2.0",
     "model_name": "LayoutModel",
     "state": {
      "_model_module": "@jupyter-widgets/base",
      "_model_module_version": "1.2.0",
      "_model_name": "LayoutModel",
      "_view_count": null,
      "_view_module": "@jupyter-widgets/base",
      "_view_module_version": "1.2.0",
      "_view_name": "LayoutView",
      "align_content": null,
      "align_items": null,
      "align_self": null,
      "border": null,
      "bottom": null,
      "display": null,
      "flex": null,
      "flex_flow": null,
      "grid_area": null,
      "grid_auto_columns": null,
      "grid_auto_flow": null,
      "grid_auto_rows": null,
      "grid_column": null,
      "grid_gap": null,
      "grid_row": null,
      "grid_template_areas": null,
      "grid_template_columns": null,
      "grid_template_rows": null,
      "height": null,
      "justify_content": null,
      "justify_items": null,
      "left": null,
      "margin": null,
      "max_height": null,
      "max_width": null,
      "min_height": null,
      "min_width": null,
      "object_fit": null,
      "object_position": null,
      "order": null,
      "overflow": null,
      "overflow_x": null,
      "overflow_y": null,
      "padding": null,
      "right": null,
      "top": null,
      "visibility": null,
      "width": null
     }
    },
    "2c56e8a02fc7470fae07231629eda8c5": {
     "model_module": "@jupyter-widgets/controls",
     "model_module_version": "1.5.0",
     "model_name": "HTMLModel",
     "state": {
      "_dom_classes": [],
      "_model_module": "@jupyter-widgets/controls",
      "_model_module_version": "1.5.0",
      "_model_name": "HTMLModel",
      "_view_count": null,
      "_view_module": "@jupyter-widgets/controls",
      "_view_module_version": "1.5.0",
      "_view_name": "HTMLView",
      "description": "",
      "description_tooltip": null,
      "layout": "IPY_MODEL_4354a64a687c479eb081c6696135276e",
      "placeholder": "​",
      "style": "IPY_MODEL_c0dc318b293144bd99e831e3ebc16669",
      "value": "Downloading: 100%"
     }
    },
    "39693ed608ea4ebb83aff4d23421f139": {
     "model_module": "@jupyter-widgets/controls",
     "model_module_version": "1.5.0",
     "model_name": "DescriptionStyleModel",
     "state": {
      "_model_module": "@jupyter-widgets/controls",
      "_model_module_version": "1.5.0",
      "_model_name": "DescriptionStyleModel",
      "_view_count": null,
      "_view_module": "@jupyter-widgets/base",
      "_view_module_version": "1.2.0",
      "_view_name": "StyleView",
      "description_width": ""
     }
    },
    "3fa80196644c4884be80801d43bd4e5b": {
     "model_module": "@jupyter-widgets/controls",
     "model_module_version": "1.5.0",
     "model_name": "FloatProgressModel",
     "state": {
      "_dom_classes": [],
      "_model_module": "@jupyter-widgets/controls",
      "_model_module_version": "1.5.0",
      "_model_name": "FloatProgressModel",
      "_view_count": null,
      "_view_module": "@jupyter-widgets/controls",
      "_view_module_version": "1.5.0",
      "_view_name": "ProgressView",
      "bar_style": "success",
      "description": "",
      "description_tooltip": null,
      "layout": "IPY_MODEL_e8e4952047d94a898ab2b28e0dc1a3e8",
      "max": 570,
      "min": 0,
      "orientation": "horizontal",
      "style": "IPY_MODEL_9ae2317d57214e4b8c41cd6f068b768b",
      "value": 570
     }
    },
    "4354a64a687c479eb081c6696135276e": {
     "model_module": "@jupyter-widgets/base",
     "model_module_version": "1.2.0",
     "model_name": "LayoutModel",
     "state": {
      "_model_module": "@jupyter-widgets/base",
      "_model_module_version": "1.2.0",
      "_model_name": "LayoutModel",
      "_view_count": null,
      "_view_module": "@jupyter-widgets/base",
      "_view_module_version": "1.2.0",
      "_view_name": "LayoutView",
      "align_content": null,
      "align_items": null,
      "align_self": null,
      "border": null,
      "bottom": null,
      "display": null,
      "flex": null,
      "flex_flow": null,
      "grid_area": null,
      "grid_auto_columns": null,
      "grid_auto_flow": null,
      "grid_auto_rows": null,
      "grid_column": null,
      "grid_gap": null,
      "grid_row": null,
      "grid_template_areas": null,
      "grid_template_columns": null,
      "grid_template_rows": null,
      "height": null,
      "justify_content": null,
      "justify_items": null,
      "left": null,
      "margin": null,
      "max_height": null,
      "max_width": null,
      "min_height": null,
      "min_width": null,
      "object_fit": null,
      "object_position": null,
      "order": null,
      "overflow": null,
      "overflow_x": null,
      "overflow_y": null,
      "padding": null,
      "right": null,
      "top": null,
      "visibility": null,
      "width": null
     }
    },
    "4a3c056d299b4f749ecac793235a1d59": {
     "model_module": "@jupyter-widgets/base",
     "model_module_version": "1.2.0",
     "model_name": "LayoutModel",
     "state": {
      "_model_module": "@jupyter-widgets/base",
      "_model_module_version": "1.2.0",
      "_model_name": "LayoutModel",
      "_view_count": null,
      "_view_module": "@jupyter-widgets/base",
      "_view_module_version": "1.2.0",
      "_view_name": "LayoutView",
      "align_content": null,
      "align_items": null,
      "align_self": null,
      "border": null,
      "bottom": null,
      "display": null,
      "flex": null,
      "flex_flow": null,
      "grid_area": null,
      "grid_auto_columns": null,
      "grid_auto_flow": null,
      "grid_auto_rows": null,
      "grid_column": null,
      "grid_gap": null,
      "grid_row": null,
      "grid_template_areas": null,
      "grid_template_columns": null,
      "grid_template_rows": null,
      "height": null,
      "justify_content": null,
      "justify_items": null,
      "left": null,
      "margin": null,
      "max_height": null,
      "max_width": null,
      "min_height": null,
      "min_width": null,
      "object_fit": null,
      "object_position": null,
      "order": null,
      "overflow": null,
      "overflow_x": null,
      "overflow_y": null,
      "padding": null,
      "right": null,
      "top": null,
      "visibility": null,
      "width": null
     }
    },
    "4a73250d597745209f8c4e847aed81c2": {
     "model_module": "@jupyter-widgets/controls",
     "model_module_version": "1.5.0",
     "model_name": "HBoxModel",
     "state": {
      "_dom_classes": [],
      "_model_module": "@jupyter-widgets/controls",
      "_model_module_version": "1.5.0",
      "_model_name": "HBoxModel",
      "_view_count": null,
      "_view_module": "@jupyter-widgets/controls",
      "_view_module_version": "1.5.0",
      "_view_name": "HBoxView",
      "box_style": "",
      "children": [
       "IPY_MODEL_ad1fe7da4d8e4917bc1a3160bd39cecd",
       "IPY_MODEL_7df563243c1a47b8b6a097d3a827ef44",
       "IPY_MODEL_1c49d58bca7f4db6badf2e48e8f20935"
      ],
      "layout": "IPY_MODEL_6d01eacf112748008b01d6cbd5879fa2"
     }
    },
    "4e5f171740a8427fa2947814d33e2f75": {
     "model_module": "@jupyter-widgets/controls",
     "model_module_version": "1.5.0",
     "model_name": "HTMLModel",
     "state": {
      "_dom_classes": [],
      "_model_module": "@jupyter-widgets/controls",
      "_model_module_version": "1.5.0",
      "_model_name": "HTMLModel",
      "_view_count": null,
      "_view_module": "@jupyter-widgets/controls",
      "_view_module_version": "1.5.0",
      "_view_name": "HTMLView",
      "description": "",
      "description_tooltip": null,
      "layout": "IPY_MODEL_61f9d4fd8795416f8c710a6eb280a568",
      "placeholder": "​",
      "style": "IPY_MODEL_bf07573ad6e442b8b8fa56b2536b0c9e",
      "value": " 226k/226k [00:00&lt;00:00, 1.66MB/s]"
     }
    },
    "4e72ba59886e405db4ce5ba516220b42": {
     "model_module": "@jupyter-widgets/controls",
     "model_module_version": "1.5.0",
     "model_name": "ProgressStyleModel",
     "state": {
      "_model_module": "@jupyter-widgets/controls",
      "_model_module_version": "1.5.0",
      "_model_name": "ProgressStyleModel",
      "_view_count": null,
      "_view_module": "@jupyter-widgets/base",
      "_view_module_version": "1.2.0",
      "_view_name": "StyleView",
      "bar_color": null,
      "description_width": ""
     }
    },
    "4ebf099c37274118b2b041a0f32f89dd": {
     "model_module": "@jupyter-widgets/controls",
     "model_module_version": "1.5.0",
     "model_name": "DescriptionStyleModel",
     "state": {
      "_model_module": "@jupyter-widgets/controls",
      "_model_module_version": "1.5.0",
      "_model_name": "DescriptionStyleModel",
      "_view_count": null,
      "_view_module": "@jupyter-widgets/base",
      "_view_module_version": "1.2.0",
      "_view_name": "StyleView",
      "description_width": ""
     }
    },
    "4f009f0b6ec04a459d25f1af56a8dd86": {
     "model_module": "@jupyter-widgets/controls",
     "model_module_version": "1.5.0",
     "model_name": "ProgressStyleModel",
     "state": {
      "_model_module": "@jupyter-widgets/controls",
      "_model_module_version": "1.5.0",
      "_model_name": "ProgressStyleModel",
      "_view_count": null,
      "_view_module": "@jupyter-widgets/base",
      "_view_module_version": "1.2.0",
      "_view_name": "StyleView",
      "bar_color": null,
      "description_width": ""
     }
    },
    "52508dd8cd3245029e9e0ef4ba071d9b": {
     "model_module": "@jupyter-widgets/controls",
     "model_module_version": "1.5.0",
     "model_name": "DescriptionStyleModel",
     "state": {
      "_model_module": "@jupyter-widgets/controls",
      "_model_module_version": "1.5.0",
      "_model_name": "DescriptionStyleModel",
      "_view_count": null,
      "_view_module": "@jupyter-widgets/base",
      "_view_module_version": "1.2.0",
      "_view_name": "StyleView",
      "description_width": ""
     }
    },
    "533dfe2721904eb78093b8f3a3fc3519": {
     "model_module": "@jupyter-widgets/controls",
     "model_module_version": "1.5.0",
     "model_name": "HTMLModel",
     "state": {
      "_dom_classes": [],
      "_model_module": "@jupyter-widgets/controls",
      "_model_module_version": "1.5.0",
      "_model_name": "HTMLModel",
      "_view_count": null,
      "_view_module": "@jupyter-widgets/controls",
      "_view_module_version": "1.5.0",
      "_view_name": "HTMLView",
      "description": "",
      "description_tooltip": null,
      "layout": "IPY_MODEL_d523f207df8349398b59cdf9d5636f82",
      "placeholder": "​",
      "style": "IPY_MODEL_52508dd8cd3245029e9e0ef4ba071d9b",
      "value": "Downloading: 100%"
     }
    },
    "58edf9a1f9564882966c624c5f3c641f": {
     "model_module": "@jupyter-widgets/controls",
     "model_module_version": "1.5.0",
     "model_name": "DescriptionStyleModel",
     "state": {
      "_model_module": "@jupyter-widgets/controls",
      "_model_module_version": "1.5.0",
      "_model_name": "DescriptionStyleModel",
      "_view_count": null,
      "_view_module": "@jupyter-widgets/base",
      "_view_module_version": "1.2.0",
      "_view_name": "StyleView",
      "description_width": ""
     }
    },
    "5938add5414a4793b38ab077b1499468": {
     "model_module": "@jupyter-widgets/controls",
     "model_module_version": "1.5.0",
     "model_name": "HBoxModel",
     "state": {
      "_dom_classes": [],
      "_model_module": "@jupyter-widgets/controls",
      "_model_module_version": "1.5.0",
      "_model_name": "HBoxModel",
      "_view_count": null,
      "_view_module": "@jupyter-widgets/controls",
      "_view_module_version": "1.5.0",
      "_view_name": "HBoxView",
      "box_style": "",
      "children": [
       "IPY_MODEL_533dfe2721904eb78093b8f3a3fc3519",
       "IPY_MODEL_3fa80196644c4884be80801d43bd4e5b",
       "IPY_MODEL_709c33676bd84a4aaebd428294df65f8"
      ],
      "layout": "IPY_MODEL_7c3e44b6d0c349e38683874d1e7c456b"
     }
    },
    "61f9d4fd8795416f8c710a6eb280a568": {
     "model_module": "@jupyter-widgets/base",
     "model_module_version": "1.2.0",
     "model_name": "LayoutModel",
     "state": {
      "_model_module": "@jupyter-widgets/base",
      "_model_module_version": "1.2.0",
      "_model_name": "LayoutModel",
      "_view_count": null,
      "_view_module": "@jupyter-widgets/base",
      "_view_module_version": "1.2.0",
      "_view_name": "LayoutView",
      "align_content": null,
      "align_items": null,
      "align_self": null,
      "border": null,
      "bottom": null,
      "display": null,
      "flex": null,
      "flex_flow": null,
      "grid_area": null,
      "grid_auto_columns": null,
      "grid_auto_flow": null,
      "grid_auto_rows": null,
      "grid_column": null,
      "grid_gap": null,
      "grid_row": null,
      "grid_template_areas": null,
      "grid_template_columns": null,
      "grid_template_rows": null,
      "height": null,
      "justify_content": null,
      "justify_items": null,
      "left": null,
      "margin": null,
      "max_height": null,
      "max_width": null,
      "min_height": null,
      "min_width": null,
      "object_fit": null,
      "object_position": null,
      "order": null,
      "overflow": null,
      "overflow_x": null,
      "overflow_y": null,
      "padding": null,
      "right": null,
      "top": null,
      "visibility": null,
      "width": null
     }
    },
    "6d01eacf112748008b01d6cbd5879fa2": {
     "model_module": "@jupyter-widgets/base",
     "model_module_version": "1.2.0",
     "model_name": "LayoutModel",
     "state": {
      "_model_module": "@jupyter-widgets/base",
      "_model_module_version": "1.2.0",
      "_model_name": "LayoutModel",
      "_view_count": null,
      "_view_module": "@jupyter-widgets/base",
      "_view_module_version": "1.2.0",
      "_view_name": "LayoutView",
      "align_content": null,
      "align_items": null,
      "align_self": null,
      "border": null,
      "bottom": null,
      "display": null,
      "flex": null,
      "flex_flow": null,
      "grid_area": null,
      "grid_auto_columns": null,
      "grid_auto_flow": null,
      "grid_auto_rows": null,
      "grid_column": null,
      "grid_gap": null,
      "grid_row": null,
      "grid_template_areas": null,
      "grid_template_columns": null,
      "grid_template_rows": null,
      "height": null,
      "justify_content": null,
      "justify_items": null,
      "left": null,
      "margin": null,
      "max_height": null,
      "max_width": null,
      "min_height": null,
      "min_width": null,
      "object_fit": null,
      "object_position": null,
      "order": null,
      "overflow": null,
      "overflow_x": null,
      "overflow_y": null,
      "padding": null,
      "right": null,
      "top": null,
      "visibility": null,
      "width": null
     }
    },
    "6fa377506c324f3cabfdbc40fd9df7d7": {
     "model_module": "@jupyter-widgets/base",
     "model_module_version": "1.2.0",
     "model_name": "LayoutModel",
     "state": {
      "_model_module": "@jupyter-widgets/base",
      "_model_module_version": "1.2.0",
      "_model_name": "LayoutModel",
      "_view_count": null,
      "_view_module": "@jupyter-widgets/base",
      "_view_module_version": "1.2.0",
      "_view_name": "LayoutView",
      "align_content": null,
      "align_items": null,
      "align_self": null,
      "border": null,
      "bottom": null,
      "display": null,
      "flex": null,
      "flex_flow": null,
      "grid_area": null,
      "grid_auto_columns": null,
      "grid_auto_flow": null,
      "grid_auto_rows": null,
      "grid_column": null,
      "grid_gap": null,
      "grid_row": null,
      "grid_template_areas": null,
      "grid_template_columns": null,
      "grid_template_rows": null,
      "height": null,
      "justify_content": null,
      "justify_items": null,
      "left": null,
      "margin": null,
      "max_height": null,
      "max_width": null,
      "min_height": null,
      "min_width": null,
      "object_fit": null,
      "object_position": null,
      "order": null,
      "overflow": null,
      "overflow_x": null,
      "overflow_y": null,
      "padding": null,
      "right": null,
      "top": null,
      "visibility": null,
      "width": null
     }
    },
    "709c33676bd84a4aaebd428294df65f8": {
     "model_module": "@jupyter-widgets/controls",
     "model_module_version": "1.5.0",
     "model_name": "HTMLModel",
     "state": {
      "_dom_classes": [],
      "_model_module": "@jupyter-widgets/controls",
      "_model_module_version": "1.5.0",
      "_model_name": "HTMLModel",
      "_view_count": null,
      "_view_module": "@jupyter-widgets/controls",
      "_view_module_version": "1.5.0",
      "_view_name": "HTMLView",
      "description": "",
      "description_tooltip": null,
      "layout": "IPY_MODEL_8a9bc5c76298405b93ace8832d12586e",
      "placeholder": "​",
      "style": "IPY_MODEL_39693ed608ea4ebb83aff4d23421f139",
      "value": " 570/570 [00:00&lt;00:00, 22.8kB/s]"
     }
    },
    "780948229d6d4523a39ab3479600663e": {
     "model_module": "@jupyter-widgets/controls",
     "model_module_version": "1.5.0",
     "model_name": "DescriptionStyleModel",
     "state": {
      "_model_module": "@jupyter-widgets/controls",
      "_model_module_version": "1.5.0",
      "_model_name": "DescriptionStyleModel",
      "_view_count": null,
      "_view_module": "@jupyter-widgets/base",
      "_view_module_version": "1.2.0",
      "_view_name": "StyleView",
      "description_width": ""
     }
    },
    "7c3e44b6d0c349e38683874d1e7c456b": {
     "model_module": "@jupyter-widgets/base",
     "model_module_version": "1.2.0",
     "model_name": "LayoutModel",
     "state": {
      "_model_module": "@jupyter-widgets/base",
      "_model_module_version": "1.2.0",
      "_model_name": "LayoutModel",
      "_view_count": null,
      "_view_module": "@jupyter-widgets/base",
      "_view_module_version": "1.2.0",
      "_view_name": "LayoutView",
      "align_content": null,
      "align_items": null,
      "align_self": null,
      "border": null,
      "bottom": null,
      "display": null,
      "flex": null,
      "flex_flow": null,
      "grid_area": null,
      "grid_auto_columns": null,
      "grid_auto_flow": null,
      "grid_auto_rows": null,
      "grid_column": null,
      "grid_gap": null,
      "grid_row": null,
      "grid_template_areas": null,
      "grid_template_columns": null,
      "grid_template_rows": null,
      "height": null,
      "justify_content": null,
      "justify_items": null,
      "left": null,
      "margin": null,
      "max_height": null,
      "max_width": null,
      "min_height": null,
      "min_width": null,
      "object_fit": null,
      "object_position": null,
      "order": null,
      "overflow": null,
      "overflow_x": null,
      "overflow_y": null,
      "padding": null,
      "right": null,
      "top": null,
      "visibility": null,
      "width": null
     }
    },
    "7df563243c1a47b8b6a097d3a827ef44": {
     "model_module": "@jupyter-widgets/controls",
     "model_module_version": "1.5.0",
     "model_name": "FloatProgressModel",
     "state": {
      "_dom_classes": [],
      "_model_module": "@jupyter-widgets/controls",
      "_model_module_version": "1.5.0",
      "_model_name": "FloatProgressModel",
      "_view_count": null,
      "_view_module": "@jupyter-widgets/controls",
      "_view_module_version": "1.5.0",
      "_view_name": "ProgressView",
      "bar_style": "success",
      "description": "",
      "description_tooltip": null,
      "layout": "IPY_MODEL_170869304fd1408899d1e877a607076a",
      "max": 466062,
      "min": 0,
      "orientation": "horizontal",
      "style": "IPY_MODEL_4e72ba59886e405db4ce5ba516220b42",
      "value": 466062
     }
    },
    "8a9bc5c76298405b93ace8832d12586e": {
     "model_module": "@jupyter-widgets/base",
     "model_module_version": "1.2.0",
     "model_name": "LayoutModel",
     "state": {
      "_model_module": "@jupyter-widgets/base",
      "_model_module_version": "1.2.0",
      "_model_name": "LayoutModel",
      "_view_count": null,
      "_view_module": "@jupyter-widgets/base",
      "_view_module_version": "1.2.0",
      "_view_name": "LayoutView",
      "align_content": null,
      "align_items": null,
      "align_self": null,
      "border": null,
      "bottom": null,
      "display": null,
      "flex": null,
      "flex_flow": null,
      "grid_area": null,
      "grid_auto_columns": null,
      "grid_auto_flow": null,
      "grid_auto_rows": null,
      "grid_column": null,
      "grid_gap": null,
      "grid_row": null,
      "grid_template_areas": null,
      "grid_template_columns": null,
      "grid_template_rows": null,
      "height": null,
      "justify_content": null,
      "justify_items": null,
      "left": null,
      "margin": null,
      "max_height": null,
      "max_width": null,
      "min_height": null,
      "min_width": null,
      "object_fit": null,
      "object_position": null,
      "order": null,
      "overflow": null,
      "overflow_x": null,
      "overflow_y": null,
      "padding": null,
      "right": null,
      "top": null,
      "visibility": null,
      "width": null
     }
    },
    "91075f3fa46c4f4ca38ccad1c19879ac": {
     "model_module": "@jupyter-widgets/base",
     "model_module_version": "1.2.0",
     "model_name": "LayoutModel",
     "state": {
      "_model_module": "@jupyter-widgets/base",
      "_model_module_version": "1.2.0",
      "_model_name": "LayoutModel",
      "_view_count": null,
      "_view_module": "@jupyter-widgets/base",
      "_view_module_version": "1.2.0",
      "_view_name": "LayoutView",
      "align_content": null,
      "align_items": null,
      "align_self": null,
      "border": null,
      "bottom": null,
      "display": null,
      "flex": null,
      "flex_flow": null,
      "grid_area": null,
      "grid_auto_columns": null,
      "grid_auto_flow": null,
      "grid_auto_rows": null,
      "grid_column": null,
      "grid_gap": null,
      "grid_row": null,
      "grid_template_areas": null,
      "grid_template_columns": null,
      "grid_template_rows": null,
      "height": null,
      "justify_content": null,
      "justify_items": null,
      "left": null,
      "margin": null,
      "max_height": null,
      "max_width": null,
      "min_height": null,
      "min_width": null,
      "object_fit": null,
      "object_position": null,
      "order": null,
      "overflow": null,
      "overflow_x": null,
      "overflow_y": null,
      "padding": null,
      "right": null,
      "top": null,
      "visibility": null,
      "width": null
     }
    },
    "9ae2317d57214e4b8c41cd6f068b768b": {
     "model_module": "@jupyter-widgets/controls",
     "model_module_version": "1.5.0",
     "model_name": "ProgressStyleModel",
     "state": {
      "_model_module": "@jupyter-widgets/controls",
      "_model_module_version": "1.5.0",
      "_model_name": "ProgressStyleModel",
      "_view_count": null,
      "_view_module": "@jupyter-widgets/base",
      "_view_module_version": "1.2.0",
      "_view_name": "StyleView",
      "bar_color": null,
      "description_width": ""
     }
    },
    "9ae3a8e381aa4012803ffd4ff71185a6": {
     "model_module": "@jupyter-widgets/controls",
     "model_module_version": "1.5.0",
     "model_name": "ProgressStyleModel",
     "state": {
      "_model_module": "@jupyter-widgets/controls",
      "_model_module_version": "1.5.0",
      "_model_name": "ProgressStyleModel",
      "_view_count": null,
      "_view_module": "@jupyter-widgets/base",
      "_view_module_version": "1.2.0",
      "_view_name": "StyleView",
      "bar_color": null,
      "description_width": ""
     }
    },
    "9c51208e83d94de887544206f8161d6a": {
     "model_module": "@jupyter-widgets/controls",
     "model_module_version": "1.5.0",
     "model_name": "FloatProgressModel",
     "state": {
      "_dom_classes": [],
      "_model_module": "@jupyter-widgets/controls",
      "_model_module_version": "1.5.0",
      "_model_name": "FloatProgressModel",
      "_view_count": null,
      "_view_module": "@jupyter-widgets/controls",
      "_view_module_version": "1.5.0",
      "_view_name": "ProgressView",
      "bar_style": "success",
      "description": "",
      "description_tooltip": null,
      "layout": "IPY_MODEL_28db0fcf67754046b25cb276864e7c9f",
      "max": 231508,
      "min": 0,
      "orientation": "horizontal",
      "style": "IPY_MODEL_9ae3a8e381aa4012803ffd4ff71185a6",
      "value": 231508
     }
    },
    "ad1fe7da4d8e4917bc1a3160bd39cecd": {
     "model_module": "@jupyter-widgets/controls",
     "model_module_version": "1.5.0",
     "model_name": "HTMLModel",
     "state": {
      "_dom_classes": [],
      "_model_module": "@jupyter-widgets/controls",
      "_model_module_version": "1.5.0",
      "_model_name": "HTMLModel",
      "_view_count": null,
      "_view_module": "@jupyter-widgets/controls",
      "_view_module_version": "1.5.0",
      "_view_name": "HTMLView",
      "description": "",
      "description_tooltip": null,
      "layout": "IPY_MODEL_02580ce159364d1ab6f25a8a2268455c",
      "placeholder": "​",
      "style": "IPY_MODEL_780948229d6d4523a39ab3479600663e",
      "value": "Downloading: 100%"
     }
    },
    "bf07573ad6e442b8b8fa56b2536b0c9e": {
     "model_module": "@jupyter-widgets/controls",
     "model_module_version": "1.5.0",
     "model_name": "DescriptionStyleModel",
     "state": {
      "_model_module": "@jupyter-widgets/controls",
      "_model_module_version": "1.5.0",
      "_model_name": "DescriptionStyleModel",
      "_view_count": null,
      "_view_module": "@jupyter-widgets/base",
      "_view_module_version": "1.2.0",
      "_view_name": "StyleView",
      "description_width": ""
     }
    },
    "c0dc318b293144bd99e831e3ebc16669": {
     "model_module": "@jupyter-widgets/controls",
     "model_module_version": "1.5.0",
     "model_name": "DescriptionStyleModel",
     "state": {
      "_model_module": "@jupyter-widgets/controls",
      "_model_module_version": "1.5.0",
      "_model_name": "DescriptionStyleModel",
      "_view_count": null,
      "_view_module": "@jupyter-widgets/base",
      "_view_module_version": "1.2.0",
      "_view_name": "StyleView",
      "description_width": ""
     }
    },
    "c8369e431ec14a8f934e775473dc93f0": {
     "model_module": "@jupyter-widgets/controls",
     "model_module_version": "1.5.0",
     "model_name": "FloatProgressModel",
     "state": {
      "_dom_classes": [],
      "_model_module": "@jupyter-widgets/controls",
      "_model_module_version": "1.5.0",
      "_model_name": "FloatProgressModel",
      "_view_count": null,
      "_view_module": "@jupyter-widgets/controls",
      "_view_module_version": "1.5.0",
      "_view_name": "ProgressView",
      "bar_style": "success",
      "description": "",
      "description_tooltip": null,
      "layout": "IPY_MODEL_4a3c056d299b4f749ecac793235a1d59",
      "max": 28,
      "min": 0,
      "orientation": "horizontal",
      "style": "IPY_MODEL_4f009f0b6ec04a459d25f1af56a8dd86",
      "value": 28
     }
    },
    "c84b3dcdc336491684278761e1a3c35e": {
     "model_module": "@jupyter-widgets/base",
     "model_module_version": "1.2.0",
     "model_name": "LayoutModel",
     "state": {
      "_model_module": "@jupyter-widgets/base",
      "_model_module_version": "1.2.0",
      "_model_name": "LayoutModel",
      "_view_count": null,
      "_view_module": "@jupyter-widgets/base",
      "_view_module_version": "1.2.0",
      "_view_name": "LayoutView",
      "align_content": null,
      "align_items": null,
      "align_self": null,
      "border": null,
      "bottom": null,
      "display": null,
      "flex": null,
      "flex_flow": null,
      "grid_area": null,
      "grid_auto_columns": null,
      "grid_auto_flow": null,
      "grid_auto_rows": null,
      "grid_column": null,
      "grid_gap": null,
      "grid_row": null,
      "grid_template_areas": null,
      "grid_template_columns": null,
      "grid_template_rows": null,
      "height": null,
      "justify_content": null,
      "justify_items": null,
      "left": null,
      "margin": null,
      "max_height": null,
      "max_width": null,
      "min_height": null,
      "min_width": null,
      "object_fit": null,
      "object_position": null,
      "order": null,
      "overflow": null,
      "overflow_x": null,
      "overflow_y": null,
      "padding": null,
      "right": null,
      "top": null,
      "visibility": null,
      "width": null
     }
    },
    "cef3c00910484fa6aae7aa9e7802945a": {
     "model_module": "@jupyter-widgets/base",
     "model_module_version": "1.2.0",
     "model_name": "LayoutModel",
     "state": {
      "_model_module": "@jupyter-widgets/base",
      "_model_module_version": "1.2.0",
      "_model_name": "LayoutModel",
      "_view_count": null,
      "_view_module": "@jupyter-widgets/base",
      "_view_module_version": "1.2.0",
      "_view_name": "LayoutView",
      "align_content": null,
      "align_items": null,
      "align_self": null,
      "border": null,
      "bottom": null,
      "display": null,
      "flex": null,
      "flex_flow": null,
      "grid_area": null,
      "grid_auto_columns": null,
      "grid_auto_flow": null,
      "grid_auto_rows": null,
      "grid_column": null,
      "grid_gap": null,
      "grid_row": null,
      "grid_template_areas": null,
      "grid_template_columns": null,
      "grid_template_rows": null,
      "height": null,
      "justify_content": null,
      "justify_items": null,
      "left": null,
      "margin": null,
      "max_height": null,
      "max_width": null,
      "min_height": null,
      "min_width": null,
      "object_fit": null,
      "object_position": null,
      "order": null,
      "overflow": null,
      "overflow_x": null,
      "overflow_y": null,
      "padding": null,
      "right": null,
      "top": null,
      "visibility": null,
      "width": null
     }
    },
    "d0827d9d027944219a5a6142bfd09ce3": {
     "model_module": "@jupyter-widgets/controls",
     "model_module_version": "1.5.0",
     "model_name": "HTMLModel",
     "state": {
      "_dom_classes": [],
      "_model_module": "@jupyter-widgets/controls",
      "_model_module_version": "1.5.0",
      "_model_name": "HTMLModel",
      "_view_count": null,
      "_view_module": "@jupyter-widgets/controls",
      "_view_module_version": "1.5.0",
      "_view_name": "HTMLView",
      "description": "",
      "description_tooltip": null,
      "layout": "IPY_MODEL_cef3c00910484fa6aae7aa9e7802945a",
      "placeholder": "​",
      "style": "IPY_MODEL_58edf9a1f9564882966c624c5f3c641f",
      "value": "Downloading: 100%"
     }
    },
    "d523f207df8349398b59cdf9d5636f82": {
     "model_module": "@jupyter-widgets/base",
     "model_module_version": "1.2.0",
     "model_name": "LayoutModel",
     "state": {
      "_model_module": "@jupyter-widgets/base",
      "_model_module_version": "1.2.0",
      "_model_name": "LayoutModel",
      "_view_count": null,
      "_view_module": "@jupyter-widgets/base",
      "_view_module_version": "1.2.0",
      "_view_name": "LayoutView",
      "align_content": null,
      "align_items": null,
      "align_self": null,
      "border": null,
      "bottom": null,
      "display": null,
      "flex": null,
      "flex_flow": null,
      "grid_area": null,
      "grid_auto_columns": null,
      "grid_auto_flow": null,
      "grid_auto_rows": null,
      "grid_column": null,
      "grid_gap": null,
      "grid_row": null,
      "grid_template_areas": null,
      "grid_template_columns": null,
      "grid_template_rows": null,
      "height": null,
      "justify_content": null,
      "justify_items": null,
      "left": null,
      "margin": null,
      "max_height": null,
      "max_width": null,
      "min_height": null,
      "min_width": null,
      "object_fit": null,
      "object_position": null,
      "order": null,
      "overflow": null,
      "overflow_x": null,
      "overflow_y": null,
      "padding": null,
      "right": null,
      "top": null,
      "visibility": null,
      "width": null
     }
    },
    "db01da72efa7405384cbf541c0c60471": {
     "model_module": "@jupyter-widgets/controls",
     "model_module_version": "1.5.0",
     "model_name": "DescriptionStyleModel",
     "state": {
      "_model_module": "@jupyter-widgets/controls",
      "_model_module_version": "1.5.0",
      "_model_name": "DescriptionStyleModel",
      "_view_count": null,
      "_view_module": "@jupyter-widgets/base",
      "_view_module_version": "1.2.0",
      "_view_name": "StyleView",
      "description_width": ""
     }
    },
    "e2f057f5660a4dadbcabe267e6cbd67b": {
     "model_module": "@jupyter-widgets/controls",
     "model_module_version": "1.5.0",
     "model_name": "HBoxModel",
     "state": {
      "_dom_classes": [],
      "_model_module": "@jupyter-widgets/controls",
      "_model_module_version": "1.5.0",
      "_model_name": "HBoxModel",
      "_view_count": null,
      "_view_module": "@jupyter-widgets/controls",
      "_view_module_version": "1.5.0",
      "_view_name": "HBoxView",
      "box_style": "",
      "children": [
       "IPY_MODEL_2c56e8a02fc7470fae07231629eda8c5",
       "IPY_MODEL_9c51208e83d94de887544206f8161d6a",
       "IPY_MODEL_4e5f171740a8427fa2947814d33e2f75"
      ],
      "layout": "IPY_MODEL_6fa377506c324f3cabfdbc40fd9df7d7"
     }
    },
    "e8a684d715294ec58ffda8ed60fd3393": {
     "model_module": "@jupyter-widgets/controls",
     "model_module_version": "1.5.0",
     "model_name": "HBoxModel",
     "state": {
      "_dom_classes": [],
      "_model_module": "@jupyter-widgets/controls",
      "_model_module_version": "1.5.0",
      "_model_name": "HBoxModel",
      "_view_count": null,
      "_view_module": "@jupyter-widgets/controls",
      "_view_module_version": "1.5.0",
      "_view_name": "HBoxView",
      "box_style": "",
      "children": [
       "IPY_MODEL_d0827d9d027944219a5a6142bfd09ce3",
       "IPY_MODEL_c8369e431ec14a8f934e775473dc93f0",
       "IPY_MODEL_1ce07fb6604d4376a175f5f5be3dac55"
      ],
      "layout": "IPY_MODEL_c84b3dcdc336491684278761e1a3c35e"
     }
    },
    "e8e4952047d94a898ab2b28e0dc1a3e8": {
     "model_module": "@jupyter-widgets/base",
     "model_module_version": "1.2.0",
     "model_name": "LayoutModel",
     "state": {
      "_model_module": "@jupyter-widgets/base",
      "_model_module_version": "1.2.0",
      "_model_name": "LayoutModel",
      "_view_count": null,
      "_view_module": "@jupyter-widgets/base",
      "_view_module_version": "1.2.0",
      "_view_name": "LayoutView",
      "align_content": null,
      "align_items": null,
      "align_self": null,
      "border": null,
      "bottom": null,
      "display": null,
      "flex": null,
      "flex_flow": null,
      "grid_area": null,
      "grid_auto_columns": null,
      "grid_auto_flow": null,
      "grid_auto_rows": null,
      "grid_column": null,
      "grid_gap": null,
      "grid_row": null,
      "grid_template_areas": null,
      "grid_template_columns": null,
      "grid_template_rows": null,
      "height": null,
      "justify_content": null,
      "justify_items": null,
      "left": null,
      "margin": null,
      "max_height": null,
      "max_width": null,
      "min_height": null,
      "min_width": null,
      "object_fit": null,
      "object_position": null,
      "order": null,
      "overflow": null,
      "overflow_x": null,
      "overflow_y": null,
      "padding": null,
      "right": null,
      "top": null,
      "visibility": null,
      "width": null
     }
    },
    "f634294a18cd4fc9ac80b5bff7657a59": {
     "model_module": "@jupyter-widgets/base",
     "model_module_version": "1.2.0",
     "model_name": "LayoutModel",
     "state": {
      "_model_module": "@jupyter-widgets/base",
      "_model_module_version": "1.2.0",
      "_model_name": "LayoutModel",
      "_view_count": null,
      "_view_module": "@jupyter-widgets/base",
      "_view_module_version": "1.2.0",
      "_view_name": "LayoutView",
      "align_content": null,
      "align_items": null,
      "align_self": null,
      "border": null,
      "bottom": null,
      "display": null,
      "flex": null,
      "flex_flow": null,
      "grid_area": null,
      "grid_auto_columns": null,
      "grid_auto_flow": null,
      "grid_auto_rows": null,
      "grid_column": null,
      "grid_gap": null,
      "grid_row": null,
      "grid_template_areas": null,
      "grid_template_columns": null,
      "grid_template_rows": null,
      "height": null,
      "justify_content": null,
      "justify_items": null,
      "left": null,
      "margin": null,
      "max_height": null,
      "max_width": null,
      "min_height": null,
      "min_width": null,
      "object_fit": null,
      "object_position": null,
      "order": null,
      "overflow": null,
      "overflow_x": null,
      "overflow_y": null,
      "padding": null,
      "right": null,
      "top": null,
      "visibility": null,
      "width": null
     }
    }
   }
  }
 },
 "nbformat": 4,
 "nbformat_minor": 4
}
