{
 "cells": [
  {
   "cell_type": "code",
   "execution_count": 9,
   "id": "5a3c2d92-425c-4ce1-a30b-27afc3246dbc",
   "metadata": {},
   "outputs": [
    {
     "name": "stdout",
     "output_type": "stream",
     "text": [
      "Collecting plotly\n",
      "  Downloading plotly-5.20.0-py3-none-any.whl.metadata (7.0 kB)\n",
      "Collecting tenacity>=6.2.0 (from plotly)\n",
      "  Downloading tenacity-8.2.3-py3-none-any.whl.metadata (1.0 kB)\n",
      "Requirement already satisfied: packaging in c:\\users\\chan\\anaconda3\\envs\\ng\\lib\\site-packages (from plotly) (23.2)\n",
      "Downloading plotly-5.20.0-py3-none-any.whl (15.7 MB)\n",
      "   ---------------------------------------- 0.0/15.7 MB ? eta -:--:--\n",
      "   ---------------------------------------- 0.0/15.7 MB 1.4 MB/s eta 0:00:12\n",
      "   ---------------------------------------- 0.2/15.7 MB 2.4 MB/s eta 0:00:07\n",
      "    --------------------------------------- 0.3/15.7 MB 2.6 MB/s eta 0:00:06\n",
      "   - -------------------------------------- 0.5/15.7 MB 2.6 MB/s eta 0:00:06\n",
      "   - -------------------------------------- 0.6/15.7 MB 3.0 MB/s eta 0:00:06\n",
      "   -- ------------------------------------- 0.9/15.7 MB 3.2 MB/s eta 0:00:05\n",
      "   -- ------------------------------------- 1.1/15.7 MB 3.5 MB/s eta 0:00:05\n",
      "   --- ------------------------------------ 1.5/15.7 MB 4.1 MB/s eta 0:00:04\n",
      "   ----- ---------------------------------- 2.0/15.7 MB 5.0 MB/s eta 0:00:03\n",
      "   ------ --------------------------------- 2.6/15.7 MB 5.7 MB/s eta 0:00:03\n",
      "   ------- -------------------------------- 3.1/15.7 MB 6.2 MB/s eta 0:00:03\n",
      "   --------- ------------------------------ 3.7/15.7 MB 6.7 MB/s eta 0:00:02\n",
      "   ---------- ----------------------------- 4.2/15.7 MB 7.1 MB/s eta 0:00:02\n",
      "   ------------ --------------------------- 4.7/15.7 MB 7.4 MB/s eta 0:00:02\n",
      "   ------------- -------------------------- 5.3/15.7 MB 7.7 MB/s eta 0:00:02\n",
      "   -------------- ------------------------- 5.8/15.7 MB 7.9 MB/s eta 0:00:02\n",
      "   ---------------- ----------------------- 6.4/15.7 MB 8.3 MB/s eta 0:00:02\n",
      "   ------------------ --------------------- 7.1/15.7 MB 8.6 MB/s eta 0:00:02\n",
      "   ------------------- -------------------- 7.8/15.7 MB 8.8 MB/s eta 0:00:01\n",
      "   --------------------- ------------------ 8.4/15.7 MB 8.9 MB/s eta 0:00:01\n",
      "   ---------------------- ----------------- 8.9/15.7 MB 9.1 MB/s eta 0:00:01\n",
      "   ------------------------ --------------- 9.5/15.7 MB 9.2 MB/s eta 0:00:01\n",
      "   ------------------------- -------------- 10.0/15.7 MB 9.3 MB/s eta 0:00:01\n",
      "   --------------------------- ------------ 10.7/15.7 MB 10.7 MB/s eta 0:00:01\n",
      "   ---------------------------- ----------- 11.3/15.7 MB 11.5 MB/s eta 0:00:01\n",
      "   ------------------------------ --------- 11.8/15.7 MB 11.7 MB/s eta 0:00:01\n",
      "   ------------------------------- -------- 12.3/15.7 MB 11.7 MB/s eta 0:00:01\n",
      "   -------------------------------- ------- 12.9/15.7 MB 11.7 MB/s eta 0:00:01\n",
      "   ---------------------------------- ----- 13.4/15.7 MB 11.7 MB/s eta 0:00:01\n",
      "   ----------------------------------- ---- 14.0/15.7 MB 11.7 MB/s eta 0:00:01\n",
      "   ------------------------------------ --- 14.5/15.7 MB 11.7 MB/s eta 0:00:01\n",
      "   -------------------------------------- - 15.1/15.7 MB 11.7 MB/s eta 0:00:01\n",
      "   ---------------------------------------  15.6/15.7 MB 11.7 MB/s eta 0:00:01\n",
      "   ---------------------------------------- 15.7/15.7 MB 11.3 MB/s eta 0:00:00\n",
      "Downloading tenacity-8.2.3-py3-none-any.whl (24 kB)\n",
      "Installing collected packages: tenacity, plotly\n",
      "Successfully installed plotly-5.20.0 tenacity-8.2.3\n",
      "Note: you may need to restart the kernel to use updated packages.\n"
     ]
    }
   ],
   "source": [
    "pip install plotly"
   ]
  },
  {
   "cell_type": "code",
   "execution_count": 10,
   "id": "4876ae92-d5de-4f81-9004-d6c718bec079",
   "metadata": {},
   "outputs": [],
   "source": [
    "import FinanceDataReader as fdr"
   ]
  },
  {
   "cell_type": "code",
   "execution_count": 14,
   "id": "7ab0d071-ebe7-4f7b-8863-8d16c4c5d5c9",
   "metadata": {},
   "outputs": [
    {
     "data": {
      "text/plain": [
       "'MMM'"
      ]
     },
     "execution_count": 14,
     "metadata": {},
     "output_type": "execute_result"
    }
   ],
   "source": [
    "sp_df = fdr.StockListing('S&P500')\n"
   ]
  },
  {
   "cell_type": "code",
   "execution_count": 15,
   "id": "0d0cec2d-8e90-49fc-b27e-0f997ab96755",
   "metadata": {},
   "outputs": [
    {
     "data": {
      "text/plain": [
       "0       MMM\n",
       "1       AOS\n",
       "2       ABT\n",
       "3      ABBV\n",
       "4       ACN\n",
       "       ... \n",
       "498     XYL\n",
       "499     YUM\n",
       "500    ZBRA\n",
       "501     ZBH\n",
       "502     ZTS\n",
       "Name: Symbol, Length: 503, dtype: object"
      ]
     },
     "execution_count": 15,
     "metadata": {},
     "output_type": "execute_result"
    }
   ],
   "source": [
    "sp_name = sp_df['Symbol']\n",
    "sp_name"
   ]
  },
  {
   "cell_type": "code",
   "execution_count": null,
   "id": "068bceef-81c2-488d-85fc-93f4268e1767",
   "metadata": {},
   "outputs": [],
   "source": [
    "import matplotlib.pyplot as plt\n",
    "import matplotlib.dates as mdates\n",
    "\n",
    "# 시각화를 위한 데이터 준비\n",
    "dates = []  # 날짜\n",
    "capitals = [initial_capital]  # 자본 변화 기록\n",
    "\n",
    "current_capital = initial_capital  # 현재 자본을 초기화\n",
    "position = 'None'  # 현재 포지션 상태\n",
    "shares_owned = 0  # 보유 주식 수\n",
    "\n",
    "for i in range(day):\n",
    "    today_date = actual_prices.index[i]\n",
    "    today_price = actual_prices.iloc[i]\n",
    "    predicted_next_day_price = predicted_prices.iloc[i]\n",
    "\n",
    "    if i < (day - 1):  # 마지막 날짜를 제외한 모든 날에 대해 검사\n",
    "        next_day_price = actual_prices.iloc[i + 1]\n",
    "        predicted_change = predicted_next_day_price - today_price\n",
    "\n",
    "        # 매수 조건\n",
    "        if predicted_change > 0 and position != 'Hold':\n",
    "            shares_owned = current_capital / today_price\n",
    "            current_capital = 0\n",
    "            position = 'Hold'\n",
    "\n",
    "        # 매도 조건\n",
    "        elif predicted_change < 0 and position == 'Hold':\n",
    "            current_capital = shares_owned * next_day_price\n",
    "            shares_owned = 0\n",
    "            position = 'None'\n",
    "    \n",
    "    dates.append(today_date)\n",
    "    capitals.append(current_capital + (shares_owned * today_price))\n",
    "\n",
    "# 마지막 날 주식을 모두 매도하고 최종 자본 계산\n",
    "if position == 'Hold' and shares_owned > 0:\n",
    "    final_price = actual_prices.iloc[-1]\n",
    "    current_capital = shares_owned * final_price\n",
    "    shares_owned = 0\n",
    "\n",
    "dates.append(actual_prices.index[-1])\n",
    "capitals.append(current_capital)\n",
    "\n",
    "# 결과 시각화\n",
    "plt.figure(figsize=(14, 7))\n",
    "plt.plot(dates, capitals, marker='o', linestyle='-', color='b', label='자본 변화')\n",
    "plt.title('250일 동안의 자본 변화')\n",
    "plt.xlabel('날짜')\n",
    "plt.ylabel('자본 ($)')\n",
    "plt.xticks(rotation=45)\n",
    "plt.legend()\n",
    "plt.grid(True)\n",
    "\n",
    "# 날짜 축을 더 읽기 쉽게 조정\n",
    "plt.gca().xaxis.set_major_locator(mdates.MonthLocator())\n",
    "plt.gca().xaxis.set_major_formatter(mdates.DateFormatter('%Y-%m'))\n",
    "\n",
    "plt.show()\n"
   ]
  },
  {
   "cell_type": "code",
   "execution_count": null,
   "id": "326cbee5-0a02-47b7-871c-a731276fb5d4",
   "metadata": {},
   "outputs": [],
   "source": [
    "initial_capital = 1000.0  # 초기 자본\n",
    "current_capital = initial_capital  # 현재 자본, 거래 과정에서 업데이트됨\n",
    "shares_owned = 0\n",
    "position = 'None'  # 현재 포지션 상태\n",
    "day = 250\n",
    "# 시뮬레이션 수익 계산\n",
    "profit = 0.0\n",
    "\n",
    "actual_prices = df.set_index('ds')['y'][-(day+1):]  # 마지막 31일 실제 가격\n",
    "predicted_prices = forecast.set_index('ds')['yhat'][-(day+1):]\n",
    "# 날짜와 함께 매도, 매수, 보유 결과를 출력하기 위해 수정\n",
    "for i in range(day):\n",
    "    today_date = actual_prices.index[i]\n",
    "    today_price = actual_prices.iloc[i]\n",
    "    predicted_next_day_price = predicted_prices.iloc[i]\n",
    "\n",
    "    # 조건을 검사하고 매수, 매도, 보유를 결정\n",
    "    if i < (day-1):  # 마지막 날짜를 제외한 모든 날에 대해 검사\n",
    "        next_day_price = actual_prices.iloc[i+1]\n",
    "        predicted_change = predicted_next_day_price - today_price\n",
    "\n",
    "        # 매수 조건\n",
    "        if predicted_change > 0 and position != 'Hold':\n",
    "            shares_owned = current_capital / today_price\n",
    "            current_capital = 0\n",
    "            position = 'Hold'\n",
    "            print(f\"{today_date} - 매수: {today_price} (실제 다음날 가격: {next_day_price:,.3f}, 예측된 다음날 가격: {predicted_next_day_price:,.3f})\")\n",
    "\n",
    "        # 매도 조건\n",
    "        elif predicted_change < 0 and position == 'Hold':\n",
    "            current_capital = shares_owned * next_day_price\n",
    "            shares_owned = 0\n",
    "            position = 'None'\n",
    "            print(f\"{today_date} - 매도: {next_day_price} (실제 다음날 가격: {next_day_price:,.3f}, 예측된 다음날 가격: {predicted_next_day_price:,.3f})\")\n",
    "\n",
    "        # 보유 조건\n",
    "        elif position == 'Hold' and abs(predicted_change) <= 0.01 * today_price:\n",
    "            print(f\"{today_date} - 보유: {today_price}\")\n",
    "        else:\n",
    "    # 보유 또는 기타 조건 로직\n",
    "            if position == 'Hold':\n",
    "                print(f\"{today_date} - 보유: 현재 가격 {today_price:,.3f}, 예측된 다음날 가격 {predicted_next_day_price:,.3f}\")\n",
    "            else:\n",
    "                print(f\"{today_date} - 조치 없음: 현재 가격 {today_price:,.3f}, 예측된 다음날 가격 {predicted_next_day_price:,.3f}\")\n",
    "# 마지막 날 주식을 모두 매도하고 최종 자본 계산\n",
    "if position == 'Hold' and shares_owned > 0:\n",
    "    final_price = actual_prices.iloc[-1]\n",
    "    current_capital = shares_owned * final_price\n",
    "    shares_owned = 0\n",
    "    print(f\"{actual_prices.index[-1]} - 마지막 날 매도: {final_price:,.3f}\")\n",
    "\n",
    "profit = current_capital - initial_capital  # 최종 이익 계산\n",
    "return_rate = ((current_capital - initial_capital) / initial_capital) * 100\n",
    "# 결과 출력\n",
    "print(f\"초기 자본: ${initial_capital:,.3f}\")\n",
    "print(f\"최종 자본: ${current_capital:,.3f}\")\n",
    "print(f\"수익: ${profit:,.3f}\")\n",
    "print(f\"수익률: {return_rate:.2f}%\")"
   ]
  }
 ],
 "metadata": {
  "kernelspec": {
   "display_name": "Python 3 (ipykernel)",
   "language": "python",
   "name": "python3"
  },
  "language_info": {
   "codemirror_mode": {
    "name": "ipython",
    "version": 3
   },
   "file_extension": ".py",
   "mimetype": "text/x-python",
   "name": "python",
   "nbconvert_exporter": "python",
   "pygments_lexer": "ipython3",
   "version": "3.8.18"
  }
 },
 "nbformat": 4,
 "nbformat_minor": 5
}
